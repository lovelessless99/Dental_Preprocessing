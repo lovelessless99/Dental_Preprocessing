{
 "cells": [
  {
   "cell_type": "code",
   "execution_count": 1,
   "metadata": {},
   "outputs": [],
   "source": [
    "from tqdm import tqdm_notebook as tqdm\n",
    "from collections import namedtuple\n",
    "from datetime import datetime\n",
    "from itertools import chain\n",
    "from PIL import Image\n",
    "\n",
    "\n",
    "import matplotlib.pyplot as plt\n",
    "import seaborn as sns\n",
    "import pandas as pd\n",
    "import numpy as np\n",
    "import glob\n",
    "import cv2\n",
    "import os"
   ]
  },
  {
   "cell_type": "code",
   "execution_count": 2,
   "metadata": {},
   "outputs": [],
   "source": [
    "def subtract_time(subdir_time, table_time):\n",
    "        subdir_time = subdir_time.split(\" \")[1]\n",
    "        table_time  = table_time.split(\" \")[1]\n",
    "        \n",
    "        if subdir_time == table_time:\n",
    "                return 0\n",
    "        \n",
    "        subdir_time = subdir_time[:4] + \"20\" + subdir_time[4:]\n",
    "        table_time  = table_time[:4] + \"20\" + table_time[4:]\n",
    "\n",
    "        sub_convert = datetime.strptime(subdir_time  , \"%m%d%Y\")\n",
    "        table_convert = datetime.strptime(table_time, \"%m%d%Y\")\n",
    "        \n",
    "        return (table_convert - sub_convert).days"
   ]
  },
  {
   "cell_type": "code",
   "execution_count": 3,
   "metadata": {},
   "outputs": [],
   "source": [
    "def analyze_raw_data():\n",
    "        raw_data = pd.DataFrame(columns=[\"dir_name\", \"subdir_num\", \"table_num\", \"time_delta\"])\n",
    "        all_id_dir = [ i for i in glob.iglob(\"Data/*\") ]\n",
    "        Item = namedtuple(\"Item\", \"dir_name, subdir_num, table_num, time_delta\")\n",
    "        for id_dir in tqdm(all_id_dir, desc=\"Raw Data Table\"):\n",
    "                sub_dir = [ i for i in glob.iglob(\"%s/*\"     % id_dir ) if os.path.isdir(i)    ]\n",
    "                table   = [ i for i in glob.iglob(\"%s/*\"     % id_dir ) if not os.path.isdir(i) and not i.endswith(\".json\")]\n",
    "                \n",
    "                diff_time = None \n",
    "                if table:\n",
    "                        sub_dir_name, table_name = sub_dir[0], table[0]\n",
    "                        sub_dir_time   = sub_dir_name.split(\"\\\\\")[2]\n",
    "                        table_time     = table_name.split(\"\\\\\")[2]\n",
    "                        diff_time = subtract_time(sub_dir_time, table_time)\n",
    "                \n",
    "                data = Item(id_dir, len(sub_dir), len(table), diff_time)\n",
    "                data = data._asdict()\n",
    "                raw_data = raw_data.append(data, ignore_index=True)\n",
    "        return raw_data\n",
    "\n",
    "def check_id_consistence():\n",
    "        all_id_dir = [ i for i in glob.iglob(\"Data/*\") ]\n",
    "        for id_dir in all_id_dir:\n",
    "                sub_dir = [ i for i in glob.iglob(\"%s/*\"     % id_dir ) if os.path.isdir(i)    ]\n",
    "                table   = [ i for i in glob.iglob(\"%s/*\"     % id_dir ) if not os.path.isdir(i)]\n",
    "                if len(sub_dir) == 1 and len(table) == 1:\n",
    "                        sub_dir_name = sub_dir[0][sub_dir[0].rfind(\"\\\\\")+1:]\n",
    "                        table_name = table[0][table[0].rfind(\"\\\\\")+1:]\n",
    "\n",
    "                        id_dir_name = id_dir[id_dir.rfind(\"\\\\\")+1:]\n",
    "                        sub_dir_name = sub_dir_name.split(\" \")[0]\n",
    "                        table_name   = table_name.split(\" \")[0]\n",
    "\n",
    "                        if not id_dir_name == sub_dir_name == table_name:\n",
    "                                print(id_dir_name, sub_dir_name, table_name)\n",
    "\n",
    "def resolution_analyze():\n",
    "        resolution = pd.DataFrame(columns=[\"dir_name\", \"width_upper\", \"height_upper\"])\n",
    "        all_id_dir = [ i for i in glob.iglob(\"Data/*\") ]\n",
    "        Item = namedtuple(\"Item\", \"dir_name, width_upper, height_upper\")\n",
    "        for id_dir in tqdm(all_id_dir, desc=\"Resolution Data Table\"):\n",
    "                images  = [ Image.open(i).size for i in glob.iglob(\"%s/*/*\"     % id_dir)  ]\n",
    "\n",
    "                bins = np.arange(0, 3000, 100)\n",
    "                digitized = np.digitize(images, bins)\n",
    "\n",
    "                unique_w, counts_w = np.unique(digitized[:, 0], return_counts=True)\n",
    "                unique_h, counts_h = np.unique(digitized[:, 1], return_counts=True)\n",
    "\n",
    "                h_freq = np.asarray((unique_h, counts_h)).T\n",
    "                w_freq = np.asarray((unique_w, counts_w)).T\n",
    "\n",
    "                sort_h_freq = h_freq[np.argsort(h_freq[:,1])]\n",
    "                sort_w_freq = w_freq[np.argsort(w_freq[:,1])]\n",
    "\n",
    "                w_upper = max(sort_h_freq[-2:, 0])* 100\n",
    "                h_upper = max(sort_w_freq[-2:, 0])* 100\n",
    "\n",
    "\n",
    "                data = Item(id_dir, w_upper, h_upper)\n",
    "                data = data._asdict()\n",
    "                resolution = resolution.append(data, ignore_index=True)\n",
    "        return resolution\n"
   ]
  },
  {
   "cell_type": "code",
   "execution_count": 4,
   "metadata": {},
   "outputs": [],
   "source": [
    "def find_table_start_point(index_of_240):\n",
    "        start_x, start_y = 0, 0\n",
    "\n",
    "        i = 0\n",
    "        max_threshold, min_threshold = 80, 40\n",
    "        total_len = len(index_of_240[0])\n",
    "        while i < total_len:\n",
    "                sequence_len = 1\n",
    "                while i + sequence_len < total_len:\n",
    "                        if index_of_240[1][i] + sequence_len != index_of_240[1][i+sequence_len]:\n",
    "                            break\n",
    "                        sequence_len += 1\n",
    "\n",
    "                if  max_threshold >= sequence_len >= min_threshold:\n",
    "                        start_x = index_of_240[0][i]\n",
    "                        # start_y = index_of_240[1][i]\n",
    "                        break\n",
    "\n",
    "                i += sequence_len\n",
    "\n",
    "        index = index_of_240[0].tolist().index(start_x)\n",
    "        while True:\n",
    "                if  index_of_240[1][index] + 1 == index_of_240[1][ index + 1 ] and index_of_240[1][index] + 2 == index_of_240[1][ index + 2 ] and \\\n",
    "                        index_of_240[1][index] + 3 == index_of_240[1][ index + 3 ] and index_of_240[1][index] + 4 == index_of_240[1][ index + 4 ] and \\\n",
    "                        index_of_240[1][index] + 5 == index_of_240[1][ index + 5 ] and index_of_240[1][index] + 6 == index_of_240[1][ index + 6 ]:\n",
    "\n",
    "                        start_y = index_of_240[1][index]\n",
    "                        break\n",
    "                index += 1\n",
    "\n",
    "        return (start_x, start_y)\n",
    "\n",
    "def get_subseq_pair(index_of_240, start_value, direction):\n",
    "        start_end_pair = []\n",
    "        all_index = None\n",
    "        if direction == 'x':\n",
    "                all_index = [ j for i, j in zip(index_of_240[0], index_of_240[1]) if i == start_value ]\n",
    "        if direction == 'y':\n",
    "                all_index = [ i for i, j in zip(index_of_240[0], index_of_240[1]) if j == start_value ]\n",
    "\n",
    "        start = end = 0 # start index and end index\n",
    "        total_len = len(all_index)\n",
    "        i = 0\n",
    "        while i < total_len:\n",
    "                if ( (i+1) < total_len and (all_index[i] + 1) != all_index[i+1]) or (i+1 == total_len):\n",
    "                        end = i\n",
    "                        distance = all_index[end] - all_index[start]\n",
    "                        if distance > 7:\n",
    "                            start_end_pair.append((all_index[start], all_index[end]))\n",
    "                        start = end = i+1\n",
    "                i+=1\n",
    "\n",
    "        return start_end_pair\n",
    "\n",
    "def points_to_cell(point_row_list, point_col_list):\n",
    "        row = 0\n",
    "        x = [ int(i) for i in point_row_list ]\n",
    "        y = [ int(i) for i in point_col_list ]\n",
    "\n",
    "        total_row = len(point_row_list)\n",
    "        table_cells = []\n",
    "        while row < total_row:\n",
    "                col = 0\n",
    "                while col + 1 < 32:\n",
    "                        position = {\n",
    "                            \"location\": (col//2, row//2),\n",
    "                            \"corner\": [\n",
    "                                (x[row]  , y[col]  ), # upper-left  \n",
    "                                (x[row]  , y[col+1]), # upper-right\n",
    "                                (x[row+1], y[col]),   # lower-left\n",
    "                                (x[row+1], y[col+1])  # lower-right\n",
    "                            ]\n",
    "                        }\n",
    "                        table_cells.append(position)\n",
    "                        col += 2\n",
    "                row += 2\n",
    "        return table_cells\n",
    "    \n",
    "def get_table_cell_location(image_path):\n",
    "        \n",
    "        image = cv2.imread(image_path, 0)\n",
    "        index_of_240 = np.where(image==240)\n",
    "        start_point = find_table_start_point(index_of_240)\n",
    "\n",
    "\n",
    "        point_column     = get_subseq_pair(index_of_240, start_point[0], 'x') # left -> right\n",
    "        point_row        = get_subseq_pair(index_of_240, start_point[1], 'y') # top -> down    \n",
    "        point_column_second = get_subseq_pair(index_of_240, point_row[1][0], 'x')\n",
    "\n",
    "        point_column_list = [ i for i in list(chain(*point_column)) if i >= start_point[1] ]\n",
    "        point_row_list = [ i for i in list(chain(*point_row)) if i >= start_point[0] ]\n",
    "        point_column_second_list = [ i for i in list(chain(*point_column_second)) if i >= start_point[1] ]\n",
    "        table_cells = points_to_cell(point_row_list, point_column_second_list)\n",
    "\n",
    "        image = np.where(image==240, 255, 0)\n",
    "        image_color = cv2.cvtColor(image.astype(np.uint8), cv2.COLOR_GRAY2RGB)\n",
    "        for cell in table_cells:\n",
    "            for point in cell[\"corner\"]:\n",
    "                 image_color[point] = [0, 0, 255]\n",
    "        \n",
    "        return table_cells\n"
   ]
  },
  {
   "cell_type": "code",
   "execution_count": 5,
   "metadata": {},
   "outputs": [],
   "source": [
    "def statistic_cell_size(image_path ,table_situation, cell_dict):\n",
    "        \n",
    "        heights, widths = [], []\n",
    "        for item in cell_dict:\n",
    "                width = item[\"corner\"][1][1] - item[\"corner\"][0][1]\n",
    "                widths.append(width)\n",
    "\n",
    "                height = item[\"corner\"][2][0] - item[\"corner\"][0][0]\n",
    "                heights.append(height)\n",
    "\n",
    "        width_freq = np.array(np.unique(widths, return_counts=True)).T\n",
    "        height_freq = np.array(np.unique(heights, return_counts=True)).T\n",
    "        cell_same_size = True if len(height_freq) == 1 else False\n",
    "\n",
    "        item_info = {\n",
    "            \"dir_name\": image_path[:image_path.rfind(\"\\\\\")],\n",
    "            \"cell_width\" : width_freq[0, 0],\n",
    "            \"cell_height\": height_freq[0, 0],\n",
    "            \"cell_same_size\": cell_same_size\n",
    "        }\n",
    "\n",
    "        table_situation = table_situation.append(item_info, ignore_index=True)\n",
    "        return table_situation"
   ]
  },
  {
   "cell_type": "code",
   "execution_count": 6,
   "metadata": {},
   "outputs": [
    {
     "data": {
      "application/vnd.jupyter.widget-view+json": {
       "model_id": "7cffee6052a24494bed269b3cc22a201",
       "version_major": 2,
       "version_minor": 0
      },
      "text/plain": [
       "HBox(children=(IntProgress(value=0, description='Raw Data Table', max=330, style=ProgressStyle(description_wid…"
      ]
     },
     "metadata": {},
     "output_type": "display_data"
    },
    {
     "name": "stdout",
     "output_type": "stream",
     "text": [
      "\n"
     ]
    },
    {
     "data": {
      "application/vnd.jupyter.widget-view+json": {
       "model_id": "01b4c945877c409a8017806eda95e731",
       "version_major": 2,
       "version_minor": 0
      },
      "text/plain": [
       "HBox(children=(IntProgress(value=0, description='Resolution Data Table', max=330, style=ProgressStyle(descript…"
      ]
     },
     "metadata": {},
     "output_type": "display_data"
    },
    {
     "name": "stdout",
     "output_type": "stream",
     "text": [
      "\n"
     ]
    }
   ],
   "source": [
    "raw_data_table = analyze_raw_data()\n",
    "resolution = resolution_analyze()"
   ]
  },
  {
   "cell_type": "code",
   "execution_count": 7,
   "metadata": {},
   "outputs": [
    {
     "data": {
      "text/html": [
       "<div>\n",
       "<style scoped>\n",
       "    .dataframe tbody tr th:only-of-type {\n",
       "        vertical-align: middle;\n",
       "    }\n",
       "\n",
       "    .dataframe tbody tr th {\n",
       "        vertical-align: top;\n",
       "    }\n",
       "\n",
       "    .dataframe thead th {\n",
       "        text-align: right;\n",
       "    }\n",
       "</style>\n",
       "<table border=\"1\" class=\"dataframe\">\n",
       "  <thead>\n",
       "    <tr style=\"text-align: right;\">\n",
       "      <th></th>\n",
       "      <th>dir_name</th>\n",
       "      <th>subdir_num</th>\n",
       "      <th>table_num</th>\n",
       "      <th>time_delta</th>\n",
       "    </tr>\n",
       "  </thead>\n",
       "  <tbody>\n",
       "    <tr>\n",
       "      <td>0</td>\n",
       "      <td>Data\\000408</td>\n",
       "      <td>1</td>\n",
       "      <td>1</td>\n",
       "      <td>25</td>\n",
       "    </tr>\n",
       "    <tr>\n",
       "      <td>1</td>\n",
       "      <td>Data\\000411</td>\n",
       "      <td>1</td>\n",
       "      <td>1</td>\n",
       "      <td>0</td>\n",
       "    </tr>\n",
       "    <tr>\n",
       "      <td>2</td>\n",
       "      <td>Data\\001742</td>\n",
       "      <td>1</td>\n",
       "      <td>1</td>\n",
       "      <td>3</td>\n",
       "    </tr>\n",
       "    <tr>\n",
       "      <td>3</td>\n",
       "      <td>Data\\002456</td>\n",
       "      <td>1</td>\n",
       "      <td>1</td>\n",
       "      <td>98</td>\n",
       "    </tr>\n",
       "    <tr>\n",
       "      <td>4</td>\n",
       "      <td>Data\\002555</td>\n",
       "      <td>1</td>\n",
       "      <td>1</td>\n",
       "      <td>0</td>\n",
       "    </tr>\n",
       "    <tr>\n",
       "      <td>...</td>\n",
       "      <td>...</td>\n",
       "      <td>...</td>\n",
       "      <td>...</td>\n",
       "      <td>...</td>\n",
       "    </tr>\n",
       "    <tr>\n",
       "      <td>325</td>\n",
       "      <td>Data\\S469585_1</td>\n",
       "      <td>1</td>\n",
       "      <td>1</td>\n",
       "      <td>33</td>\n",
       "    </tr>\n",
       "    <tr>\n",
       "      <td>326</td>\n",
       "      <td>Data\\S469585_2</td>\n",
       "      <td>1</td>\n",
       "      <td>1</td>\n",
       "      <td>4</td>\n",
       "    </tr>\n",
       "    <tr>\n",
       "      <td>327</td>\n",
       "      <td>Data\\S594966_1</td>\n",
       "      <td>1</td>\n",
       "      <td>1</td>\n",
       "      <td>21</td>\n",
       "    </tr>\n",
       "    <tr>\n",
       "      <td>328</td>\n",
       "      <td>Data\\S594966_2</td>\n",
       "      <td>1</td>\n",
       "      <td>1</td>\n",
       "      <td>-4</td>\n",
       "    </tr>\n",
       "    <tr>\n",
       "      <td>329</td>\n",
       "      <td>Data\\S613744</td>\n",
       "      <td>1</td>\n",
       "      <td>1</td>\n",
       "      <td>14</td>\n",
       "    </tr>\n",
       "  </tbody>\n",
       "</table>\n",
       "<p>330 rows × 4 columns</p>\n",
       "</div>"
      ],
      "text/plain": [
       "           dir_name subdir_num table_num time_delta\n",
       "0       Data\\000408          1         1         25\n",
       "1       Data\\000411          1         1          0\n",
       "2       Data\\001742          1         1          3\n",
       "3       Data\\002456          1         1         98\n",
       "4       Data\\002555          1         1          0\n",
       "..              ...        ...       ...        ...\n",
       "325  Data\\S469585_1          1         1         33\n",
       "326  Data\\S469585_2          1         1          4\n",
       "327  Data\\S594966_1          1         1         21\n",
       "328  Data\\S594966_2          1         1         -4\n",
       "329    Data\\S613744          1         1         14\n",
       "\n",
       "[330 rows x 4 columns]"
      ]
     },
     "execution_count": 7,
     "metadata": {},
     "output_type": "execute_result"
    }
   ],
   "source": [
    "raw_data_table"
   ]
  },
  {
   "cell_type": "code",
   "execution_count": 8,
   "metadata": {},
   "outputs": [
    {
     "data": {
      "text/html": [
       "<div>\n",
       "<style scoped>\n",
       "    .dataframe tbody tr th:only-of-type {\n",
       "        vertical-align: middle;\n",
       "    }\n",
       "\n",
       "    .dataframe tbody tr th {\n",
       "        vertical-align: top;\n",
       "    }\n",
       "\n",
       "    .dataframe thead th {\n",
       "        text-align: right;\n",
       "    }\n",
       "</style>\n",
       "<table border=\"1\" class=\"dataframe\">\n",
       "  <thead>\n",
       "    <tr style=\"text-align: right;\">\n",
       "      <th></th>\n",
       "      <th>dir_name</th>\n",
       "      <th>width_upper</th>\n",
       "      <th>height_upper</th>\n",
       "    </tr>\n",
       "  </thead>\n",
       "  <tbody>\n",
       "    <tr>\n",
       "      <td>0</td>\n",
       "      <td>Data\\000408</td>\n",
       "      <td>800</td>\n",
       "      <td>900</td>\n",
       "    </tr>\n",
       "    <tr>\n",
       "      <td>1</td>\n",
       "      <td>Data\\000411</td>\n",
       "      <td>800</td>\n",
       "      <td>900</td>\n",
       "    </tr>\n",
       "    <tr>\n",
       "      <td>2</td>\n",
       "      <td>Data\\001742</td>\n",
       "      <td>800</td>\n",
       "      <td>800</td>\n",
       "    </tr>\n",
       "    <tr>\n",
       "      <td>3</td>\n",
       "      <td>Data\\002456</td>\n",
       "      <td>800</td>\n",
       "      <td>900</td>\n",
       "    </tr>\n",
       "    <tr>\n",
       "      <td>4</td>\n",
       "      <td>Data\\002555</td>\n",
       "      <td>800</td>\n",
       "      <td>900</td>\n",
       "    </tr>\n",
       "    <tr>\n",
       "      <td>...</td>\n",
       "      <td>...</td>\n",
       "      <td>...</td>\n",
       "      <td>...</td>\n",
       "    </tr>\n",
       "    <tr>\n",
       "      <td>325</td>\n",
       "      <td>Data\\S469585_1</td>\n",
       "      <td>800</td>\n",
       "      <td>900</td>\n",
       "    </tr>\n",
       "    <tr>\n",
       "      <td>326</td>\n",
       "      <td>Data\\S469585_2</td>\n",
       "      <td>800</td>\n",
       "      <td>900</td>\n",
       "    </tr>\n",
       "    <tr>\n",
       "      <td>327</td>\n",
       "      <td>Data\\S594966_1</td>\n",
       "      <td>800</td>\n",
       "      <td>800</td>\n",
       "    </tr>\n",
       "    <tr>\n",
       "      <td>328</td>\n",
       "      <td>Data\\S594966_2</td>\n",
       "      <td>800</td>\n",
       "      <td>900</td>\n",
       "    </tr>\n",
       "    <tr>\n",
       "      <td>329</td>\n",
       "      <td>Data\\S613744</td>\n",
       "      <td>800</td>\n",
       "      <td>900</td>\n",
       "    </tr>\n",
       "  </tbody>\n",
       "</table>\n",
       "<p>330 rows × 3 columns</p>\n",
       "</div>"
      ],
      "text/plain": [
       "           dir_name width_upper height_upper\n",
       "0       Data\\000408         800          900\n",
       "1       Data\\000411         800          900\n",
       "2       Data\\001742         800          800\n",
       "3       Data\\002456         800          900\n",
       "4       Data\\002555         800          900\n",
       "..              ...         ...          ...\n",
       "325  Data\\S469585_1         800          900\n",
       "326  Data\\S469585_2         800          900\n",
       "327  Data\\S594966_1         800          800\n",
       "328  Data\\S594966_2         800          900\n",
       "329    Data\\S613744         800          900\n",
       "\n",
       "[330 rows x 3 columns]"
      ]
     },
     "execution_count": 8,
     "metadata": {},
     "output_type": "execute_result"
    }
   ],
   "source": [
    "resolution"
   ]
  },
  {
   "cell_type": "code",
   "execution_count": 9,
   "metadata": {},
   "outputs": [
    {
     "data": {
      "application/vnd.jupyter.widget-view+json": {
       "model_id": "732c40f790424a83bf534dfc2fee2b80",
       "version_major": 2,
       "version_minor": 0
      },
      "text/plain": [
       "HBox(children=(IntProgress(value=0, max=299), HTML(value='')))"
      ]
     },
     "metadata": {},
     "output_type": "display_data"
    },
    {
     "name": "stdout",
     "output_type": "stream",
     "text": [
      "\n"
     ]
    }
   ],
   "source": [
    "table_situation = pd.DataFrame(columns=[\"dir_name\", \"cell_width\", \"cell_height\", \"cell_same_size\"])\n",
    "files = [ i for i in glob.iglob(\"Data/*/*.png\") ]\n",
    "for image_path in tqdm(files):\n",
    "        table_cell = get_table_cell_location(image_path)\n",
    "        table_situation = statistic_cell_size(image_path, table_situation, table_cell)\n",
    "        \n",
    "        \n",
    "        if len(table_cell) != 512:\n",
    "                print(\"%s don't have correct number of table cell\" % files)\n",
    "                raise ValueError"
   ]
  },
  {
   "cell_type": "code",
   "execution_count": 10,
   "metadata": {},
   "outputs": [
    {
     "data": {
      "text/html": [
       "<div>\n",
       "<style scoped>\n",
       "    .dataframe tbody tr th:only-of-type {\n",
       "        vertical-align: middle;\n",
       "    }\n",
       "\n",
       "    .dataframe tbody tr th {\n",
       "        vertical-align: top;\n",
       "    }\n",
       "\n",
       "    .dataframe thead th {\n",
       "        text-align: right;\n",
       "    }\n",
       "</style>\n",
       "<table border=\"1\" class=\"dataframe\">\n",
       "  <thead>\n",
       "    <tr style=\"text-align: right;\">\n",
       "      <th></th>\n",
       "      <th>dir_name</th>\n",
       "      <th>cell_width</th>\n",
       "      <th>cell_height</th>\n",
       "      <th>cell_same_size</th>\n",
       "    </tr>\n",
       "  </thead>\n",
       "  <tbody>\n",
       "    <tr>\n",
       "      <td>0</td>\n",
       "      <td>Data\\000408</td>\n",
       "      <td>23</td>\n",
       "      <td>9</td>\n",
       "      <td>False</td>\n",
       "    </tr>\n",
       "    <tr>\n",
       "      <td>1</td>\n",
       "      <td>Data\\000411</td>\n",
       "      <td>58</td>\n",
       "      <td>11</td>\n",
       "      <td>False</td>\n",
       "    </tr>\n",
       "    <tr>\n",
       "      <td>2</td>\n",
       "      <td>Data\\001742</td>\n",
       "      <td>61</td>\n",
       "      <td>13</td>\n",
       "      <td>True</td>\n",
       "    </tr>\n",
       "    <tr>\n",
       "      <td>3</td>\n",
       "      <td>Data\\004151</td>\n",
       "      <td>77</td>\n",
       "      <td>25</td>\n",
       "      <td>True</td>\n",
       "    </tr>\n",
       "    <tr>\n",
       "      <td>4</td>\n",
       "      <td>Data\\004359</td>\n",
       "      <td>35</td>\n",
       "      <td>13</td>\n",
       "      <td>True</td>\n",
       "    </tr>\n",
       "    <tr>\n",
       "      <td>...</td>\n",
       "      <td>...</td>\n",
       "      <td>...</td>\n",
       "      <td>...</td>\n",
       "      <td>...</td>\n",
       "    </tr>\n",
       "    <tr>\n",
       "      <td>294</td>\n",
       "      <td>Data\\S469585_1</td>\n",
       "      <td>61</td>\n",
       "      <td>13</td>\n",
       "      <td>True</td>\n",
       "    </tr>\n",
       "    <tr>\n",
       "      <td>295</td>\n",
       "      <td>Data\\S469585_2</td>\n",
       "      <td>61</td>\n",
       "      <td>13</td>\n",
       "      <td>True</td>\n",
       "    </tr>\n",
       "    <tr>\n",
       "      <td>296</td>\n",
       "      <td>Data\\S594966_1</td>\n",
       "      <td>61</td>\n",
       "      <td>13</td>\n",
       "      <td>True</td>\n",
       "    </tr>\n",
       "    <tr>\n",
       "      <td>297</td>\n",
       "      <td>Data\\S594966_2</td>\n",
       "      <td>61</td>\n",
       "      <td>13</td>\n",
       "      <td>True</td>\n",
       "    </tr>\n",
       "    <tr>\n",
       "      <td>298</td>\n",
       "      <td>Data\\S613744</td>\n",
       "      <td>61</td>\n",
       "      <td>13</td>\n",
       "      <td>True</td>\n",
       "    </tr>\n",
       "  </tbody>\n",
       "</table>\n",
       "<p>299 rows × 4 columns</p>\n",
       "</div>"
      ],
      "text/plain": [
       "           dir_name cell_width cell_height cell_same_size\n",
       "0       Data\\000408         23           9          False\n",
       "1       Data\\000411         58          11          False\n",
       "2       Data\\001742         61          13           True\n",
       "3       Data\\004151         77          25           True\n",
       "4       Data\\004359         35          13           True\n",
       "..              ...        ...         ...            ...\n",
       "294  Data\\S469585_1         61          13           True\n",
       "295  Data\\S469585_2         61          13           True\n",
       "296  Data\\S594966_1         61          13           True\n",
       "297  Data\\S594966_2         61          13           True\n",
       "298    Data\\S613744         61          13           True\n",
       "\n",
       "[299 rows x 4 columns]"
      ]
     },
     "execution_count": 10,
     "metadata": {},
     "output_type": "execute_result"
    }
   ],
   "source": [
    "table_situation"
   ]
  },
  {
   "cell_type": "code",
   "execution_count": 11,
   "metadata": {},
   "outputs": [],
   "source": [
    "overview_table = pd.merge(left=raw_data_table, right=resolution, left_on='dir_name', right_on='dir_name', how='outer')\n",
    "overview_table = pd.merge(left=overview_table, right=table_situation, left_on='dir_name', right_on='dir_name', how='outer')"
   ]
  },
  {
   "cell_type": "code",
   "execution_count": 12,
   "metadata": {},
   "outputs": [
    {
     "data": {
      "text/html": [
       "<div>\n",
       "<style scoped>\n",
       "    .dataframe tbody tr th:only-of-type {\n",
       "        vertical-align: middle;\n",
       "    }\n",
       "\n",
       "    .dataframe tbody tr th {\n",
       "        vertical-align: top;\n",
       "    }\n",
       "\n",
       "    .dataframe thead th {\n",
       "        text-align: right;\n",
       "    }\n",
       "</style>\n",
       "<table border=\"1\" class=\"dataframe\">\n",
       "  <thead>\n",
       "    <tr style=\"text-align: right;\">\n",
       "      <th></th>\n",
       "      <th>dir_name</th>\n",
       "      <th>subdir_num</th>\n",
       "      <th>table_num</th>\n",
       "      <th>time_delta</th>\n",
       "      <th>width_upper</th>\n",
       "      <th>height_upper</th>\n",
       "      <th>cell_width</th>\n",
       "      <th>cell_height</th>\n",
       "      <th>cell_same_size</th>\n",
       "    </tr>\n",
       "  </thead>\n",
       "  <tbody>\n",
       "    <tr>\n",
       "      <td>0</td>\n",
       "      <td>Data\\000408</td>\n",
       "      <td>1</td>\n",
       "      <td>1</td>\n",
       "      <td>25</td>\n",
       "      <td>800</td>\n",
       "      <td>900</td>\n",
       "      <td>23</td>\n",
       "      <td>9</td>\n",
       "      <td>False</td>\n",
       "    </tr>\n",
       "    <tr>\n",
       "      <td>1</td>\n",
       "      <td>Data\\000411</td>\n",
       "      <td>1</td>\n",
       "      <td>1</td>\n",
       "      <td>0</td>\n",
       "      <td>800</td>\n",
       "      <td>900</td>\n",
       "      <td>58</td>\n",
       "      <td>11</td>\n",
       "      <td>False</td>\n",
       "    </tr>\n",
       "    <tr>\n",
       "      <td>2</td>\n",
       "      <td>Data\\001742</td>\n",
       "      <td>1</td>\n",
       "      <td>1</td>\n",
       "      <td>3</td>\n",
       "      <td>800</td>\n",
       "      <td>800</td>\n",
       "      <td>61</td>\n",
       "      <td>13</td>\n",
       "      <td>True</td>\n",
       "    </tr>\n",
       "    <tr>\n",
       "      <td>3</td>\n",
       "      <td>Data\\002456</td>\n",
       "      <td>1</td>\n",
       "      <td>1</td>\n",
       "      <td>98</td>\n",
       "      <td>800</td>\n",
       "      <td>900</td>\n",
       "      <td>NaN</td>\n",
       "      <td>NaN</td>\n",
       "      <td>NaN</td>\n",
       "    </tr>\n",
       "    <tr>\n",
       "      <td>4</td>\n",
       "      <td>Data\\002555</td>\n",
       "      <td>1</td>\n",
       "      <td>1</td>\n",
       "      <td>0</td>\n",
       "      <td>800</td>\n",
       "      <td>900</td>\n",
       "      <td>NaN</td>\n",
       "      <td>NaN</td>\n",
       "      <td>NaN</td>\n",
       "    </tr>\n",
       "    <tr>\n",
       "      <td>...</td>\n",
       "      <td>...</td>\n",
       "      <td>...</td>\n",
       "      <td>...</td>\n",
       "      <td>...</td>\n",
       "      <td>...</td>\n",
       "      <td>...</td>\n",
       "      <td>...</td>\n",
       "      <td>...</td>\n",
       "      <td>...</td>\n",
       "    </tr>\n",
       "    <tr>\n",
       "      <td>325</td>\n",
       "      <td>Data\\S469585_1</td>\n",
       "      <td>1</td>\n",
       "      <td>1</td>\n",
       "      <td>33</td>\n",
       "      <td>800</td>\n",
       "      <td>900</td>\n",
       "      <td>61</td>\n",
       "      <td>13</td>\n",
       "      <td>True</td>\n",
       "    </tr>\n",
       "    <tr>\n",
       "      <td>326</td>\n",
       "      <td>Data\\S469585_2</td>\n",
       "      <td>1</td>\n",
       "      <td>1</td>\n",
       "      <td>4</td>\n",
       "      <td>800</td>\n",
       "      <td>900</td>\n",
       "      <td>61</td>\n",
       "      <td>13</td>\n",
       "      <td>True</td>\n",
       "    </tr>\n",
       "    <tr>\n",
       "      <td>327</td>\n",
       "      <td>Data\\S594966_1</td>\n",
       "      <td>1</td>\n",
       "      <td>1</td>\n",
       "      <td>21</td>\n",
       "      <td>800</td>\n",
       "      <td>800</td>\n",
       "      <td>61</td>\n",
       "      <td>13</td>\n",
       "      <td>True</td>\n",
       "    </tr>\n",
       "    <tr>\n",
       "      <td>328</td>\n",
       "      <td>Data\\S594966_2</td>\n",
       "      <td>1</td>\n",
       "      <td>1</td>\n",
       "      <td>-4</td>\n",
       "      <td>800</td>\n",
       "      <td>900</td>\n",
       "      <td>61</td>\n",
       "      <td>13</td>\n",
       "      <td>True</td>\n",
       "    </tr>\n",
       "    <tr>\n",
       "      <td>329</td>\n",
       "      <td>Data\\S613744</td>\n",
       "      <td>1</td>\n",
       "      <td>1</td>\n",
       "      <td>14</td>\n",
       "      <td>800</td>\n",
       "      <td>900</td>\n",
       "      <td>61</td>\n",
       "      <td>13</td>\n",
       "      <td>True</td>\n",
       "    </tr>\n",
       "  </tbody>\n",
       "</table>\n",
       "<p>330 rows × 9 columns</p>\n",
       "</div>"
      ],
      "text/plain": [
       "           dir_name subdir_num table_num time_delta width_upper height_upper  \\\n",
       "0       Data\\000408          1         1         25         800          900   \n",
       "1       Data\\000411          1         1          0         800          900   \n",
       "2       Data\\001742          1         1          3         800          800   \n",
       "3       Data\\002456          1         1         98         800          900   \n",
       "4       Data\\002555          1         1          0         800          900   \n",
       "..              ...        ...       ...        ...         ...          ...   \n",
       "325  Data\\S469585_1          1         1         33         800          900   \n",
       "326  Data\\S469585_2          1         1          4         800          900   \n",
       "327  Data\\S594966_1          1         1         21         800          800   \n",
       "328  Data\\S594966_2          1         1         -4         800          900   \n",
       "329    Data\\S613744          1         1         14         800          900   \n",
       "\n",
       "    cell_width cell_height cell_same_size  \n",
       "0           23           9          False  \n",
       "1           58          11          False  \n",
       "2           61          13           True  \n",
       "3          NaN         NaN            NaN  \n",
       "4          NaN         NaN            NaN  \n",
       "..         ...         ...            ...  \n",
       "325         61          13           True  \n",
       "326         61          13           True  \n",
       "327         61          13           True  \n",
       "328         61          13           True  \n",
       "329         61          13           True  \n",
       "\n",
       "[330 rows x 9 columns]"
      ]
     },
     "execution_count": 12,
     "metadata": {},
     "output_type": "execute_result"
    }
   ],
   "source": [
    "invalid = overview_table[overview_table.isnull().any(axis=1)].index\n",
    "invalid\n",
    "overview_table"
   ]
  },
  {
   "cell_type": "code",
   "execution_count": 13,
   "metadata": {},
   "outputs": [],
   "source": [
    "is_valids = []\n",
    "invalid_messages = []\n",
    "\n",
    "for index, row in overview_table.iterrows():\n",
    "        is_valid = True\n",
    "        invalid_message = \"\"\n",
    "        \n",
    "        if np.isnan(row[\"cell_width\"]) or not 50 < row[\"cell_width\"] < 70 or not 10 < row[\"cell_height\"] < 20 or row[\"height_upper\"] > 900 or row[\"width_upper\"] > 1000 :\n",
    "                is_valid = False\n",
    "                \n",
    "                if row[\"table_num\"] == 0:\n",
    "                        invalid_message = \"no table image\"\n",
    "                        is_valids.append(is_valid)\n",
    "                        invalid_messages.append(invalid_message)\n",
    "                        continue\n",
    "                        \n",
    "                if np.isnan(row[\"cell_width\"]):\n",
    "                        invalid_message = \"table image is jpg format\"\n",
    "                        is_valids.append(is_valid)\n",
    "                        invalid_messages.append(invalid_message)\n",
    "                        continue\n",
    "                \n",
    "                if row[\"height_upper\"] > 900 or row[\"width_upper\"] > 1000:\n",
    "                        invalid_message += \"tooth image is high-resolution \"\n",
    "                        \n",
    "                if not 50 < row[\"cell_width\"] < 70 or not 10 < row[\"cell_height\"] < 20:\n",
    "                        invalid_message += \"table cell is unhandled size\"\n",
    "                \n",
    "                \n",
    "                \n",
    "        is_valids.append(is_valid)\n",
    "        invalid_messages.append(invalid_message)\n",
    "\n",
    "overview_table[\"Valid\"] = is_valids\n",
    "overview_table[\"Note\"]  = invalid_messages"
   ]
  },
  {
   "cell_type": "code",
   "execution_count": 14,
   "metadata": {},
   "outputs": [
    {
     "data": {
      "text/html": [
       "<div>\n",
       "<style scoped>\n",
       "    .dataframe tbody tr th:only-of-type {\n",
       "        vertical-align: middle;\n",
       "    }\n",
       "\n",
       "    .dataframe tbody tr th {\n",
       "        vertical-align: top;\n",
       "    }\n",
       "\n",
       "    .dataframe thead th {\n",
       "        text-align: right;\n",
       "    }\n",
       "</style>\n",
       "<table border=\"1\" class=\"dataframe\">\n",
       "  <thead>\n",
       "    <tr style=\"text-align: right;\">\n",
       "      <th></th>\n",
       "      <th>dir_name</th>\n",
       "      <th>subdir_num</th>\n",
       "      <th>table_num</th>\n",
       "      <th>time_delta</th>\n",
       "      <th>width_upper</th>\n",
       "      <th>height_upper</th>\n",
       "      <th>cell_width</th>\n",
       "      <th>cell_height</th>\n",
       "      <th>cell_same_size</th>\n",
       "      <th>Valid</th>\n",
       "      <th>Note</th>\n",
       "    </tr>\n",
       "  </thead>\n",
       "  <tbody>\n",
       "    <tr>\n",
       "      <td>0</td>\n",
       "      <td>Data\\000408</td>\n",
       "      <td>1</td>\n",
       "      <td>1</td>\n",
       "      <td>25</td>\n",
       "      <td>800</td>\n",
       "      <td>900</td>\n",
       "      <td>23</td>\n",
       "      <td>9</td>\n",
       "      <td>False</td>\n",
       "      <td>False</td>\n",
       "      <td>table cell is unhandled size</td>\n",
       "    </tr>\n",
       "    <tr>\n",
       "      <td>1</td>\n",
       "      <td>Data\\000411</td>\n",
       "      <td>1</td>\n",
       "      <td>1</td>\n",
       "      <td>0</td>\n",
       "      <td>800</td>\n",
       "      <td>900</td>\n",
       "      <td>58</td>\n",
       "      <td>11</td>\n",
       "      <td>False</td>\n",
       "      <td>True</td>\n",
       "      <td></td>\n",
       "    </tr>\n",
       "    <tr>\n",
       "      <td>2</td>\n",
       "      <td>Data\\001742</td>\n",
       "      <td>1</td>\n",
       "      <td>1</td>\n",
       "      <td>3</td>\n",
       "      <td>800</td>\n",
       "      <td>800</td>\n",
       "      <td>61</td>\n",
       "      <td>13</td>\n",
       "      <td>True</td>\n",
       "      <td>True</td>\n",
       "      <td></td>\n",
       "    </tr>\n",
       "    <tr>\n",
       "      <td>3</td>\n",
       "      <td>Data\\002456</td>\n",
       "      <td>1</td>\n",
       "      <td>1</td>\n",
       "      <td>98</td>\n",
       "      <td>800</td>\n",
       "      <td>900</td>\n",
       "      <td>NaN</td>\n",
       "      <td>NaN</td>\n",
       "      <td>NaN</td>\n",
       "      <td>False</td>\n",
       "      <td>table image is jpg format</td>\n",
       "    </tr>\n",
       "    <tr>\n",
       "      <td>4</td>\n",
       "      <td>Data\\002555</td>\n",
       "      <td>1</td>\n",
       "      <td>1</td>\n",
       "      <td>0</td>\n",
       "      <td>800</td>\n",
       "      <td>900</td>\n",
       "      <td>NaN</td>\n",
       "      <td>NaN</td>\n",
       "      <td>NaN</td>\n",
       "      <td>False</td>\n",
       "      <td>table image is jpg format</td>\n",
       "    </tr>\n",
       "    <tr>\n",
       "      <td>...</td>\n",
       "      <td>...</td>\n",
       "      <td>...</td>\n",
       "      <td>...</td>\n",
       "      <td>...</td>\n",
       "      <td>...</td>\n",
       "      <td>...</td>\n",
       "      <td>...</td>\n",
       "      <td>...</td>\n",
       "      <td>...</td>\n",
       "      <td>...</td>\n",
       "      <td>...</td>\n",
       "    </tr>\n",
       "    <tr>\n",
       "      <td>325</td>\n",
       "      <td>Data\\S469585_1</td>\n",
       "      <td>1</td>\n",
       "      <td>1</td>\n",
       "      <td>33</td>\n",
       "      <td>800</td>\n",
       "      <td>900</td>\n",
       "      <td>61</td>\n",
       "      <td>13</td>\n",
       "      <td>True</td>\n",
       "      <td>True</td>\n",
       "      <td></td>\n",
       "    </tr>\n",
       "    <tr>\n",
       "      <td>326</td>\n",
       "      <td>Data\\S469585_2</td>\n",
       "      <td>1</td>\n",
       "      <td>1</td>\n",
       "      <td>4</td>\n",
       "      <td>800</td>\n",
       "      <td>900</td>\n",
       "      <td>61</td>\n",
       "      <td>13</td>\n",
       "      <td>True</td>\n",
       "      <td>True</td>\n",
       "      <td></td>\n",
       "    </tr>\n",
       "    <tr>\n",
       "      <td>327</td>\n",
       "      <td>Data\\S594966_1</td>\n",
       "      <td>1</td>\n",
       "      <td>1</td>\n",
       "      <td>21</td>\n",
       "      <td>800</td>\n",
       "      <td>800</td>\n",
       "      <td>61</td>\n",
       "      <td>13</td>\n",
       "      <td>True</td>\n",
       "      <td>True</td>\n",
       "      <td></td>\n",
       "    </tr>\n",
       "    <tr>\n",
       "      <td>328</td>\n",
       "      <td>Data\\S594966_2</td>\n",
       "      <td>1</td>\n",
       "      <td>1</td>\n",
       "      <td>-4</td>\n",
       "      <td>800</td>\n",
       "      <td>900</td>\n",
       "      <td>61</td>\n",
       "      <td>13</td>\n",
       "      <td>True</td>\n",
       "      <td>True</td>\n",
       "      <td></td>\n",
       "    </tr>\n",
       "    <tr>\n",
       "      <td>329</td>\n",
       "      <td>Data\\S613744</td>\n",
       "      <td>1</td>\n",
       "      <td>1</td>\n",
       "      <td>14</td>\n",
       "      <td>800</td>\n",
       "      <td>900</td>\n",
       "      <td>61</td>\n",
       "      <td>13</td>\n",
       "      <td>True</td>\n",
       "      <td>True</td>\n",
       "      <td></td>\n",
       "    </tr>\n",
       "  </tbody>\n",
       "</table>\n",
       "<p>330 rows × 11 columns</p>\n",
       "</div>"
      ],
      "text/plain": [
       "           dir_name subdir_num table_num time_delta width_upper height_upper  \\\n",
       "0       Data\\000408          1         1         25         800          900   \n",
       "1       Data\\000411          1         1          0         800          900   \n",
       "2       Data\\001742          1         1          3         800          800   \n",
       "3       Data\\002456          1         1         98         800          900   \n",
       "4       Data\\002555          1         1          0         800          900   \n",
       "..              ...        ...       ...        ...         ...          ...   \n",
       "325  Data\\S469585_1          1         1         33         800          900   \n",
       "326  Data\\S469585_2          1         1          4         800          900   \n",
       "327  Data\\S594966_1          1         1         21         800          800   \n",
       "328  Data\\S594966_2          1         1         -4         800          900   \n",
       "329    Data\\S613744          1         1         14         800          900   \n",
       "\n",
       "    cell_width cell_height cell_same_size  Valid                          Note  \n",
       "0           23           9          False  False  table cell is unhandled size  \n",
       "1           58          11          False   True                                \n",
       "2           61          13           True   True                                \n",
       "3          NaN         NaN            NaN  False     table image is jpg format  \n",
       "4          NaN         NaN            NaN  False     table image is jpg format  \n",
       "..         ...         ...            ...    ...                           ...  \n",
       "325         61          13           True   True                                \n",
       "326         61          13           True   True                                \n",
       "327         61          13           True   True                                \n",
       "328         61          13           True   True                                \n",
       "329         61          13           True   True                                \n",
       "\n",
       "[330 rows x 11 columns]"
      ]
     },
     "execution_count": 14,
     "metadata": {},
     "output_type": "execute_result"
    }
   ],
   "source": [
    "overview_table"
   ]
  },
  {
   "cell_type": "code",
   "execution_count": 15,
   "metadata": {},
   "outputs": [],
   "source": [
    "overview_table.to_csv(\"Overview.csv\", index=False, sep=\",\")"
   ]
  },
  {
   "cell_type": "code",
   "execution_count": null,
   "metadata": {},
   "outputs": [],
   "source": []
  }
 ],
 "metadata": {
  "kernelspec": {
   "display_name": "Python 3",
   "language": "python",
   "name": "python3"
  },
  "language_info": {
   "codemirror_mode": {
    "name": "ipython",
    "version": 3
   },
   "file_extension": ".py",
   "mimetype": "text/x-python",
   "name": "python",
   "nbconvert_exporter": "python",
   "pygments_lexer": "ipython3",
   "version": "3.7.4"
  },
  "widgets": {
   "application/vnd.jupyter.widget-state+json": {
    "state": {
     "00f96c7231974da2af1a404d28fe60c4": {
      "model_module": "@jupyter-widgets/base",
      "model_module_version": "1.2.0",
      "model_name": "LayoutModel",
      "state": {}
     },
     "01b4c945877c409a8017806eda95e731": {
      "model_module": "@jupyter-widgets/controls",
      "model_module_version": "1.5.0",
      "model_name": "HBoxModel",
      "state": {
       "children": [
        "IPY_MODEL_74777867a4a54a2fbaaf61a50e5bd206",
        "IPY_MODEL_c679f8163eb94f11a53ef7ed5b2eaa2a"
       ],
       "layout": "IPY_MODEL_2aafb40ee9fe42d18b13a7fe0e7cc581"
      }
     },
     "01caafc8259d4bd7b9e358cfec5b3326": {
      "model_module": "@jupyter-widgets/controls",
      "model_module_version": "1.5.0",
      "model_name": "HBoxModel",
      "state": {
       "children": [
        "IPY_MODEL_bc77dab5de204cf3b32ca99b2f6b9f00",
        "IPY_MODEL_7dd53ed25b0942e4a3cb1c827e0a821c"
       ],
       "layout": "IPY_MODEL_908a007e6f334ff598bbebdaac7b0cfd"
      }
     },
     "02cd77ecb31240beb79722a21470814d": {
      "model_module": "@jupyter-widgets/controls",
      "model_module_version": "1.5.0",
      "model_name": "HBoxModel",
      "state": {
       "children": [
        "IPY_MODEL_8b706038130d4c6da6b480fcd809c9ff",
        "IPY_MODEL_8dcbbc88d3ec4f8b821166d669f9afef"
       ],
       "layout": "IPY_MODEL_0b11628e01a3498abb3aaa9ff43b3edf"
      }
     },
     "03217ff57e2c4bcd8d62ee1dcf76cc6c": {
      "model_module": "@jupyter-widgets/controls",
      "model_module_version": "1.5.0",
      "model_name": "HBoxModel",
      "state": {
       "children": [
        "IPY_MODEL_be12158844d847bb9c1bd67e88620698",
        "IPY_MODEL_e748b3ce29bf46be9bce073b9508e4a6"
       ],
       "layout": "IPY_MODEL_3462442aafff4018a24f6d65c1d9e162"
      }
     },
     "0331ac42ee934a2b93a93a7e1990b898": {
      "model_module": "@jupyter-widgets/base",
      "model_module_version": "1.2.0",
      "model_name": "LayoutModel",
      "state": {}
     },
     "035291654f1d4e19a1f48909d7092689": {
      "model_module": "@jupyter-widgets/base",
      "model_module_version": "1.2.0",
      "model_name": "LayoutModel",
      "state": {}
     },
     "057a361f44964677b5868e57de8e4b3b": {
      "model_module": "@jupyter-widgets/controls",
      "model_module_version": "1.5.0",
      "model_name": "DescriptionStyleModel",
      "state": {
       "description_width": ""
      }
     },
     "064135e3306a4ef98443a8ce7f36f36d": {
      "model_module": "@jupyter-widgets/controls",
      "model_module_version": "1.5.0",
      "model_name": "ProgressStyleModel",
      "state": {
       "description_width": "initial"
      }
     },
     "070d09cdbcc642ec8e26af569b78f94d": {
      "model_module": "@jupyter-widgets/base",
      "model_module_version": "1.2.0",
      "model_name": "LayoutModel",
      "state": {}
     },
     "077f99b4a3634111ab9f51179792067b": {
      "model_module": "@jupyter-widgets/controls",
      "model_module_version": "1.5.0",
      "model_name": "DescriptionStyleModel",
      "state": {
       "description_width": ""
      }
     },
     "0827b94557aa4843af52046c5c2c7752": {
      "model_module": "@jupyter-widgets/base",
      "model_module_version": "1.2.0",
      "model_name": "LayoutModel",
      "state": {}
     },
     "08bdaa6a195843a6bc0b1394d941afad": {
      "model_module": "@jupyter-widgets/controls",
      "model_module_version": "1.5.0",
      "model_name": "DescriptionStyleModel",
      "state": {
       "description_width": ""
      }
     },
     "08d5b5bfa13f4fd2ac1b6377d2e1e8fe": {
      "model_module": "@jupyter-widgets/controls",
      "model_module_version": "1.5.0",
      "model_name": "DescriptionStyleModel",
      "state": {
       "description_width": ""
      }
     },
     "0a90c398a43b4aba992209fbd14c41e3": {
      "model_module": "@jupyter-widgets/base",
      "model_module_version": "1.2.0",
      "model_name": "LayoutModel",
      "state": {}
     },
     "0b11628e01a3498abb3aaa9ff43b3edf": {
      "model_module": "@jupyter-widgets/base",
      "model_module_version": "1.2.0",
      "model_name": "LayoutModel",
      "state": {}
     },
     "0bcd4bb96a054f4aa11d49a533cfbaa0": {
      "model_module": "@jupyter-widgets/controls",
      "model_module_version": "1.5.0",
      "model_name": "HTMLModel",
      "state": {
       "layout": "IPY_MODEL_fc8e71148d634349ab966040d1c2e22e",
       "style": "IPY_MODEL_dcaa1e7dbb8143b1a1142ded145aa2c7",
       "value": " 330/330 [00:43&lt;00:00,  7.59it/s]"
      }
     },
     "0bf50767152741d982c756cde0e74d65": {
      "model_module": "@jupyter-widgets/base",
      "model_module_version": "1.2.0",
      "model_name": "LayoutModel",
      "state": {}
     },
     "0e428a6dd3cd47038ce1d1903640df3a": {
      "model_module": "@jupyter-widgets/base",
      "model_module_version": "1.2.0",
      "model_name": "LayoutModel",
      "state": {}
     },
     "0f8be77172464bdcba0aac0c206424eb": {
      "model_module": "@jupyter-widgets/base",
      "model_module_version": "1.2.0",
      "model_name": "LayoutModel",
      "state": {}
     },
     "113d5155ba3241078c86782845f6b3ce": {
      "model_module": "@jupyter-widgets/controls",
      "model_module_version": "1.5.0",
      "model_name": "ProgressStyleModel",
      "state": {
       "description_width": "initial"
      }
     },
     "127d62fb733f477b9d81025077032e27": {
      "model_module": "@jupyter-widgets/controls",
      "model_module_version": "1.5.0",
      "model_name": "HTMLModel",
      "state": {
       "layout": "IPY_MODEL_f4cee4bcfb56438bba8406823196d958",
       "style": "IPY_MODEL_ba0ebcaf0d254b98aae796843f8b32e3",
       "value": " 50/330 [00:45&lt;04:17,  1.09it/s]"
      }
     },
     "129e45b3f1004646b3a96e2ee21d24aa": {
      "model_module": "@jupyter-widgets/controls",
      "model_module_version": "1.5.0",
      "model_name": "IntProgressModel",
      "state": {
       "bar_style": "success",
       "description": "Resolution Table: 100%",
       "layout": "IPY_MODEL_1c874596c5aa4fc7bd71412c6b9c624b",
       "max": 330,
       "style": "IPY_MODEL_a0cfa0fe84c74b379e5319776513a8ff",
       "value": 330
      }
     },
     "12d29ab707d94760842851791fa897be": {
      "model_module": "@jupyter-widgets/controls",
      "model_module_version": "1.5.0",
      "model_name": "HBoxModel",
      "state": {
       "children": [
        "IPY_MODEL_3882d88378a341f190a6a778605e8c97",
        "IPY_MODEL_127d62fb733f477b9d81025077032e27"
       ],
       "layout": "IPY_MODEL_68e6095eb6ad40c4ab2f4ab25c9b1a64"
      }
     },
     "131dc0cced354469986bedfb8fd17731": {
      "model_module": "@jupyter-widgets/base",
      "model_module_version": "1.2.0",
      "model_name": "LayoutModel",
      "state": {}
     },
     "13cc716a87a748d2afa4ef7eb5b9e49b": {
      "model_module": "@jupyter-widgets/controls",
      "model_module_version": "1.5.0",
      "model_name": "IntProgressModel",
      "state": {
       "bar_style": "success",
       "description": "Raw Data Table: 100%",
       "layout": "IPY_MODEL_22cde9659dc846d189a6e2d21ceb81e4",
       "max": 330,
       "style": "IPY_MODEL_8333cd333d5b403085ec366c9f456dd7",
       "value": 330
      }
     },
     "14fa237c1e81469b885d03c33850b355": {
      "model_module": "@jupyter-widgets/controls",
      "model_module_version": "1.5.0",
      "model_name": "HTMLModel",
      "state": {
       "layout": "IPY_MODEL_0a90c398a43b4aba992209fbd14c41e3",
       "style": "IPY_MODEL_ccf519433b20466aa3d66dbf83425bd8",
       "value": " 0/330 [02:11&lt;?, ?it/s]"
      }
     },
     "158dec4de133430ebf0c691378b2753c": {
      "model_module": "@jupyter-widgets/base",
      "model_module_version": "1.2.0",
      "model_name": "LayoutModel",
      "state": {}
     },
     "161ed97f4984419595a9d931eb99f567": {
      "model_module": "@jupyter-widgets/controls",
      "model_module_version": "1.5.0",
      "model_name": "HBoxModel",
      "state": {
       "children": [
        "IPY_MODEL_13cc716a87a748d2afa4ef7eb5b9e49b",
        "IPY_MODEL_6684332bfff448cc99a70501cf14c205"
       ],
       "layout": "IPY_MODEL_924115a0803a449f9568ad4a2ae62a64"
      }
     },
     "16f04cf1bfb6448684b2aa35fcb753f2": {
      "model_module": "@jupyter-widgets/base",
      "model_module_version": "1.2.0",
      "model_name": "LayoutModel",
      "state": {}
     },
     "17f9fd2a6033400bac8b5b1745647f51": {
      "model_module": "@jupyter-widgets/base",
      "model_module_version": "1.2.0",
      "model_name": "LayoutModel",
      "state": {}
     },
     "1907b883e3f14e5b9de23ca209d6b87a": {
      "model_module": "@jupyter-widgets/controls",
      "model_module_version": "1.5.0",
      "model_name": "DescriptionStyleModel",
      "state": {
       "description_width": ""
      }
     },
     "19441e67547247e4b4435280d8c15903": {
      "model_module": "@jupyter-widgets/controls",
      "model_module_version": "1.5.0",
      "model_name": "IntProgressModel",
      "state": {
       "bar_style": "success",
       "description": "100%",
       "layout": "IPY_MODEL_d1544a196a044b4cb8c3165b50a532e3",
       "max": 299,
       "style": "IPY_MODEL_d38a4f4ebea54ceb9a4df6fd3a909951",
       "value": 299
      }
     },
     "1c2f03a49c4346988aa77240131a3db4": {
      "model_module": "@jupyter-widgets/controls",
      "model_module_version": "1.5.0",
      "model_name": "HTMLModel",
      "state": {
       "layout": "IPY_MODEL_74f1a85465904ce398c62a8b37767d73",
       "style": "IPY_MODEL_057a361f44964677b5868e57de8e4b3b",
       "value": " 0/299 [00:07&lt;?, ?it/s]"
      }
     },
     "1c874596c5aa4fc7bd71412c6b9c624b": {
      "model_module": "@jupyter-widgets/base",
      "model_module_version": "1.2.0",
      "model_name": "LayoutModel",
      "state": {}
     },
     "1d60fbe66232460aad4e8d262d72b258": {
      "model_module": "@jupyter-widgets/base",
      "model_module_version": "1.2.0",
      "model_name": "LayoutModel",
      "state": {}
     },
     "1da95c676478495aa6af212412bfccb6": {
      "model_module": "@jupyter-widgets/controls",
      "model_module_version": "1.5.0",
      "model_name": "IntProgressModel",
      "state": {
       "bar_style": "success",
       "description": "100%",
       "layout": "IPY_MODEL_2bd3b13625ab4a688c0baf8416ed42ea",
       "max": 299,
       "style": "IPY_MODEL_52f9981828e047749068384f095dfb38",
       "value": 299
      }
     },
     "1ebbe58a7404493babce33be55597cee": {
      "model_module": "@jupyter-widgets/controls",
      "model_module_version": "1.5.0",
      "model_name": "IntProgressModel",
      "state": {
       "bar_style": "success",
       "description": "100%",
       "layout": "IPY_MODEL_6973e0da77784c9983e00e5fef4024ee",
       "max": 299,
       "style": "IPY_MODEL_9d9303d20aaa42b9a66fad569f913804",
       "value": 299
      }
     },
     "1f361a5980774a0d9fc0d04db9745816": {
      "model_module": "@jupyter-widgets/controls",
      "model_module_version": "1.5.0",
      "model_name": "ProgressStyleModel",
      "state": {
       "description_width": "initial"
      }
     },
     "1fa86fade3dc420b84bafef532eb9a9a": {
      "model_module": "@jupyter-widgets/base",
      "model_module_version": "1.2.0",
      "model_name": "LayoutModel",
      "state": {}
     },
     "21b26351256e497b993b14ecc5bd6414": {
      "model_module": "@jupyter-widgets/base",
      "model_module_version": "1.2.0",
      "model_name": "LayoutModel",
      "state": {}
     },
     "22cde9659dc846d189a6e2d21ceb81e4": {
      "model_module": "@jupyter-widgets/base",
      "model_module_version": "1.2.0",
      "model_name": "LayoutModel",
      "state": {}
     },
     "23994aded206439d8fbd803e2723a9e1": {
      "model_module": "@jupyter-widgets/controls",
      "model_module_version": "1.5.0",
      "model_name": "DescriptionStyleModel",
      "state": {
       "description_width": ""
      }
     },
     "24a3201da8744deca7ffbb51a1cbb396": {
      "model_module": "@jupyter-widgets/controls",
      "model_module_version": "1.5.0",
      "model_name": "IntProgressModel",
      "state": {
       "bar_style": "danger",
       "description": "Raw Data Table:   0%",
       "layout": "IPY_MODEL_00f96c7231974da2af1a404d28fe60c4",
       "max": 330,
       "style": "IPY_MODEL_064135e3306a4ef98443a8ce7f36f36d"
      }
     },
     "25e2b042678d4433be85d83eedb91655": {
      "model_module": "@jupyter-widgets/controls",
      "model_module_version": "1.5.0",
      "model_name": "IntProgressModel",
      "state": {
       "bar_style": "success",
       "description": "Resolution Data Table: 100%",
       "layout": "IPY_MODEL_0bf50767152741d982c756cde0e74d65",
       "max": 330,
       "style": "IPY_MODEL_662f0058eb6d4a6b8a7cd63ab07c2e1d",
       "value": 330
      }
     },
     "269be4ba169e4b9f8a6152734a678192": {
      "model_module": "@jupyter-widgets/controls",
      "model_module_version": "1.5.0",
      "model_name": "HBoxModel",
      "state": {
       "children": [
        "IPY_MODEL_1ebbe58a7404493babce33be55597cee",
        "IPY_MODEL_8ac63e88f5264d7f862b68d9d537286a"
       ],
       "layout": "IPY_MODEL_41707a7a102348c292a3b7bfbff91bad"
      }
     },
     "26f1d919f7b54f4cbcd0055cbcb063bb": {
      "model_module": "@jupyter-widgets/base",
      "model_module_version": "1.2.0",
      "model_name": "LayoutModel",
      "state": {}
     },
     "27e2dc997ef44430ac1734d9b5554363": {
      "model_module": "@jupyter-widgets/base",
      "model_module_version": "1.2.0",
      "model_name": "LayoutModel",
      "state": {}
     },
     "288bbbef07b8415b915a62de34ab2d43": {
      "model_module": "@jupyter-widgets/controls",
      "model_module_version": "1.5.0",
      "model_name": "HBoxModel",
      "state": {
       "children": [
        "IPY_MODEL_4f5eab0df66a4c97b32059891a248bd1",
        "IPY_MODEL_e2f6fbde6cb24581933a54affbe61264"
       ],
       "layout": "IPY_MODEL_92569aae8932443b998d0b5384e72243"
      }
     },
     "293726fc0b8744b7a06b3d1a17481f21": {
      "model_module": "@jupyter-widgets/controls",
      "model_module_version": "1.5.0",
      "model_name": "HBoxModel",
      "state": {
       "children": [
        "IPY_MODEL_6836201d1b5241c6b9a7f839549c9948",
        "IPY_MODEL_cd8ba711592e47afbe6968115e78b2b3"
       ],
       "layout": "IPY_MODEL_dbe97876625f4edc9b4329c008a8917e"
      }
     },
     "297613c55db2495fa44ac8ca34943ac2": {
      "model_module": "@jupyter-widgets/controls",
      "model_module_version": "1.5.0",
      "model_name": "DescriptionStyleModel",
      "state": {
       "description_width": ""
      }
     },
     "2a34d0a399674c54be9d11ad1d48322e": {
      "model_module": "@jupyter-widgets/base",
      "model_module_version": "1.2.0",
      "model_name": "LayoutModel",
      "state": {}
     },
     "2aafb40ee9fe42d18b13a7fe0e7cc581": {
      "model_module": "@jupyter-widgets/base",
      "model_module_version": "1.2.0",
      "model_name": "LayoutModel",
      "state": {}
     },
     "2b2d6dbb1cb74bed9a912024a76ec287": {
      "model_module": "@jupyter-widgets/controls",
      "model_module_version": "1.5.0",
      "model_name": "IntProgressModel",
      "state": {
       "bar_style": "success",
       "description": "Raw Data Table: 100%",
       "layout": "IPY_MODEL_302eb5ecf6b34736950228d2bd1d300d",
       "max": 330,
       "style": "IPY_MODEL_600006e0db9c408c83e2a21002506605",
       "value": 330
      }
     },
     "2bd3b13625ab4a688c0baf8416ed42ea": {
      "model_module": "@jupyter-widgets/base",
      "model_module_version": "1.2.0",
      "model_name": "LayoutModel",
      "state": {}
     },
     "2c9e586b107f4d129e4ca097c7154a70": {
      "model_module": "@jupyter-widgets/controls",
      "model_module_version": "1.5.0",
      "model_name": "HTMLModel",
      "state": {
       "layout": "IPY_MODEL_7f2d775505ba40a1bf1306409c0bc5f5",
       "style": "IPY_MODEL_08d5b5bfa13f4fd2ac1b6377d2e1e8fe",
       "value": " 330/330 [00:05&lt;00:00, 62.77it/s]"
      }
     },
     "2d15436dbaa2474e8ea16ded85c3108b": {
      "model_module": "@jupyter-widgets/base",
      "model_module_version": "1.2.0",
      "model_name": "LayoutModel",
      "state": {}
     },
     "2dfcfa1dd07c4a6d94e9f2b0fbdc0343": {
      "model_module": "@jupyter-widgets/controls",
      "model_module_version": "1.5.0",
      "model_name": "ProgressStyleModel",
      "state": {
       "description_width": "initial"
      }
     },
     "2e9732f9896143968bd59eef6eef2122": {
      "model_module": "@jupyter-widgets/controls",
      "model_module_version": "1.5.0",
      "model_name": "HTMLModel",
      "state": {
       "layout": "IPY_MODEL_a661fc8c4537427a8f7a9cb1555875f4",
       "style": "IPY_MODEL_3d9b001053b848a3849673d04afd6a66",
       "value": " 330/330 [00:06&lt;00:00, 50.54it/s]"
      }
     },
     "2f2c6d4499914565ae1c43bfb63a95dc": {
      "model_module": "@jupyter-widgets/controls",
      "model_module_version": "1.5.0",
      "model_name": "IntProgressModel",
      "state": {
       "bar_style": "success",
       "description": "Raw Data Table: 100%",
       "layout": "IPY_MODEL_d0082ae24c2644ae838a81503fdd08a4",
       "max": 330,
       "style": "IPY_MODEL_cbd7901295704ccca3015032f0d9036f",
       "value": 330
      }
     },
     "3025822bdb5c4f668b761c25e0023880": {
      "model_module": "@jupyter-widgets/controls",
      "model_module_version": "1.5.0",
      "model_name": "ProgressStyleModel",
      "state": {
       "description_width": "initial"
      }
     },
     "302eb5ecf6b34736950228d2bd1d300d": {
      "model_module": "@jupyter-widgets/base",
      "model_module_version": "1.2.0",
      "model_name": "LayoutModel",
      "state": {}
     },
     "308e3af82bfd4d6db1103c95d06624b6": {
      "model_module": "@jupyter-widgets/controls",
      "model_module_version": "1.5.0",
      "model_name": "HBoxModel",
      "state": {
       "children": [
        "IPY_MODEL_ad3750863a2e411d885e1d68d37f70ab",
        "IPY_MODEL_71fee8fb3cb94640a3c12e0b12d56b13"
       ],
       "layout": "IPY_MODEL_17f9fd2a6033400bac8b5b1745647f51"
      }
     },
     "30923c5b6460440ea5060fd77c2d4f9f": {
      "model_module": "@jupyter-widgets/controls",
      "model_module_version": "1.5.0",
      "model_name": "ProgressStyleModel",
      "state": {
       "description_width": "initial"
      }
     },
     "30e2bb28e07e41d983ad44174f001ace": {
      "model_module": "@jupyter-widgets/controls",
      "model_module_version": "1.5.0",
      "model_name": "ProgressStyleModel",
      "state": {
       "description_width": "initial"
      }
     },
     "318b5835741447afa6131e7bc7fe83ef": {
      "model_module": "@jupyter-widgets/base",
      "model_module_version": "1.2.0",
      "model_name": "LayoutModel",
      "state": {}
     },
     "31e18e641e944c4a97182e4e6ed3387a": {
      "model_module": "@jupyter-widgets/base",
      "model_module_version": "1.2.0",
      "model_name": "LayoutModel",
      "state": {}
     },
     "32e8fb72913f4d9aaa0922bdd23c1b35": {
      "model_module": "@jupyter-widgets/base",
      "model_module_version": "1.2.0",
      "model_name": "LayoutModel",
      "state": {}
     },
     "3462442aafff4018a24f6d65c1d9e162": {
      "model_module": "@jupyter-widgets/base",
      "model_module_version": "1.2.0",
      "model_name": "LayoutModel",
      "state": {}
     },
     "36b45a7209c441829dff9245c515beb9": {
      "model_module": "@jupyter-widgets/controls",
      "model_module_version": "1.5.0",
      "model_name": "HTMLModel",
      "state": {
       "layout": "IPY_MODEL_318b5835741447afa6131e7bc7fe83ef",
       "style": "IPY_MODEL_d2677c613f9840518e0cbc1d5a549896",
       "value": " 330/330 [00:05&lt;00:00, 61.81it/s]"
      }
     },
     "37fdf40b20c745e29d4d027633e12907": {
      "model_module": "@jupyter-widgets/controls",
      "model_module_version": "1.5.0",
      "model_name": "IntProgressModel",
      "state": {
       "bar_style": "success",
       "description": "100%",
       "layout": "IPY_MODEL_e7d2f5b72ed348299925406aa7c14fd1",
       "max": 299,
       "style": "IPY_MODEL_30e2bb28e07e41d983ad44174f001ace",
       "value": 299
      }
     },
     "3882d88378a341f190a6a778605e8c97": {
      "model_module": "@jupyter-widgets/controls",
      "model_module_version": "1.5.0",
      "model_name": "IntProgressModel",
      "state": {
       "bar_style": "danger",
       "description": "Resolution Data Table:  15%",
       "layout": "IPY_MODEL_cd17497ea09e450db4d047025a84881a",
       "max": 330,
       "style": "IPY_MODEL_3025822bdb5c4f668b761c25e0023880",
       "value": 50
      }
     },
     "3897afdfa0564147b808efa11244bf6e": {
      "model_module": "@jupyter-widgets/base",
      "model_module_version": "1.2.0",
      "model_name": "LayoutModel",
      "state": {}
     },
     "38c6215ae52848fead8115e25718d1dc": {
      "model_module": "@jupyter-widgets/controls",
      "model_module_version": "1.5.0",
      "model_name": "DescriptionStyleModel",
      "state": {
       "description_width": ""
      }
     },
     "39dc9c96b6f14d878890390f50e7a93e": {
      "model_module": "@jupyter-widgets/controls",
      "model_module_version": "1.5.0",
      "model_name": "IntProgressModel",
      "state": {
       "bar_style": "success",
       "description": "Raw Data Table: 100%",
       "layout": "IPY_MODEL_9f8fa24ec233447b9083136c9754a83a",
       "max": 330,
       "style": "IPY_MODEL_e87b8f72ca184e23855493c356073cfd",
       "value": 330
      }
     },
     "3a496cd0713741e384b656c9fdae5d13": {
      "model_module": "@jupyter-widgets/controls",
      "model_module_version": "1.5.0",
      "model_name": "DescriptionStyleModel",
      "state": {
       "description_width": ""
      }
     },
     "3aa239749997434c9a55be28c26caf97": {
      "model_module": "@jupyter-widgets/controls",
      "model_module_version": "1.5.0",
      "model_name": "IntProgressModel",
      "state": {
       "bar_style": "success",
       "description": "100%",
       "layout": "IPY_MODEL_7c3dce24477d4e778226222a901bf96a",
       "max": 330,
       "style": "IPY_MODEL_4916d6cd86294603941a0ba67b7385c1",
       "value": 330
      }
     },
     "3cf8c759866b4dc79dca31e602c2511b": {
      "model_module": "@jupyter-widgets/controls",
      "model_module_version": "1.5.0",
      "model_name": "ProgressStyleModel",
      "state": {
       "description_width": "initial"
      }
     },
     "3d9b001053b848a3849673d04afd6a66": {
      "model_module": "@jupyter-widgets/controls",
      "model_module_version": "1.5.0",
      "model_name": "DescriptionStyleModel",
      "state": {
       "description_width": ""
      }
     },
     "3df0eb93303843f6a406e6544da1997a": {
      "model_module": "@jupyter-widgets/controls",
      "model_module_version": "1.5.0",
      "model_name": "HBoxModel",
      "state": {
       "children": [
        "IPY_MODEL_2b2d6dbb1cb74bed9a912024a76ec287",
        "IPY_MODEL_5d3fb244e11d4901885e1290d6711108"
       ],
       "layout": "IPY_MODEL_6ef0cdc44327462a818d62d26812e5ea"
      }
     },
     "3f6eba0a26eb4755b0eded9a49ebf951": {
      "model_module": "@jupyter-widgets/controls",
      "model_module_version": "1.5.0",
      "model_name": "HBoxModel",
      "state": {
       "children": [
        "IPY_MODEL_e47d2761ac014a8ebfa3405734b60896",
        "IPY_MODEL_aa586c61a6dc48e6b918f800e4d2b352"
       ],
       "layout": "IPY_MODEL_a29a18f776344285abd503e1b21ac6b9"
      }
     },
     "41707a7a102348c292a3b7bfbff91bad": {
      "model_module": "@jupyter-widgets/base",
      "model_module_version": "1.2.0",
      "model_name": "LayoutModel",
      "state": {}
     },
     "43de94a0750f4b60a905771fa75ebbfe": {
      "model_module": "@jupyter-widgets/controls",
      "model_module_version": "1.5.0",
      "model_name": "HBoxModel",
      "state": {
       "children": [
        "IPY_MODEL_b2c766fa39274f7ab2d97d163fa59075",
        "IPY_MODEL_1c2f03a49c4346988aa77240131a3db4"
       ],
       "layout": "IPY_MODEL_67f3b29b49c044eb8eeb4757cdc330f1"
      }
     },
     "43e8aae1ea794c7290d794f49837cada": {
      "model_module": "@jupyter-widgets/controls",
      "model_module_version": "1.5.0",
      "model_name": "ProgressStyleModel",
      "state": {
       "description_width": "initial"
      }
     },
     "4402b01de9214b239fe3161c43ea2740": {
      "model_module": "@jupyter-widgets/base",
      "model_module_version": "1.2.0",
      "model_name": "LayoutModel",
      "state": {}
     },
     "4476e684fc2045a2aa254a9374d85a86": {
      "model_module": "@jupyter-widgets/base",
      "model_module_version": "1.2.0",
      "model_name": "LayoutModel",
      "state": {}
     },
     "46d725a6902846fcb6e67c44f6fd9a4d": {
      "model_module": "@jupyter-widgets/controls",
      "model_module_version": "1.5.0",
      "model_name": "IntProgressModel",
      "state": {
       "bar_style": "danger",
       "description": "  0%",
       "layout": "IPY_MODEL_f5c0c3b4970a494e9db2855608b785cf",
       "max": 299,
       "style": "IPY_MODEL_d3592bd097fa49058c2fc28fe9086af7"
      }
     },
     "46fa75f4049f4f11b66ed1ffca74d45d": {
      "model_module": "@jupyter-widgets/controls",
      "model_module_version": "1.5.0",
      "model_name": "ProgressStyleModel",
      "state": {
       "description_width": "initial"
      }
     },
     "477b5e4a9bc44b7caff97ec11a0759fe": {
      "model_module": "@jupyter-widgets/controls",
      "model_module_version": "1.5.0",
      "model_name": "IntProgressModel",
      "state": {
       "bar_style": "success",
       "description": "Raw Data Table: 100%",
       "layout": "IPY_MODEL_f34ee9fd9b1e40c89c00d183481216cc",
       "max": 330,
       "style": "IPY_MODEL_91df6a93aac343b580af6b3a3bfccc29",
       "value": 330
      }
     },
     "47821220609c4a0ea194fa2f89d0f83d": {
      "model_module": "@jupyter-widgets/controls",
      "model_module_version": "1.5.0",
      "model_name": "HTMLModel",
      "state": {
       "layout": "IPY_MODEL_9b44413d0d66459f810cbe9ab716b809",
       "style": "IPY_MODEL_b9ae35258ca3443c970e25a36715c1d4",
       "value": " 330/330 [00:06&lt;00:00, 53.97it/s]"
      }
     },
     "4916d6cd86294603941a0ba67b7385c1": {
      "model_module": "@jupyter-widgets/controls",
      "model_module_version": "1.5.0",
      "model_name": "ProgressStyleModel",
      "state": {
       "description_width": "initial"
      }
     },
     "4acda66d3abd4dea8492ceacd28aabe5": {
      "model_module": "@jupyter-widgets/controls",
      "model_module_version": "1.5.0",
      "model_name": "HTMLModel",
      "state": {
       "layout": "IPY_MODEL_0e428a6dd3cd47038ce1d1903640df3a",
       "style": "IPY_MODEL_8b9dd9ec8d53411da595d9392eaa61a0",
       "value": " 330/330 [00:07&lt;00:00, 47.01it/s]"
      }
     },
     "4aedfd74aa244a66a6420bdff84e4b44": {
      "model_module": "@jupyter-widgets/controls",
      "model_module_version": "1.5.0",
      "model_name": "DescriptionStyleModel",
      "state": {
       "description_width": ""
      }
     },
     "4ba32a9bf5ac4e1e9c21d432c3557b6a": {
      "model_module": "@jupyter-widgets/controls",
      "model_module_version": "1.5.0",
      "model_name": "HBoxModel",
      "state": {
       "children": [
        "IPY_MODEL_19441e67547247e4b4435280d8c15903",
        "IPY_MODEL_b11c2c6a9ea64751b4c4311cd158427e"
       ],
       "layout": "IPY_MODEL_c9c7a45a610945cfb1d7408749e05587"
      }
     },
     "4ca50f23ee0d4eecb9d1933425ff3a73": {
      "model_module": "@jupyter-widgets/controls",
      "model_module_version": "1.5.0",
      "model_name": "ProgressStyleModel",
      "state": {
       "description_width": "initial"
      }
     },
     "4dca182611b34729a682673b9ba578d5": {
      "model_module": "@jupyter-widgets/controls",
      "model_module_version": "1.5.0",
      "model_name": "HTMLModel",
      "state": {
       "layout": "IPY_MODEL_9b81c79d846f4cd88be977b6aa7aa08b",
       "style": "IPY_MODEL_b97b03ef83884b21a645881e7227a949",
       "value": " 330/330 [00:46&lt;00:00,  7.02it/s]"
      }
     },
     "4f5eab0df66a4c97b32059891a248bd1": {
      "model_module": "@jupyter-widgets/controls",
      "model_module_version": "1.5.0",
      "model_name": "IntProgressModel",
      "state": {
       "bar_style": "success",
       "description": "100%",
       "layout": "IPY_MODEL_9f7d7deea6bc4412bb4fa6f71af2fb99",
       "max": 299,
       "style": "IPY_MODEL_c5a1c3cbb60a47c3bf9f4418b823c0f2",
       "value": 299
      }
     },
     "52e6bbda48284d2d9989ad28fb4cb638": {
      "model_module": "@jupyter-widgets/controls",
      "model_module_version": "1.5.0",
      "model_name": "IntProgressModel",
      "state": {
       "bar_style": "success",
       "description": "Raw Data Table: 100%",
       "layout": "IPY_MODEL_e27591b0c20a46b7836adc8e46f612ce",
       "max": 330,
       "style": "IPY_MODEL_6a0167ab96a74282a1ff4b93b7a8f0ab",
       "value": 330
      }
     },
     "52f9981828e047749068384f095dfb38": {
      "model_module": "@jupyter-widgets/controls",
      "model_module_version": "1.5.0",
      "model_name": "ProgressStyleModel",
      "state": {
       "description_width": "initial"
      }
     },
     "56160278880d45efa94117435014f31e": {
      "model_module": "@jupyter-widgets/controls",
      "model_module_version": "1.5.0",
      "model_name": "IntProgressModel",
      "state": {
       "bar_style": "success",
       "description": "Raw Data Table: 100%",
       "layout": "IPY_MODEL_60b4256faaa344299d7395bc32558a01",
       "max": 330,
       "style": "IPY_MODEL_df645a0572404275ba738e4210e75f54",
       "value": 330
      }
     },
     "584bbc021e0044c39281729b53f5c4f5": {
      "model_module": "@jupyter-widgets/controls",
      "model_module_version": "1.5.0",
      "model_name": "DescriptionStyleModel",
      "state": {
       "description_width": ""
      }
     },
     "5cebbf0894654c9d8a0dfcc916bc1fae": {
      "model_module": "@jupyter-widgets/controls",
      "model_module_version": "1.5.0",
      "model_name": "HTMLModel",
      "state": {
       "layout": "IPY_MODEL_b485aed56e8640ffa3ea2f39c5205d7a",
       "style": "IPY_MODEL_7b1234434b714998b392817c66f8b6b5",
       "value": " 299/299 [02:51&lt;00:00,  1.74it/s]"
      }
     },
     "5d3fb244e11d4901885e1290d6711108": {
      "model_module": "@jupyter-widgets/controls",
      "model_module_version": "1.5.0",
      "model_name": "HTMLModel",
      "state": {
       "layout": "IPY_MODEL_d23844b82286454e88056f707698f831",
       "style": "IPY_MODEL_7a6240d66d914824bb1c09c4dc641d16",
       "value": " 330/330 [00:32&lt;00:00, 10.29it/s]"
      }
     },
     "5fea8c290aab4c4188dacceeeb6f87f5": {
      "model_module": "@jupyter-widgets/controls",
      "model_module_version": "1.5.0",
      "model_name": "IntProgressModel",
      "state": {
       "bar_style": "success",
       "description": "100%",
       "layout": "IPY_MODEL_b478ff6f5154476fabcd7d7567bb7f3f",
       "max": 299,
       "style": "IPY_MODEL_6675e129da8d452eae8db3dd2d6acfdc",
       "value": 299
      }
     },
     "600006e0db9c408c83e2a21002506605": {
      "model_module": "@jupyter-widgets/controls",
      "model_module_version": "1.5.0",
      "model_name": "ProgressStyleModel",
      "state": {
       "description_width": "initial"
      }
     },
     "60b4256faaa344299d7395bc32558a01": {
      "model_module": "@jupyter-widgets/base",
      "model_module_version": "1.2.0",
      "model_name": "LayoutModel",
      "state": {}
     },
     "622b678f620e4738a284dfbd2741aca7": {
      "model_module": "@jupyter-widgets/base",
      "model_module_version": "1.2.0",
      "model_name": "LayoutModel",
      "state": {}
     },
     "6368db1bd99742538439b8e13a4de283": {
      "model_module": "@jupyter-widgets/base",
      "model_module_version": "1.2.0",
      "model_name": "LayoutModel",
      "state": {}
     },
     "64382f28fe0e49eb8d39db96901b6af2": {
      "model_module": "@jupyter-widgets/controls",
      "model_module_version": "1.5.0",
      "model_name": "IntProgressModel",
      "state": {
       "bar_style": "success",
       "description": "Resolution Data Table: 100%",
       "layout": "IPY_MODEL_e7dc71f0da1c491885d301add117434c",
       "max": 330,
       "style": "IPY_MODEL_d98ab6a395bb4e0a9e11ac82c4b611db",
       "value": 330
      }
     },
     "6451426fb5d8427e97da2b59a42e3a8d": {
      "model_module": "@jupyter-widgets/base",
      "model_module_version": "1.2.0",
      "model_name": "LayoutModel",
      "state": {}
     },
     "64e687d116df473fa80d5ac60b20f2f6": {
      "model_module": "@jupyter-widgets/controls",
      "model_module_version": "1.5.0",
      "model_name": "DescriptionStyleModel",
      "state": {
       "description_width": ""
      }
     },
     "65c92e0fc9924f7eb7b030ab2f540623": {
      "model_module": "@jupyter-widgets/base",
      "model_module_version": "1.2.0",
      "model_name": "LayoutModel",
      "state": {}
     },
     "662f0058eb6d4a6b8a7cd63ab07c2e1d": {
      "model_module": "@jupyter-widgets/controls",
      "model_module_version": "1.5.0",
      "model_name": "ProgressStyleModel",
      "state": {
       "description_width": "initial"
      }
     },
     "6654bdca3e4f4a5aa424412ad6b523b1": {
      "model_module": "@jupyter-widgets/controls",
      "model_module_version": "1.5.0",
      "model_name": "IntProgressModel",
      "state": {
       "bar_style": "success",
       "description": "Raw Data Table: 100%",
       "layout": "IPY_MODEL_dde2e7a343d64d9e9c8d96f44b99da52",
       "max": 330,
       "style": "IPY_MODEL_fa7b0e0e0db44c87acb4982b1712d4df",
       "value": 330
      }
     },
     "6675e129da8d452eae8db3dd2d6acfdc": {
      "model_module": "@jupyter-widgets/controls",
      "model_module_version": "1.5.0",
      "model_name": "ProgressStyleModel",
      "state": {
       "description_width": "initial"
      }
     },
     "6684332bfff448cc99a70501cf14c205": {
      "model_module": "@jupyter-widgets/controls",
      "model_module_version": "1.5.0",
      "model_name": "HTMLModel",
      "state": {
       "layout": "IPY_MODEL_cd41ec4cf8ba4b2884c45acee95cbe21",
       "style": "IPY_MODEL_3a496cd0713741e384b656c9fdae5d13",
       "value": " 330/330 [00:39&lt;00:00,  8.37it/s]"
      }
     },
     "669efaaa68bd49b49626d6eb40911e0c": {
      "model_module": "@jupyter-widgets/base",
      "model_module_version": "1.2.0",
      "model_name": "LayoutModel",
      "state": {}
     },
     "67f3b29b49c044eb8eeb4757cdc330f1": {
      "model_module": "@jupyter-widgets/base",
      "model_module_version": "1.2.0",
      "model_name": "LayoutModel",
      "state": {}
     },
     "6836201d1b5241c6b9a7f839549c9948": {
      "model_module": "@jupyter-widgets/controls",
      "model_module_version": "1.5.0",
      "model_name": "IntProgressModel",
      "state": {
       "bar_style": "success",
       "description": "100%",
       "layout": "IPY_MODEL_7cdf2060997e455ead0eb404489214b2",
       "max": 299,
       "style": "IPY_MODEL_43e8aae1ea794c7290d794f49837cada",
       "value": 299
      }
     },
     "68e6095eb6ad40c4ab2f4ab25c9b1a64": {
      "model_module": "@jupyter-widgets/base",
      "model_module_version": "1.2.0",
      "model_name": "LayoutModel",
      "state": {}
     },
     "6973e0da77784c9983e00e5fef4024ee": {
      "model_module": "@jupyter-widgets/base",
      "model_module_version": "1.2.0",
      "model_name": "LayoutModel",
      "state": {}
     },
     "6a0167ab96a74282a1ff4b93b7a8f0ab": {
      "model_module": "@jupyter-widgets/controls",
      "model_module_version": "1.5.0",
      "model_name": "ProgressStyleModel",
      "state": {
       "description_width": "initial"
      }
     },
     "6ae848eb92064cc89b94d22cbdd34c8b": {
      "model_module": "@jupyter-widgets/controls",
      "model_module_version": "1.5.0",
      "model_name": "HBoxModel",
      "state": {
       "children": [
        "IPY_MODEL_39dc9c96b6f14d878890390f50e7a93e",
        "IPY_MODEL_c26e8242f96b4f4eace57a1dca55fb54"
       ],
       "layout": "IPY_MODEL_ce3eed838712464eafc5976a17c12765"
      }
     },
     "6b05521c3b4e482faa08e56e75e3a190": {
      "model_module": "@jupyter-widgets/controls",
      "model_module_version": "1.5.0",
      "model_name": "HTMLModel",
      "state": {
       "layout": "IPY_MODEL_890c3813919542a3ac4fa45db2b59688",
       "style": "IPY_MODEL_38c6215ae52848fead8115e25718d1dc",
       "value": " 299/299 [02:37&lt;00:00,  1.90it/s]"
      }
     },
     "6b0fb0d6b9694880bd1b1740c962f956": {
      "model_module": "@jupyter-widgets/controls",
      "model_module_version": "1.5.0",
      "model_name": "IntProgressModel",
      "state": {
       "bar_style": "success",
       "description": "Raw Data Table: 100%",
       "layout": "IPY_MODEL_0f8be77172464bdcba0aac0c206424eb",
       "max": 330,
       "style": "IPY_MODEL_1f361a5980774a0d9fc0d04db9745816",
       "value": 330
      }
     },
     "6b4162a08067444b80e23deb523adccd": {
      "model_module": "@jupyter-widgets/controls",
      "model_module_version": "1.5.0",
      "model_name": "HBoxModel",
      "state": {
       "children": [
        "IPY_MODEL_52e6bbda48284d2d9989ad28fb4cb638",
        "IPY_MODEL_9f695d424d104771a472a821eea4e242"
       ],
       "layout": "IPY_MODEL_7bc3eae85d614ddcb822307701abc97d"
      }
     },
     "6e72ae770ef94e7a89d57b59e9da8190": {
      "model_module": "@jupyter-widgets/controls",
      "model_module_version": "1.5.0",
      "model_name": "ProgressStyleModel",
      "state": {
       "description_width": "initial"
      }
     },
     "6ef0cdc44327462a818d62d26812e5ea": {
      "model_module": "@jupyter-widgets/base",
      "model_module_version": "1.2.0",
      "model_name": "LayoutModel",
      "state": {}
     },
     "6f63874a49c84c7babccc127cc6b0882": {
      "model_module": "@jupyter-widgets/controls",
      "model_module_version": "1.5.0",
      "model_name": "HBoxModel",
      "state": {
       "children": [
        "IPY_MODEL_6654bdca3e4f4a5aa424412ad6b523b1",
        "IPY_MODEL_fa75c7c9f9574b34b56138a01eb9c30c"
       ],
       "layout": "IPY_MODEL_70b6091b135545379c21bacf3c51e496"
      }
     },
     "70b6091b135545379c21bacf3c51e496": {
      "model_module": "@jupyter-widgets/base",
      "model_module_version": "1.2.0",
      "model_name": "LayoutModel",
      "state": {}
     },
     "71fee8fb3cb94640a3c12e0b12d56b13": {
      "model_module": "@jupyter-widgets/controls",
      "model_module_version": "1.5.0",
      "model_name": "HTMLModel",
      "state": {
       "layout": "IPY_MODEL_2a34d0a399674c54be9d11ad1d48322e",
       "style": "IPY_MODEL_08bdaa6a195843a6bc0b1394d941afad",
       "value": " 330/330 [00:42&lt;00:00,  7.81it/s]"
      }
     },
     "732c40f790424a83bf534dfc2fee2b80": {
      "model_module": "@jupyter-widgets/controls",
      "model_module_version": "1.5.0",
      "model_name": "HBoxModel",
      "state": {
       "children": [
        "IPY_MODEL_5fea8c290aab4c4188dacceeeb6f87f5",
        "IPY_MODEL_f41f708a843c48fba313a8498326f4b2"
       ],
       "layout": "IPY_MODEL_31e18e641e944c4a97182e4e6ed3387a"
      }
     },
     "74464e63570e42c486bba6414375fa9c": {
      "model_module": "@jupyter-widgets/base",
      "model_module_version": "1.2.0",
      "model_name": "LayoutModel",
      "state": {}
     },
     "74777867a4a54a2fbaaf61a50e5bd206": {
      "model_module": "@jupyter-widgets/controls",
      "model_module_version": "1.5.0",
      "model_name": "IntProgressModel",
      "state": {
       "bar_style": "success",
       "description": "Resolution Data Table: 100%",
       "layout": "IPY_MODEL_84fa1454bd7549e695f15ff2ab249cbc",
       "max": 330,
       "style": "IPY_MODEL_7d08a487f66149f1b0df6fe3fa029ff1",
       "value": 330
      }
     },
     "74f1a85465904ce398c62a8b37767d73": {
      "model_module": "@jupyter-widgets/base",
      "model_module_version": "1.2.0",
      "model_name": "LayoutModel",
      "state": {}
     },
     "75c2ab619c504eb5b75f7de8a6ca23e0": {
      "model_module": "@jupyter-widgets/controls",
      "model_module_version": "1.5.0",
      "model_name": "DescriptionStyleModel",
      "state": {
       "description_width": ""
      }
     },
     "77056da926be458193cc2d34ebc45f73": {
      "model_module": "@jupyter-widgets/controls",
      "model_module_version": "1.5.0",
      "model_name": "IntProgressModel",
      "state": {
       "bar_style": "success",
       "description": "Raw Data Table: 100%",
       "layout": "IPY_MODEL_d608933f3a54497ba05034b526b0fb4a",
       "max": 330,
       "style": "IPY_MODEL_bf85c249277e4f77958ad1d1ecc4de7f",
       "value": 330
      }
     },
     "778ff239e3024dd98e99d8225f00e98b": {
      "model_module": "@jupyter-widgets/controls",
      "model_module_version": "1.5.0",
      "model_name": "IntProgressModel",
      "state": {
       "description": " 80%",
       "layout": "IPY_MODEL_919f39a8455d4bd19e5bb044b4095343",
       "max": 299,
       "style": "IPY_MODEL_e2165994f5b744de87decbe3f137fd14",
       "value": 238
      }
     },
     "79c308677aa14ae88f01f322b306a356": {
      "model_module": "@jupyter-widgets/controls",
      "model_module_version": "1.5.0",
      "model_name": "HBoxModel",
      "state": {
       "children": [
        "IPY_MODEL_6b0fb0d6b9694880bd1b1740c962f956",
        "IPY_MODEL_2e9732f9896143968bd59eef6eef2122"
       ],
       "layout": "IPY_MODEL_c9c6a0b7668944c48c452555711c542c"
      }
     },
     "7a6240d66d914824bb1c09c4dc641d16": {
      "model_module": "@jupyter-widgets/controls",
      "model_module_version": "1.5.0",
      "model_name": "DescriptionStyleModel",
      "state": {
       "description_width": ""
      }
     },
     "7b1234434b714998b392817c66f8b6b5": {
      "model_module": "@jupyter-widgets/controls",
      "model_module_version": "1.5.0",
      "model_name": "DescriptionStyleModel",
      "state": {
       "description_width": ""
      }
     },
     "7bc3eae85d614ddcb822307701abc97d": {
      "model_module": "@jupyter-widgets/base",
      "model_module_version": "1.2.0",
      "model_name": "LayoutModel",
      "state": {}
     },
     "7c3dce24477d4e778226222a901bf96a": {
      "model_module": "@jupyter-widgets/base",
      "model_module_version": "1.2.0",
      "model_name": "LayoutModel",
      "state": {}
     },
     "7c7878510cbf4ec09a40b5cdf93ccfe1": {
      "model_module": "@jupyter-widgets/controls",
      "model_module_version": "1.5.0",
      "model_name": "IntProgressModel",
      "state": {
       "bar_style": "success",
       "description": "100%",
       "layout": "IPY_MODEL_f5ff97b5bf414125bf2b7996f919f360",
       "max": 299,
       "style": "IPY_MODEL_d817c23c75614b3aa58c8674867bdd59",
       "value": 299
      }
     },
     "7cdf2060997e455ead0eb404489214b2": {
      "model_module": "@jupyter-widgets/base",
      "model_module_version": "1.2.0",
      "model_name": "LayoutModel",
      "state": {}
     },
     "7ce3078f770e4d68aa853563dd7ae2a8": {
      "model_module": "@jupyter-widgets/controls",
      "model_module_version": "1.5.0",
      "model_name": "DescriptionStyleModel",
      "state": {
       "description_width": ""
      }
     },
     "7cffee6052a24494bed269b3cc22a201": {
      "model_module": "@jupyter-widgets/controls",
      "model_module_version": "1.5.0",
      "model_name": "HBoxModel",
      "state": {
       "children": [
        "IPY_MODEL_a0e71c61c6744450bae9034927734d56",
        "IPY_MODEL_df7aa7ceeefa4aa7992afeae47535260"
       ],
       "layout": "IPY_MODEL_035291654f1d4e19a1f48909d7092689"
      }
     },
     "7d08a487f66149f1b0df6fe3fa029ff1": {
      "model_module": "@jupyter-widgets/controls",
      "model_module_version": "1.5.0",
      "model_name": "ProgressStyleModel",
      "state": {
       "description_width": "initial"
      }
     },
     "7dd53ed25b0942e4a3cb1c827e0a821c": {
      "model_module": "@jupyter-widgets/controls",
      "model_module_version": "1.5.0",
      "model_name": "HTMLModel",
      "state": {
       "layout": "IPY_MODEL_833795a4c7424d919b484e70308a784b",
       "style": "IPY_MODEL_7ce3078f770e4d68aa853563dd7ae2a8",
       "value": " 330/330 [00:04&lt;00:00, 67.92it/s]"
      }
     },
     "7e5d275d5e4b402b943f6a1ea134c242": {
      "model_module": "@jupyter-widgets/controls",
      "model_module_version": "1.5.0",
      "model_name": "IntProgressModel",
      "state": {
       "bar_style": "danger",
       "description": "Raw Data Table:   0%",
       "layout": "IPY_MODEL_bfbadb70ae9747479392c73362d83d52",
       "max": 330,
       "style": "IPY_MODEL_e805328f144444a78baa7a4bc67423b6"
      }
     },
     "7f2d775505ba40a1bf1306409c0bc5f5": {
      "model_module": "@jupyter-widgets/base",
      "model_module_version": "1.2.0",
      "model_name": "LayoutModel",
      "state": {}
     },
     "7ff8fcf670bf4e7ba339e593b94f1916": {
      "model_module": "@jupyter-widgets/controls",
      "model_module_version": "1.5.0",
      "model_name": "HTMLModel",
      "state": {
       "layout": "IPY_MODEL_d17d008b90ed4c66ba09639e99a82f22",
       "style": "IPY_MODEL_bbfaf52f88904c55825225d0cdcf5571",
       "value": " 330/330 [00:05&lt;00:00, 65.96it/s]"
      }
     },
     "823cd860585b49cfa62c02317e6088da": {
      "model_module": "@jupyter-widgets/controls",
      "model_module_version": "1.5.0",
      "model_name": "DescriptionStyleModel",
      "state": {
       "description_width": ""
      }
     },
     "825640ac1b1440939a57fa08939df905": {
      "model_module": "@jupyter-widgets/controls",
      "model_module_version": "1.5.0",
      "model_name": "DescriptionStyleModel",
      "state": {
       "description_width": ""
      }
     },
     "8310e06018f944738d8de659a9d12a41": {
      "model_module": "@jupyter-widgets/base",
      "model_module_version": "1.2.0",
      "model_name": "LayoutModel",
      "state": {}
     },
     "8333cd333d5b403085ec366c9f456dd7": {
      "model_module": "@jupyter-widgets/controls",
      "model_module_version": "1.5.0",
      "model_name": "ProgressStyleModel",
      "state": {
       "description_width": "initial"
      }
     },
     "833795a4c7424d919b484e70308a784b": {
      "model_module": "@jupyter-widgets/base",
      "model_module_version": "1.2.0",
      "model_name": "LayoutModel",
      "state": {}
     },
     "84fa1454bd7549e695f15ff2ab249cbc": {
      "model_module": "@jupyter-widgets/base",
      "model_module_version": "1.2.0",
      "model_name": "LayoutModel",
      "state": {}
     },
     "8786f6e96aa54538ae3621511e85a5c6": {
      "model_module": "@jupyter-widgets/controls",
      "model_module_version": "1.5.0",
      "model_name": "HTMLModel",
      "state": {
       "layout": "IPY_MODEL_26f1d919f7b54f4cbcd0055cbcb063bb",
       "style": "IPY_MODEL_a5f394056aac4cf39bc3b50be76e3e73",
       "value": " 330/330 [00:05&lt;00:00, 61.86it/s]"
      }
     },
     "87bd7298b0ee4709924add802070b23f": {
      "model_module": "@jupyter-widgets/base",
      "model_module_version": "1.2.0",
      "model_name": "LayoutModel",
      "state": {}
     },
     "890c3813919542a3ac4fa45db2b59688": {
      "model_module": "@jupyter-widgets/base",
      "model_module_version": "1.2.0",
      "model_name": "LayoutModel",
      "state": {}
     },
     "8aa106e3dac34733b0e7e42016e56a18": {
      "model_module": "@jupyter-widgets/base",
      "model_module_version": "1.2.0",
      "model_name": "LayoutModel",
      "state": {}
     },
     "8ac63e88f5264d7f862b68d9d537286a": {
      "model_module": "@jupyter-widgets/controls",
      "model_module_version": "1.5.0",
      "model_name": "HTMLModel",
      "state": {
       "layout": "IPY_MODEL_b31c26d057a34bc68dbb4bf1fb19f63d",
       "style": "IPY_MODEL_fcfd8bc7e49a4d728e02a8e9f4a841a1",
       "value": " 299/299 [02:47&lt;00:00,  1.78it/s]"
      }
     },
     "8b37b0027ccc423c951a1f35de692095": {
      "model_module": "@jupyter-widgets/controls",
      "model_module_version": "1.5.0",
      "model_name": "HTMLModel",
      "state": {
       "layout": "IPY_MODEL_d620e5e824824c0c84ece5433fe75ec5",
       "style": "IPY_MODEL_297613c55db2495fa44ac8ca34943ac2",
       "value": " 299/299 [07:18&lt;00:00,  1.47s/it]"
      }
     },
     "8b611a53101e4067b75d097a051e16ee": {
      "model_module": "@jupyter-widgets/controls",
      "model_module_version": "1.5.0",
      "model_name": "HBoxModel",
      "state": {
       "children": [
        "IPY_MODEL_a934b4aa4e3a46f1b45ccb1b22d3f259",
        "IPY_MODEL_c07398b63c2d41f6ba74321ac1694c01"
       ],
       "layout": "IPY_MODEL_ed6f8fa64c5e4f939654230c11ce18bc"
      }
     },
     "8b706038130d4c6da6b480fcd809c9ff": {
      "model_module": "@jupyter-widgets/controls",
      "model_module_version": "1.5.0",
      "model_name": "IntProgressModel",
      "state": {
       "bar_style": "danger",
       "description": "Resolution Data Table:  17%",
       "layout": "IPY_MODEL_ef45b678a4b34255a7d9dc171f79c9ca",
       "max": 330,
       "style": "IPY_MODEL_30923c5b6460440ea5060fd77c2d4f9f",
       "value": 55
      }
     },
     "8b9dd9ec8d53411da595d9392eaa61a0": {
      "model_module": "@jupyter-widgets/controls",
      "model_module_version": "1.5.0",
      "model_name": "DescriptionStyleModel",
      "state": {
       "description_width": ""
      }
     },
     "8c3c970674c34497965552a8c2587671": {
      "model_module": "@jupyter-widgets/controls",
      "model_module_version": "1.5.0",
      "model_name": "HBoxModel",
      "state": {
       "children": [
        "IPY_MODEL_24a3201da8744deca7ffbb51a1cbb396",
        "IPY_MODEL_14fa237c1e81469b885d03c33850b355"
       ],
       "layout": "IPY_MODEL_21b26351256e497b993b14ecc5bd6414"
      }
     },
     "8c7556d267094c5b8d0bd20a4c6c97c0": {
      "model_module": "@jupyter-widgets/controls",
      "model_module_version": "1.5.0",
      "model_name": "IntProgressModel",
      "state": {
       "bar_style": "success",
       "description": "100%",
       "layout": "IPY_MODEL_8f900cef7a25476eb70bd9734d26eebe",
       "max": 299,
       "style": "IPY_MODEL_2dfcfa1dd07c4a6d94e9f2b0fbdc0343",
       "value": 299
      }
     },
     "8d92580942dc4a0ca19f925156575c44": {
      "model_module": "@jupyter-widgets/controls",
      "model_module_version": "1.5.0",
      "model_name": "DescriptionStyleModel",
      "state": {
       "description_width": ""
      }
     },
     "8da527f4cc4b4396986ef07ef14292a1": {
      "model_module": "@jupyter-widgets/base",
      "model_module_version": "1.2.0",
      "model_name": "LayoutModel",
      "state": {}
     },
     "8dcbbc88d3ec4f8b821166d669f9afef": {
      "model_module": "@jupyter-widgets/controls",
      "model_module_version": "1.5.0",
      "model_name": "HTMLModel",
      "state": {
       "layout": "IPY_MODEL_1d60fbe66232460aad4e8d262d72b258",
       "style": "IPY_MODEL_b29cf8f90b7f46348ea7d820f7478550",
       "value": " 55/330 [00:43&lt;03:36,  1.27it/s]"
      }
     },
     "8e34aa991c754ef5a3c3dfe4909b6bac": {
      "model_module": "@jupyter-widgets/controls",
      "model_module_version": "1.5.0",
      "model_name": "HBoxModel",
      "state": {
       "children": [
        "IPY_MODEL_25e2b042678d4433be85d83eedb91655",
        "IPY_MODEL_7ff8fcf670bf4e7ba339e593b94f1916"
       ],
       "layout": "IPY_MODEL_f500367783894119900181337276640b"
      }
     },
     "8e54ecaa604543eb93dc8be4f7d4720b": {
      "model_module": "@jupyter-widgets/controls",
      "model_module_version": "1.5.0",
      "model_name": "HBoxModel",
      "state": {
       "children": [
        "IPY_MODEL_2f2c6d4499914565ae1c43bfb63a95dc",
        "IPY_MODEL_0bcd4bb96a054f4aa11d49a533cfbaa0"
       ],
       "layout": "IPY_MODEL_669efaaa68bd49b49626d6eb40911e0c"
      }
     },
     "8e5cb89589444b64abf13b2e35282b19": {
      "model_module": "@jupyter-widgets/controls",
      "model_module_version": "1.5.0",
      "model_name": "HTMLModel",
      "state": {
       "layout": "IPY_MODEL_1fa86fade3dc420b84bafef532eb9a9a",
       "style": "IPY_MODEL_4aedfd74aa244a66a6420bdff84e4b44",
       "value": " 238/299 [02:12&lt;00:34,  1.76it/s]"
      }
     },
     "8f4264a58af9400d9d4e6895fa7d480a": {
      "model_module": "@jupyter-widgets/base",
      "model_module_version": "1.2.0",
      "model_name": "LayoutModel",
      "state": {}
     },
     "8f900cef7a25476eb70bd9734d26eebe": {
      "model_module": "@jupyter-widgets/base",
      "model_module_version": "1.2.0",
      "model_name": "LayoutModel",
      "state": {}
     },
     "908a007e6f334ff598bbebdaac7b0cfd": {
      "model_module": "@jupyter-widgets/base",
      "model_module_version": "1.2.0",
      "model_name": "LayoutModel",
      "state": {}
     },
     "90be46697c2e42f79aa98e76d97a531d": {
      "model_module": "@jupyter-widgets/controls",
      "model_module_version": "1.5.0",
      "model_name": "ProgressStyleModel",
      "state": {
       "description_width": "initial"
      }
     },
     "90ca12f0439e4b6c9141c38b687d6c49": {
      "model_module": "@jupyter-widgets/base",
      "model_module_version": "1.2.0",
      "model_name": "LayoutModel",
      "state": {}
     },
     "919f39a8455d4bd19e5bb044b4095343": {
      "model_module": "@jupyter-widgets/base",
      "model_module_version": "1.2.0",
      "model_name": "LayoutModel",
      "state": {}
     },
     "91df6a93aac343b580af6b3a3bfccc29": {
      "model_module": "@jupyter-widgets/controls",
      "model_module_version": "1.5.0",
      "model_name": "ProgressStyleModel",
      "state": {
       "description_width": "initial"
      }
     },
     "924115a0803a449f9568ad4a2ae62a64": {
      "model_module": "@jupyter-widgets/base",
      "model_module_version": "1.2.0",
      "model_name": "LayoutModel",
      "state": {}
     },
     "92569aae8932443b998d0b5384e72243": {
      "model_module": "@jupyter-widgets/base",
      "model_module_version": "1.2.0",
      "model_name": "LayoutModel",
      "state": {}
     },
     "925f8b4f1a174d58b2680688f9118dcf": {
      "model_module": "@jupyter-widgets/controls",
      "model_module_version": "1.5.0",
      "model_name": "DescriptionStyleModel",
      "state": {
       "description_width": ""
      }
     },
     "9297667c89494ee4a2979e9e17b5eb72": {
      "model_module": "@jupyter-widgets/base",
      "model_module_version": "1.2.0",
      "model_name": "LayoutModel",
      "state": {}
     },
     "92ef4f0af0314eac95db3cae2a64149f": {
      "model_module": "@jupyter-widgets/controls",
      "model_module_version": "1.5.0",
      "model_name": "HBoxModel",
      "state": {
       "children": [
        "IPY_MODEL_46d725a6902846fcb6e67c44f6fd9a4d",
        "IPY_MODEL_e7c199584b1b481eb983de9dc5f62756"
       ],
       "layout": "IPY_MODEL_4476e684fc2045a2aa254a9374d85a86"
      }
     },
     "9499acdceef447abbb5f30c5165780ba": {
      "model_module": "@jupyter-widgets/controls",
      "model_module_version": "1.5.0",
      "model_name": "DescriptionStyleModel",
      "state": {
       "description_width": ""
      }
     },
     "95e4c4e4150145cfbefeb0c119f7803f": {
      "model_module": "@jupyter-widgets/base",
      "model_module_version": "1.2.0",
      "model_name": "LayoutModel",
      "state": {}
     },
     "991f8fd4a24d44a7a975af27e8f56f56": {
      "model_module": "@jupyter-widgets/controls",
      "model_module_version": "1.5.0",
      "model_name": "HTMLModel",
      "state": {
       "layout": "IPY_MODEL_90ca12f0439e4b6c9141c38b687d6c49",
       "style": "IPY_MODEL_d2df154f26ef4b74a28a383df14be128",
       "value": " 0/330 [01:32&lt;?, ?it/s]"
      }
     },
     "9b44413d0d66459f810cbe9ab716b809": {
      "model_module": "@jupyter-widgets/base",
      "model_module_version": "1.2.0",
      "model_name": "LayoutModel",
      "state": {}
     },
     "9b81c79d846f4cd88be977b6aa7aa08b": {
      "model_module": "@jupyter-widgets/base",
      "model_module_version": "1.2.0",
      "model_name": "LayoutModel",
      "state": {}
     },
     "9d7e8b1eb42444858f558bbf91e896a8": {
      "model_module": "@jupyter-widgets/controls",
      "model_module_version": "1.5.0",
      "model_name": "ProgressStyleModel",
      "state": {
       "description_width": "initial"
      }
     },
     "9d9303d20aaa42b9a66fad569f913804": {
      "model_module": "@jupyter-widgets/controls",
      "model_module_version": "1.5.0",
      "model_name": "ProgressStyleModel",
      "state": {
       "description_width": "initial"
      }
     },
     "9edbd54d870741698d514dc429415ec5": {
      "model_module": "@jupyter-widgets/controls",
      "model_module_version": "1.5.0",
      "model_name": "DescriptionStyleModel",
      "state": {
       "description_width": ""
      }
     },
     "9f695d424d104771a472a821eea4e242": {
      "model_module": "@jupyter-widgets/controls",
      "model_module_version": "1.5.0",
      "model_name": "HTMLModel",
      "state": {
       "layout": "IPY_MODEL_c624fc17cffb4480bfdbd86ec93743f6",
       "style": "IPY_MODEL_b111d6fb1b7648e48e8b945a086d58cc",
       "value": " 330/330 [00:06&lt;00:00, 51.24it/s]"
      }
     },
     "9f7d7deea6bc4412bb4fa6f71af2fb99": {
      "model_module": "@jupyter-widgets/base",
      "model_module_version": "1.2.0",
      "model_name": "LayoutModel",
      "state": {}
     },
     "9f8fa24ec233447b9083136c9754a83a": {
      "model_module": "@jupyter-widgets/base",
      "model_module_version": "1.2.0",
      "model_name": "LayoutModel",
      "state": {}
     },
     "a0cfa0fe84c74b379e5319776513a8ff": {
      "model_module": "@jupyter-widgets/controls",
      "model_module_version": "1.5.0",
      "model_name": "ProgressStyleModel",
      "state": {
       "description_width": "initial"
      }
     },
     "a0e71c61c6744450bae9034927734d56": {
      "model_module": "@jupyter-widgets/controls",
      "model_module_version": "1.5.0",
      "model_name": "IntProgressModel",
      "state": {
       "bar_style": "success",
       "description": "Raw Data Table: 100%",
       "layout": "IPY_MODEL_131dc0cced354469986bedfb8fd17731",
       "max": 330,
       "style": "IPY_MODEL_c03446c64c0a4bb593ffa73a5ed3f0a2",
       "value": 330
      }
     },
     "a18fff170e1742f5a0430d4ed35f9050": {
      "model_module": "@jupyter-widgets/base",
      "model_module_version": "1.2.0",
      "model_name": "LayoutModel",
      "state": {}
     },
     "a220ad025348457babef9b20cb28d206": {
      "model_module": "@jupyter-widgets/base",
      "model_module_version": "1.2.0",
      "model_name": "LayoutModel",
      "state": {}
     },
     "a29a18f776344285abd503e1b21ac6b9": {
      "model_module": "@jupyter-widgets/base",
      "model_module_version": "1.2.0",
      "model_name": "LayoutModel",
      "state": {}
     },
     "a3d6c1eeda5f4da69bdc870a0b757f30": {
      "model_module": "@jupyter-widgets/controls",
      "model_module_version": "1.5.0",
      "model_name": "HBoxModel",
      "state": {
       "children": [
        "IPY_MODEL_1da95c676478495aa6af212412bfccb6",
        "IPY_MODEL_6b05521c3b4e482faa08e56e75e3a190"
       ],
       "layout": "IPY_MODEL_c0c4726c355f4f919cda686c4bf57256"
      }
     },
     "a5f394056aac4cf39bc3b50be76e3e73": {
      "model_module": "@jupyter-widgets/controls",
      "model_module_version": "1.5.0",
      "model_name": "DescriptionStyleModel",
      "state": {
       "description_width": ""
      }
     },
     "a661fc8c4537427a8f7a9cb1555875f4": {
      "model_module": "@jupyter-widgets/base",
      "model_module_version": "1.2.0",
      "model_name": "LayoutModel",
      "state": {}
     },
     "a934b4aa4e3a46f1b45ccb1b22d3f259": {
      "model_module": "@jupyter-widgets/controls",
      "model_module_version": "1.5.0",
      "model_name": "IntProgressModel",
      "state": {
       "bar_style": "success",
       "description": "Resolution Data Table: 100%",
       "layout": "IPY_MODEL_0331ac42ee934a2b93a93a7e1990b898",
       "max": 330,
       "style": "IPY_MODEL_113d5155ba3241078c86782845f6b3ce",
       "value": 330
      }
     },
     "a9ccab42817a44498d425ba24a120a3e": {
      "model_module": "@jupyter-widgets/base",
      "model_module_version": "1.2.0",
      "model_name": "LayoutModel",
      "state": {}
     },
     "aa586c61a6dc48e6b918f800e4d2b352": {
      "model_module": "@jupyter-widgets/controls",
      "model_module_version": "1.5.0",
      "model_name": "HTMLModel",
      "state": {
       "layout": "IPY_MODEL_e1fa166f62d64d3a8c3490ca6803c84a",
       "style": "IPY_MODEL_9499acdceef447abbb5f30c5165780ba",
       "value": " 0/330 [00:27&lt;?, ?it/s]"
      }
     },
     "ab103cf34063437999719f876290863c": {
      "model_module": "@jupyter-widgets/base",
      "model_module_version": "1.2.0",
      "model_name": "LayoutModel",
      "state": {}
     },
     "ace32298f5b84d4b9830bd6b1714da04": {
      "model_module": "@jupyter-widgets/controls",
      "model_module_version": "1.5.0",
      "model_name": "HBoxModel",
      "state": {
       "children": [
        "IPY_MODEL_64382f28fe0e49eb8d39db96901b6af2",
        "IPY_MODEL_36b45a7209c441829dff9245c515beb9"
       ],
       "layout": "IPY_MODEL_9297667c89494ee4a2979e9e17b5eb72"
      }
     },
     "ad3750863a2e411d885e1d68d37f70ab": {
      "model_module": "@jupyter-widgets/controls",
      "model_module_version": "1.5.0",
      "model_name": "IntProgressModel",
      "state": {
       "bar_style": "success",
       "description": "Resolution Data Table: 100%",
       "layout": "IPY_MODEL_8da527f4cc4b4396986ef07ef14292a1",
       "max": 330,
       "style": "IPY_MODEL_46fa75f4049f4f11b66ed1ffca74d45d",
       "value": 330
      }
     },
     "b111d6fb1b7648e48e8b945a086d58cc": {
      "model_module": "@jupyter-widgets/controls",
      "model_module_version": "1.5.0",
      "model_name": "DescriptionStyleModel",
      "state": {
       "description_width": ""
      }
     },
     "b11c2c6a9ea64751b4c4311cd158427e": {
      "model_module": "@jupyter-widgets/controls",
      "model_module_version": "1.5.0",
      "model_name": "HTMLModel",
      "state": {
       "layout": "IPY_MODEL_2d15436dbaa2474e8ea16ded85c3108b",
       "style": "IPY_MODEL_1907b883e3f14e5b9de23ca209d6b87a",
       "value": " 299/299 [30:09&lt;00:00,  6.05s/it]"
      }
     },
     "b2737e053254416c94ff53360e817e53": {
      "model_module": "@jupyter-widgets/controls",
      "model_module_version": "1.5.0",
      "model_name": "HBoxModel",
      "state": {
       "children": [
        "IPY_MODEL_778ff239e3024dd98e99d8225f00e98b",
        "IPY_MODEL_8e5cb89589444b64abf13b2e35282b19"
       ],
       "layout": "IPY_MODEL_8310e06018f944738d8de659a9d12a41"
      }
     },
     "b29cf8f90b7f46348ea7d820f7478550": {
      "model_module": "@jupyter-widgets/controls",
      "model_module_version": "1.5.0",
      "model_name": "DescriptionStyleModel",
      "state": {
       "description_width": ""
      }
     },
     "b2c766fa39274f7ab2d97d163fa59075": {
      "model_module": "@jupyter-widgets/controls",
      "model_module_version": "1.5.0",
      "model_name": "IntProgressModel",
      "state": {
       "bar_style": "danger",
       "description": "  0%",
       "layout": "IPY_MODEL_ab103cf34063437999719f876290863c",
       "max": 299,
       "style": "IPY_MODEL_4ca50f23ee0d4eecb9d1933425ff3a73"
      }
     },
     "b31c26d057a34bc68dbb4bf1fb19f63d": {
      "model_module": "@jupyter-widgets/base",
      "model_module_version": "1.2.0",
      "model_name": "LayoutModel",
      "state": {}
     },
     "b42f89be3b344c5e8ea54f0a472f36df": {
      "model_module": "@jupyter-widgets/base",
      "model_module_version": "1.2.0",
      "model_name": "LayoutModel",
      "state": {}
     },
     "b478ff6f5154476fabcd7d7567bb7f3f": {
      "model_module": "@jupyter-widgets/base",
      "model_module_version": "1.2.0",
      "model_name": "LayoutModel",
      "state": {}
     },
     "b485aed56e8640ffa3ea2f39c5205d7a": {
      "model_module": "@jupyter-widgets/base",
      "model_module_version": "1.2.0",
      "model_name": "LayoutModel",
      "state": {}
     },
     "b5d49c8dd6cf4e0cb948c257f2c399c9": {
      "model_module": "@jupyter-widgets/base",
      "model_module_version": "1.2.0",
      "model_name": "LayoutModel",
      "state": {}
     },
     "b7e6449c0af649f69880961c53333861": {
      "model_module": "@jupyter-widgets/controls",
      "model_module_version": "1.5.0",
      "model_name": "HBoxModel",
      "state": {
       "children": [
        "IPY_MODEL_129e45b3f1004646b3a96e2ee21d24aa",
        "IPY_MODEL_8786f6e96aa54538ae3621511e85a5c6"
       ],
       "layout": "IPY_MODEL_4402b01de9214b239fe3161c43ea2740"
      }
     },
     "b959891ac5b84d60bae959cc8bd2f50d": {
      "model_module": "@jupyter-widgets/controls",
      "model_module_version": "1.5.0",
      "model_name": "HBoxModel",
      "state": {
       "children": [
        "IPY_MODEL_3aa239749997434c9a55be28c26caf97",
        "IPY_MODEL_ec0e0d92cb844f78b3215f86217dc749"
       ],
       "layout": "IPY_MODEL_df7f5c673aa64f699a9e637128a92b60"
      }
     },
     "b97b03ef83884b21a645881e7227a949": {
      "model_module": "@jupyter-widgets/controls",
      "model_module_version": "1.5.0",
      "model_name": "DescriptionStyleModel",
      "state": {
       "description_width": ""
      }
     },
     "b9ae35258ca3443c970e25a36715c1d4": {
      "model_module": "@jupyter-widgets/controls",
      "model_module_version": "1.5.0",
      "model_name": "DescriptionStyleModel",
      "state": {
       "description_width": ""
      }
     },
     "ba0ebcaf0d254b98aae796843f8b32e3": {
      "model_module": "@jupyter-widgets/controls",
      "model_module_version": "1.5.0",
      "model_name": "DescriptionStyleModel",
      "state": {
       "description_width": ""
      }
     },
     "bbfaf52f88904c55825225d0cdcf5571": {
      "model_module": "@jupyter-widgets/controls",
      "model_module_version": "1.5.0",
      "model_name": "DescriptionStyleModel",
      "state": {
       "description_width": ""
      }
     },
     "bc77dab5de204cf3b32ca99b2f6b9f00": {
      "model_module": "@jupyter-widgets/controls",
      "model_module_version": "1.5.0",
      "model_name": "IntProgressModel",
      "state": {
       "bar_style": "success",
       "description": "Resolution Data Table: 100%",
       "layout": "IPY_MODEL_070d09cdbcc642ec8e26af569b78f94d",
       "max": 330,
       "style": "IPY_MODEL_9d7e8b1eb42444858f558bbf91e896a8",
       "value": 330
      }
     },
     "be12158844d847bb9c1bd67e88620698": {
      "model_module": "@jupyter-widgets/controls",
      "model_module_version": "1.5.0",
      "model_name": "IntProgressModel",
      "state": {
       "bar_style": "danger",
       "description": "Resolution Data Table:  17%",
       "layout": "IPY_MODEL_95e4c4e4150145cfbefeb0c119f7803f",
       "max": 330,
       "style": "IPY_MODEL_3cf8c759866b4dc79dca31e602c2511b",
       "value": 57
      }
     },
     "bf85c249277e4f77958ad1d1ecc4de7f": {
      "model_module": "@jupyter-widgets/controls",
      "model_module_version": "1.5.0",
      "model_name": "ProgressStyleModel",
      "state": {
       "description_width": "initial"
      }
     },
     "bfaeb469ebe8449ea1a73e8db80ea753": {
      "model_module": "@jupyter-widgets/controls",
      "model_module_version": "1.5.0",
      "model_name": "IntProgressModel",
      "state": {
       "bar_style": "success",
       "description": "Resolution Data Table: 100%",
       "layout": "IPY_MODEL_27e2dc997ef44430ac1734d9b5554363",
       "max": 330,
       "style": "IPY_MODEL_6e72ae770ef94e7a89d57b59e9da8190",
       "value": 330
      }
     },
     "bfbadb70ae9747479392c73362d83d52": {
      "model_module": "@jupyter-widgets/base",
      "model_module_version": "1.2.0",
      "model_name": "LayoutModel",
      "state": {}
     },
     "c03446c64c0a4bb593ffa73a5ed3f0a2": {
      "model_module": "@jupyter-widgets/controls",
      "model_module_version": "1.5.0",
      "model_name": "ProgressStyleModel",
      "state": {
       "description_width": "initial"
      }
     },
     "c0635069143d4948af155ae23198d8b6": {
      "model_module": "@jupyter-widgets/controls",
      "model_module_version": "1.5.0",
      "model_name": "DescriptionStyleModel",
      "state": {
       "description_width": ""
      }
     },
     "c07398b63c2d41f6ba74321ac1694c01": {
      "model_module": "@jupyter-widgets/controls",
      "model_module_version": "1.5.0",
      "model_name": "HTMLModel",
      "state": {
       "layout": "IPY_MODEL_e036c4a48db44ac2977a39aaa3753d14",
       "style": "IPY_MODEL_925f8b4f1a174d58b2680688f9118dcf",
       "value": " 330/330 [00:11&lt;00:00, 29.39it/s]"
      }
     },
     "c0c4726c355f4f919cda686c4bf57256": {
      "model_module": "@jupyter-widgets/base",
      "model_module_version": "1.2.0",
      "model_name": "LayoutModel",
      "state": {}
     },
     "c26e8242f96b4f4eace57a1dca55fb54": {
      "model_module": "@jupyter-widgets/controls",
      "model_module_version": "1.5.0",
      "model_name": "HTMLModel",
      "state": {
       "layout": "IPY_MODEL_ce12aeea779749b38f464484e33c2a29",
       "style": "IPY_MODEL_23994aded206439d8fbd803e2723a9e1",
       "value": " 330/330 [01:33&lt;00:00,  3.53it/s]"
      }
     },
     "c27cd0061bf64d14b5bdb2e7d016f75e": {
      "model_module": "@jupyter-widgets/controls",
      "model_module_version": "1.5.0",
      "model_name": "HBoxModel",
      "state": {
       "children": [
        "IPY_MODEL_bfaeb469ebe8449ea1a73e8db80ea753",
        "IPY_MODEL_2c9e586b107f4d129e4ca097c7154a70"
       ],
       "layout": "IPY_MODEL_6368db1bd99742538439b8e13a4de283"
      }
     },
     "c5a1c3cbb60a47c3bf9f4418b823c0f2": {
      "model_module": "@jupyter-widgets/controls",
      "model_module_version": "1.5.0",
      "model_name": "ProgressStyleModel",
      "state": {
       "description_width": "initial"
      }
     },
     "c624fc17cffb4480bfdbd86ec93743f6": {
      "model_module": "@jupyter-widgets/base",
      "model_module_version": "1.2.0",
      "model_name": "LayoutModel",
      "state": {}
     },
     "c679f8163eb94f11a53ef7ed5b2eaa2a": {
      "model_module": "@jupyter-widgets/controls",
      "model_module_version": "1.5.0",
      "model_name": "HTMLModel",
      "state": {
       "layout": "IPY_MODEL_65c92e0fc9924f7eb7b030ab2f540623",
       "style": "IPY_MODEL_c0635069143d4948af155ae23198d8b6",
       "value": " 330/330 [00:04&lt;00:00, 69.10it/s]"
      }
     },
     "c9c6a0b7668944c48c452555711c542c": {
      "model_module": "@jupyter-widgets/base",
      "model_module_version": "1.2.0",
      "model_name": "LayoutModel",
      "state": {}
     },
     "c9c7a45a610945cfb1d7408749e05587": {
      "model_module": "@jupyter-widgets/base",
      "model_module_version": "1.2.0",
      "model_name": "LayoutModel",
      "state": {}
     },
     "c9f797e8d0194837951c52812d27db58": {
      "model_module": "@jupyter-widgets/controls",
      "model_module_version": "1.5.0",
      "model_name": "HBoxModel",
      "state": {
       "children": [
        "IPY_MODEL_8c7556d267094c5b8d0bd20a4c6c97c0",
        "IPY_MODEL_5cebbf0894654c9d8a0dfcc916bc1fae"
       ],
       "layout": "IPY_MODEL_8aa106e3dac34733b0e7e42016e56a18"
      }
     },
     "cbd7901295704ccca3015032f0d9036f": {
      "model_module": "@jupyter-widgets/controls",
      "model_module_version": "1.5.0",
      "model_name": "ProgressStyleModel",
      "state": {
       "description_width": "initial"
      }
     },
     "cc8877478ee44238b9e11819e4e0ee55": {
      "model_module": "@jupyter-widgets/controls",
      "model_module_version": "1.5.0",
      "model_name": "DescriptionStyleModel",
      "state": {
       "description_width": ""
      }
     },
     "ccf519433b20466aa3d66dbf83425bd8": {
      "model_module": "@jupyter-widgets/controls",
      "model_module_version": "1.5.0",
      "model_name": "DescriptionStyleModel",
      "state": {
       "description_width": ""
      }
     },
     "cd17497ea09e450db4d047025a84881a": {
      "model_module": "@jupyter-widgets/base",
      "model_module_version": "1.2.0",
      "model_name": "LayoutModel",
      "state": {}
     },
     "cd41ec4cf8ba4b2884c45acee95cbe21": {
      "model_module": "@jupyter-widgets/base",
      "model_module_version": "1.2.0",
      "model_name": "LayoutModel",
      "state": {}
     },
     "cd8ba711592e47afbe6968115e78b2b3": {
      "model_module": "@jupyter-widgets/controls",
      "model_module_version": "1.5.0",
      "model_name": "HTMLModel",
      "state": {
       "layout": "IPY_MODEL_3897afdfa0564147b808efa11244bf6e",
       "style": "IPY_MODEL_077f99b4a3634111ab9f51179792067b",
       "value": " 299/299 [05:24&lt;00:00,  1.08s/it]"
      }
     },
     "ce12aeea779749b38f464484e33c2a29": {
      "model_module": "@jupyter-widgets/base",
      "model_module_version": "1.2.0",
      "model_name": "LayoutModel",
      "state": {}
     },
     "ce1ed91570a7419f8f3d794a20290b27": {
      "model_module": "@jupyter-widgets/controls",
      "model_module_version": "1.5.0",
      "model_name": "DescriptionStyleModel",
      "state": {
       "description_width": ""
      }
     },
     "ce3e60de132e4f878a5d84cd4b8e2271": {
      "model_module": "@jupyter-widgets/base",
      "model_module_version": "1.2.0",
      "model_name": "LayoutModel",
      "state": {}
     },
     "ce3eed838712464eafc5976a17c12765": {
      "model_module": "@jupyter-widgets/base",
      "model_module_version": "1.2.0",
      "model_name": "LayoutModel",
      "state": {}
     },
     "d0082ae24c2644ae838a81503fdd08a4": {
      "model_module": "@jupyter-widgets/base",
      "model_module_version": "1.2.0",
      "model_name": "LayoutModel",
      "state": {}
     },
     "d1544a196a044b4cb8c3165b50a532e3": {
      "model_module": "@jupyter-widgets/base",
      "model_module_version": "1.2.0",
      "model_name": "LayoutModel",
      "state": {}
     },
     "d17d008b90ed4c66ba09639e99a82f22": {
      "model_module": "@jupyter-widgets/base",
      "model_module_version": "1.2.0",
      "model_name": "LayoutModel",
      "state": {}
     },
     "d23844b82286454e88056f707698f831": {
      "model_module": "@jupyter-widgets/base",
      "model_module_version": "1.2.0",
      "model_name": "LayoutModel",
      "state": {}
     },
     "d2677c613f9840518e0cbc1d5a549896": {
      "model_module": "@jupyter-widgets/controls",
      "model_module_version": "1.5.0",
      "model_name": "DescriptionStyleModel",
      "state": {
       "description_width": ""
      }
     },
     "d2df154f26ef4b74a28a383df14be128": {
      "model_module": "@jupyter-widgets/controls",
      "model_module_version": "1.5.0",
      "model_name": "DescriptionStyleModel",
      "state": {
       "description_width": ""
      }
     },
     "d3592bd097fa49058c2fc28fe9086af7": {
      "model_module": "@jupyter-widgets/controls",
      "model_module_version": "1.5.0",
      "model_name": "ProgressStyleModel",
      "state": {
       "description_width": "initial"
      }
     },
     "d38a4f4ebea54ceb9a4df6fd3a909951": {
      "model_module": "@jupyter-widgets/controls",
      "model_module_version": "1.5.0",
      "model_name": "ProgressStyleModel",
      "state": {
       "description_width": "initial"
      }
     },
     "d608933f3a54497ba05034b526b0fb4a": {
      "model_module": "@jupyter-widgets/base",
      "model_module_version": "1.2.0",
      "model_name": "LayoutModel",
      "state": {}
     },
     "d620e5e824824c0c84ece5433fe75ec5": {
      "model_module": "@jupyter-widgets/base",
      "model_module_version": "1.2.0",
      "model_name": "LayoutModel",
      "state": {}
     },
     "d694c79e3aca478a8685195c4efce664": {
      "model_module": "@jupyter-widgets/controls",
      "model_module_version": "1.5.0",
      "model_name": "HBoxModel",
      "state": {
       "children": [
        "IPY_MODEL_37fdf40b20c745e29d4d027633e12907",
        "IPY_MODEL_e998c3462e094cbcb181738c39a2c920"
       ],
       "layout": "IPY_MODEL_16f04cf1bfb6448684b2aa35fcb753f2"
      }
     },
     "d817c23c75614b3aa58c8674867bdd59": {
      "model_module": "@jupyter-widgets/controls",
      "model_module_version": "1.5.0",
      "model_name": "ProgressStyleModel",
      "state": {
       "description_width": "initial"
      }
     },
     "d98ab6a395bb4e0a9e11ac82c4b611db": {
      "model_module": "@jupyter-widgets/controls",
      "model_module_version": "1.5.0",
      "model_name": "ProgressStyleModel",
      "state": {
       "description_width": "initial"
      }
     },
     "dbe97876625f4edc9b4329c008a8917e": {
      "model_module": "@jupyter-widgets/base",
      "model_module_version": "1.2.0",
      "model_name": "LayoutModel",
      "state": {}
     },
     "dcaa1e7dbb8143b1a1142ded145aa2c7": {
      "model_module": "@jupyter-widgets/controls",
      "model_module_version": "1.5.0",
      "model_name": "DescriptionStyleModel",
      "state": {
       "description_width": ""
      }
     },
     "dde2e7a343d64d9e9c8d96f44b99da52": {
      "model_module": "@jupyter-widgets/base",
      "model_module_version": "1.2.0",
      "model_name": "LayoutModel",
      "state": {}
     },
     "df2dc807cb6946ddbcb161bf4e909e30": {
      "model_module": "@jupyter-widgets/controls",
      "model_module_version": "1.5.0",
      "model_name": "HBoxModel",
      "state": {
       "children": [
        "IPY_MODEL_7c7878510cbf4ec09a40b5cdf93ccfe1",
        "IPY_MODEL_8b37b0027ccc423c951a1f35de692095"
       ],
       "layout": "IPY_MODEL_fe99093b305d4a1d8ae8236a36b0f4fc"
      }
     },
     "df645a0572404275ba738e4210e75f54": {
      "model_module": "@jupyter-widgets/controls",
      "model_module_version": "1.5.0",
      "model_name": "ProgressStyleModel",
      "state": {
       "description_width": "initial"
      }
     },
     "df7aa7ceeefa4aa7992afeae47535260": {
      "model_module": "@jupyter-widgets/controls",
      "model_module_version": "1.5.0",
      "model_name": "HTMLModel",
      "state": {
       "layout": "IPY_MODEL_b42f89be3b344c5e8ea54f0a472f36df",
       "style": "IPY_MODEL_64e687d116df473fa80d5ac60b20f2f6",
       "value": " 330/330 [00:05&lt;00:00, 55.29it/s]"
      }
     },
     "df7f5c673aa64f699a9e637128a92b60": {
      "model_module": "@jupyter-widgets/base",
      "model_module_version": "1.2.0",
      "model_name": "LayoutModel",
      "state": {}
     },
     "e036c4a48db44ac2977a39aaa3753d14": {
      "model_module": "@jupyter-widgets/base",
      "model_module_version": "1.2.0",
      "model_name": "LayoutModel",
      "state": {}
     },
     "e1fa166f62d64d3a8c3490ca6803c84a": {
      "model_module": "@jupyter-widgets/base",
      "model_module_version": "1.2.0",
      "model_name": "LayoutModel",
      "state": {}
     },
     "e2165994f5b744de87decbe3f137fd14": {
      "model_module": "@jupyter-widgets/controls",
      "model_module_version": "1.5.0",
      "model_name": "ProgressStyleModel",
      "state": {
       "description_width": "initial"
      }
     },
     "e27591b0c20a46b7836adc8e46f612ce": {
      "model_module": "@jupyter-widgets/base",
      "model_module_version": "1.2.0",
      "model_name": "LayoutModel",
      "state": {}
     },
     "e2f6fbde6cb24581933a54affbe61264": {
      "model_module": "@jupyter-widgets/controls",
      "model_module_version": "1.5.0",
      "model_name": "HTMLModel",
      "state": {
       "layout": "IPY_MODEL_a9ccab42817a44498d425ba24a120a3e",
       "style": "IPY_MODEL_75c2ab619c504eb5b75f7de8a6ca23e0",
       "value": " 299/299 [06:08&lt;00:00,  1.23s/it]"
      }
     },
     "e41e0031cc5e4b72a438876ab7740b22": {
      "model_module": "@jupyter-widgets/base",
      "model_module_version": "1.2.0",
      "model_name": "LayoutModel",
      "state": {}
     },
     "e47d2761ac014a8ebfa3405734b60896": {
      "model_module": "@jupyter-widgets/controls",
      "model_module_version": "1.5.0",
      "model_name": "IntProgressModel",
      "state": {
       "bar_style": "danger",
       "description": "Raw Data Table:   0%",
       "layout": "IPY_MODEL_ec1e7465ed9f41408783087dba94ee46",
       "max": 330,
       "style": "IPY_MODEL_90be46697c2e42f79aa98e76d97a531d"
      }
     },
     "e748b3ce29bf46be9bce073b9508e4a6": {
      "model_module": "@jupyter-widgets/controls",
      "model_module_version": "1.5.0",
      "model_name": "HTMLModel",
      "state": {
       "layout": "IPY_MODEL_ce3e60de132e4f878a5d84cd4b8e2271",
       "style": "IPY_MODEL_823cd860585b49cfa62c02317e6088da",
       "value": " 57/330 [01:32&lt;07:21,  1.62s/it]"
      }
     },
     "e7c199584b1b481eb983de9dc5f62756": {
      "model_module": "@jupyter-widgets/controls",
      "model_module_version": "1.5.0",
      "model_name": "HTMLModel",
      "state": {
       "layout": "IPY_MODEL_a220ad025348457babef9b20cb28d206",
       "style": "IPY_MODEL_ce1ed91570a7419f8f3d794a20290b27",
       "value": " 0/299 [07:33&lt;?, ?it/s]"
      }
     },
     "e7d2f5b72ed348299925406aa7c14fd1": {
      "model_module": "@jupyter-widgets/base",
      "model_module_version": "1.2.0",
      "model_name": "LayoutModel",
      "state": {}
     },
     "e7dc71f0da1c491885d301add117434c": {
      "model_module": "@jupyter-widgets/base",
      "model_module_version": "1.2.0",
      "model_name": "LayoutModel",
      "state": {}
     },
     "e805328f144444a78baa7a4bc67423b6": {
      "model_module": "@jupyter-widgets/controls",
      "model_module_version": "1.5.0",
      "model_name": "ProgressStyleModel",
      "state": {
       "description_width": "initial"
      }
     },
     "e87b8f72ca184e23855493c356073cfd": {
      "model_module": "@jupyter-widgets/controls",
      "model_module_version": "1.5.0",
      "model_name": "ProgressStyleModel",
      "state": {
       "description_width": "initial"
      }
     },
     "e998c3462e094cbcb181738c39a2c920": {
      "model_module": "@jupyter-widgets/controls",
      "model_module_version": "1.5.0",
      "model_name": "HTMLModel",
      "state": {
       "layout": "IPY_MODEL_158dec4de133430ebf0c691378b2753c",
       "style": "IPY_MODEL_825640ac1b1440939a57fa08939df905",
       "value": " 299/299 [19:14&lt;00:00,  3.86s/it]"
      }
     },
     "eb1b0eb451fe44bc9e081d07a701bd25": {
      "model_module": "@jupyter-widgets/controls",
      "model_module_version": "1.5.0",
      "model_name": "HBoxModel",
      "state": {
       "children": [
        "IPY_MODEL_77056da926be458193cc2d34ebc45f73",
        "IPY_MODEL_47821220609c4a0ea194fa2f89d0f83d"
       ],
       "layout": "IPY_MODEL_a18fff170e1742f5a0430d4ed35f9050"
      }
     },
     "eb89383d7040441d9c1b10324c9ffb8a": {
      "model_module": "@jupyter-widgets/controls",
      "model_module_version": "1.5.0",
      "model_name": "IntProgressModel",
      "state": {
       "bar_style": "success",
       "description": "Raw Data Table: 100%",
       "layout": "IPY_MODEL_87bd7298b0ee4709924add802070b23f",
       "max": 330,
       "style": "IPY_MODEL_fbfa5c6a56b74c278f0ddadf582d6d3f",
       "value": 330
      }
     },
     "ec0e0d92cb844f78b3215f86217dc749": {
      "model_module": "@jupyter-widgets/controls",
      "model_module_version": "1.5.0",
      "model_name": "HTMLModel",
      "state": {
       "layout": "IPY_MODEL_0827b94557aa4843af52046c5c2c7752",
       "style": "IPY_MODEL_8d92580942dc4a0ca19f925156575c44",
       "value": " 330/330 [00:05&lt;00:00, 57.23it/s]"
      }
     },
     "ec1e7465ed9f41408783087dba94ee46": {
      "model_module": "@jupyter-widgets/base",
      "model_module_version": "1.2.0",
      "model_name": "LayoutModel",
      "state": {}
     },
     "ed6f8fa64c5e4f939654230c11ce18bc": {
      "model_module": "@jupyter-widgets/base",
      "model_module_version": "1.2.0",
      "model_name": "LayoutModel",
      "state": {}
     },
     "ef45b678a4b34255a7d9dc171f79c9ca": {
      "model_module": "@jupyter-widgets/base",
      "model_module_version": "1.2.0",
      "model_name": "LayoutModel",
      "state": {}
     },
     "f034233a75a04a499e79ff783abb28b3": {
      "model_module": "@jupyter-widgets/controls",
      "model_module_version": "1.5.0",
      "model_name": "HBoxModel",
      "state": {
       "children": [
        "IPY_MODEL_56160278880d45efa94117435014f31e",
        "IPY_MODEL_f792d48113d64cb9a9b7857162419f11"
       ],
       "layout": "IPY_MODEL_6451426fb5d8427e97da2b59a42e3a8d"
      }
     },
     "f34ee9fd9b1e40c89c00d183481216cc": {
      "model_module": "@jupyter-widgets/base",
      "model_module_version": "1.2.0",
      "model_name": "LayoutModel",
      "state": {}
     },
     "f41f708a843c48fba313a8498326f4b2": {
      "model_module": "@jupyter-widgets/controls",
      "model_module_version": "1.5.0",
      "model_name": "HTMLModel",
      "state": {
       "layout": "IPY_MODEL_74464e63570e42c486bba6414375fa9c",
       "style": "IPY_MODEL_584bbc021e0044c39281729b53f5c4f5",
       "value": " 299/299 [02:36&lt;00:00,  1.92it/s]"
      }
     },
     "f4cee4bcfb56438bba8406823196d958": {
      "model_module": "@jupyter-widgets/base",
      "model_module_version": "1.2.0",
      "model_name": "LayoutModel",
      "state": {}
     },
     "f500367783894119900181337276640b": {
      "model_module": "@jupyter-widgets/base",
      "model_module_version": "1.2.0",
      "model_name": "LayoutModel",
      "state": {}
     },
     "f5c0c3b4970a494e9db2855608b785cf": {
      "model_module": "@jupyter-widgets/base",
      "model_module_version": "1.2.0",
      "model_name": "LayoutModel",
      "state": {}
     },
     "f5ff97b5bf414125bf2b7996f919f360": {
      "model_module": "@jupyter-widgets/base",
      "model_module_version": "1.2.0",
      "model_name": "LayoutModel",
      "state": {}
     },
     "f792d48113d64cb9a9b7857162419f11": {
      "model_module": "@jupyter-widgets/controls",
      "model_module_version": "1.5.0",
      "model_name": "HTMLModel",
      "state": {
       "layout": "IPY_MODEL_b5d49c8dd6cf4e0cb948c257f2c399c9",
       "style": "IPY_MODEL_cc8877478ee44238b9e11819e4e0ee55",
       "value": " 330/330 [00:12&lt;00:00, 26.80it/s]"
      }
     },
     "fa75c7c9f9574b34b56138a01eb9c30c": {
      "model_module": "@jupyter-widgets/controls",
      "model_module_version": "1.5.0",
      "model_name": "HTMLModel",
      "state": {
       "layout": "IPY_MODEL_e41e0031cc5e4b72a438876ab7740b22",
       "style": "IPY_MODEL_9edbd54d870741698d514dc429415ec5",
       "value": " 330/330 [00:42&lt;00:00,  7.77it/s]"
      }
     },
     "fa7b0e0e0db44c87acb4982b1712d4df": {
      "model_module": "@jupyter-widgets/controls",
      "model_module_version": "1.5.0",
      "model_name": "ProgressStyleModel",
      "state": {
       "description_width": "initial"
      }
     },
     "fa8981de45514effa9623c4096612736": {
      "model_module": "@jupyter-widgets/controls",
      "model_module_version": "1.5.0",
      "model_name": "HBoxModel",
      "state": {
       "children": [
        "IPY_MODEL_477b5e4a9bc44b7caff97ec11a0759fe",
        "IPY_MODEL_4dca182611b34729a682673b9ba578d5"
       ],
       "layout": "IPY_MODEL_32e8fb72913f4d9aaa0922bdd23c1b35"
      }
     },
     "fbfa5c6a56b74c278f0ddadf582d6d3f": {
      "model_module": "@jupyter-widgets/controls",
      "model_module_version": "1.5.0",
      "model_name": "ProgressStyleModel",
      "state": {
       "description_width": "initial"
      }
     },
     "fc731e6b635448a0825783d068b77389": {
      "model_module": "@jupyter-widgets/controls",
      "model_module_version": "1.5.0",
      "model_name": "HBoxModel",
      "state": {
       "children": [
        "IPY_MODEL_7e5d275d5e4b402b943f6a1ea134c242",
        "IPY_MODEL_991f8fd4a24d44a7a975af27e8f56f56"
       ],
       "layout": "IPY_MODEL_8f4264a58af9400d9d4e6895fa7d480a"
      }
     },
     "fc8e71148d634349ab966040d1c2e22e": {
      "model_module": "@jupyter-widgets/base",
      "model_module_version": "1.2.0",
      "model_name": "LayoutModel",
      "state": {}
     },
     "fcfd8bc7e49a4d728e02a8e9f4a841a1": {
      "model_module": "@jupyter-widgets/controls",
      "model_module_version": "1.5.0",
      "model_name": "DescriptionStyleModel",
      "state": {
       "description_width": ""
      }
     },
     "fe99093b305d4a1d8ae8236a36b0f4fc": {
      "model_module": "@jupyter-widgets/base",
      "model_module_version": "1.2.0",
      "model_name": "LayoutModel",
      "state": {}
     },
     "ffcd4c3c08ab4e25a284f84d22264f3d": {
      "model_module": "@jupyter-widgets/controls",
      "model_module_version": "1.5.0",
      "model_name": "HBoxModel",
      "state": {
       "children": [
        "IPY_MODEL_eb89383d7040441d9c1b10324c9ffb8a",
        "IPY_MODEL_4acda66d3abd4dea8492ceacd28aabe5"
       ],
       "layout": "IPY_MODEL_622b678f620e4738a284dfbd2741aca7"
      }
     }
    },
    "version_major": 2,
    "version_minor": 0
   }
  }
 },
 "nbformat": 4,
 "nbformat_minor": 2
}
