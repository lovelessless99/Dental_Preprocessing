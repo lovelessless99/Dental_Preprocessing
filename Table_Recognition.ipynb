{
 "cells": [
  {
   "cell_type": "markdown",
   "metadata": {},
   "source": [
    "# 利用灰階影像製作數字特徵字典"
   ]
  },
  {
   "cell_type": "code",
   "execution_count": 1,
   "metadata": {},
   "outputs": [],
   "source": [
    "from tqdm import tqdm_notebook as tqdm\n",
    "from itertools import chain\n",
    "from PIL import Image\n",
    "\n",
    "import matplotlib.pyplot as plt\n",
    "import pandas as pd\n",
    "import numpy as np\n",
    "import itertools\n",
    "import glob\n",
    "import json\n",
    "import cv2\n",
    "import os"
   ]
  },
  {
   "cell_type": "code",
   "execution_count": 2,
   "metadata": {},
   "outputs": [],
   "source": [
    "def create_Pattern_Dict():\n",
    "        image_PD = cv2.imread(\"Data/001742/001742 083012 p.png\", 0)\n",
    "        image_CAL = cv2.imread(\"Data/026550/026550 033117 p.png\", 0)\n",
    "            \n",
    "        w, h = 15, 12\n",
    "\n",
    "        location_PD = [\n",
    "            (651, 606), (634, 798), (634, 734), (634, 754), (634, 778), \n",
    "            (634, 200), (634, 176), (535, 842), (182, 92), (83, 175)\n",
    "        ]\n",
    "        \n",
    "        location_CAL = [\n",
    "            (286, 90), (754, 798), (754, 880), (754, 842), (754, 476), \n",
    "            (754, 606), (754, 412), (754, 946), (302, 732), (590, 925)\n",
    "        ]\n",
    "        \n",
    "        def crop_image_2_dict(image, locations):\n",
    "                pattern_dict = {}\n",
    "                for idx, location in enumerate(locations):\n",
    "                        x, y = location\n",
    "                        crop_image  = image [ x : x+h , y : y+w  ]\n",
    "                        pattern  = get_pattern_by_black_pixel(crop_image)\n",
    "                        pattern_dict[pattern] = idx\n",
    "                return pattern_dict\n",
    "            \n",
    "        def get_pattern_by_black_pixel(image):\n",
    "                bi_image = np.where(image == 240 , 255, 0)\n",
    "                unique, counts = np.unique(bi_image, return_counts=True)\n",
    "                freq = np.asarray((unique, counts)).T\n",
    "                return int(freq[0][1])\n",
    "        \n",
    "        PD_dict   = crop_image_2_dict(image_PD , location_PD )\n",
    "        CAL_dict = crop_image_2_dict(image_CAL, location_CAL)\n",
    "        return PD_dict, CAL_dict                "
   ]
  },
  {
   "cell_type": "code",
   "execution_count": 3,
   "metadata": {},
   "outputs": [],
   "source": [
    "PD_dict, CAL_dict = create_Pattern_Dict()"
   ]
  },
  {
   "cell_type": "code",
   "execution_count": 4,
   "metadata": {},
   "outputs": [
    {
     "data": {
      "text/plain": [
       "{44: 0, 29: 1, 33: 4, 35: 3, 36: 5, 38: 6, 25: 7, 42: 8, 37: 9}"
      ]
     },
     "execution_count": 4,
     "metadata": {},
     "output_type": "execute_result"
    }
   ],
   "source": [
    "PD_dict"
   ]
  },
  {
   "cell_type": "code",
   "execution_count": 5,
   "metadata": {},
   "outputs": [
    {
     "data": {
      "text/plain": [
       "{44: 0, 21: 1, 31: 2, 33: 4, 36: 5, 38: 6, 25: 7, 42: 8, 37: 9}"
      ]
     },
     "execution_count": 5,
     "metadata": {},
     "output_type": "execute_result"
    }
   ],
   "source": [
    "CAL_dict"
   ]
  },
  {
   "cell_type": "markdown",
   "metadata": {},
   "source": [
    "### 由此可知，2, 3, 4 最容易搞混，pixel 數相近，另外是 10 以上未辨識"
   ]
  },
  {
   "cell_type": "markdown",
   "metadata": {},
   "source": [
    "# 找出每個表格的表格位置並且存在字典裡面"
   ]
  },
  {
   "cell_type": "code",
   "execution_count": 6,
   "metadata": {},
   "outputs": [],
   "source": [
    "def find_table_start_point(index_of_240):\n",
    "        start_x, start_y = 0, 0\n",
    "\n",
    "        i = 0\n",
    "        max_threshold, min_threshold = 80, 40\n",
    "        total_len = len(index_of_240[0])\n",
    "        while i < total_len:\n",
    "                sequence_len = 1\n",
    "                while i + sequence_len < total_len:\n",
    "                        if index_of_240[1][i] + sequence_len != index_of_240[1][i+sequence_len]:\n",
    "                            break\n",
    "                        sequence_len += 1\n",
    "\n",
    "                if  max_threshold >= sequence_len >= min_threshold:\n",
    "                        start_x = index_of_240[0][i]\n",
    "                        # start_y = index_of_240[1][i]\n",
    "                        break\n",
    "\n",
    "                i += sequence_len\n",
    "\n",
    "        index = index_of_240[0].tolist().index(start_x)\n",
    "        while True:\n",
    "                if  index_of_240[1][index] + 1 == index_of_240[1][ index + 1 ] and index_of_240[1][index] + 2 == index_of_240[1][ index + 2 ] and \\\n",
    "                        index_of_240[1][index] + 3 == index_of_240[1][ index + 3 ] and index_of_240[1][index] + 4 == index_of_240[1][ index + 4 ] and \\\n",
    "                        index_of_240[1][index] + 5 == index_of_240[1][ index + 5 ] and index_of_240[1][index] + 6 == index_of_240[1][ index + 6 ]:\n",
    "\n",
    "                        start_y = index_of_240[1][index]\n",
    "                        break\n",
    "                index += 1\n",
    "\n",
    "        return (start_x, start_y)\n",
    "\n",
    "def get_subseq_pair(index_of_240, start_value, direction):\n",
    "        start_end_pair = []\n",
    "        all_index = None\n",
    "        if direction == 'x':\n",
    "                all_index = [ j for i, j in zip(index_of_240[0], index_of_240[1]) if i == start_value ]\n",
    "        if direction == 'y':\n",
    "                all_index = [ i for i, j in zip(index_of_240[0], index_of_240[1]) if j == start_value ]\n",
    "\n",
    "        start = end = 0 # start index and end index\n",
    "        total_len = len(all_index)\n",
    "        i = 0\n",
    "        while i < total_len:\n",
    "                if ( (i+1) < total_len and (all_index[i] + 1) != all_index[i+1]) or (i+1 == total_len):\n",
    "                        end = i\n",
    "                        distance = all_index[end] - all_index[start]\n",
    "                        if distance > 7:\n",
    "                            start_end_pair.append((all_index[start], all_index[end]))\n",
    "                        start = end = i+1\n",
    "                i+=1\n",
    "\n",
    "        return start_end_pair\n",
    "\n",
    "def points_to_cell(point_row_list, point_col_list):\n",
    "        row = 0\n",
    "        x = [ int(i) for i in point_row_list ]\n",
    "        y = [ int(i) for i in point_col_list ]\n",
    "\n",
    "        total_row = len(point_row_list)\n",
    "        table_cells = []\n",
    "        while row < total_row:\n",
    "                col = 0\n",
    "                while col + 1 < 32:\n",
    "                        position = {\n",
    "                            \"location\": (col//2, row//2),\n",
    "                            \"corner\": [\n",
    "                                (x[row]  , y[col]  ), # upper-left  \n",
    "                                (x[row]  , y[col+1]), # upper-right\n",
    "                                (x[row+1], y[col]),   # lower-left\n",
    "                                (x[row+1], y[col+1])  # lower-right\n",
    "                            ]\n",
    "                        }\n",
    "                        table_cells.append(position)\n",
    "                        col += 2\n",
    "                row += 2\n",
    "        return table_cells\n",
    "    \n",
    "def get_table_cell_location(image_path):\n",
    "        \n",
    "        image = cv2.imread(image_path, 0)\n",
    "        index_of_240 = np.where(image==240)\n",
    "        start_point = find_table_start_point(index_of_240)\n",
    "\n",
    "\n",
    "        point_column     = get_subseq_pair(index_of_240, start_point[0], 'x') # left -> right\n",
    "        point_row        = get_subseq_pair(index_of_240, start_point[1], 'y') # top -> down    \n",
    "        point_column_second = get_subseq_pair(index_of_240, point_row[1][0], 'x')\n",
    "\n",
    "        point_column_list = [ i for i in list(chain(*point_column)) if i >= start_point[1] ]\n",
    "        point_row_list = [ i for i in list(chain(*point_row)) if i >= start_point[0] ]\n",
    "        point_column_second_list = [ i for i in list(chain(*point_column_second)) if i >= start_point[1] ]\n",
    "        table_cells = points_to_cell(point_row_list, point_column_second_list)\n",
    "\n",
    "        image = np.where(image==240, 255, 0)\n",
    "        image_color = cv2.cvtColor(image.astype(np.uint8), cv2.COLOR_GRAY2RGB)\n",
    "        for cell in table_cells:\n",
    "            for point in cell[\"corner\"]:\n",
    "                 image_color[point] = [0, 0, 255]\n",
    "        \n",
    "        return table_cells"
   ]
  },
  {
   "cell_type": "code",
   "execution_count": 7,
   "metadata": {},
   "outputs": [
    {
     "data": {
      "application/vnd.jupyter.widget-view+json": {
       "model_id": "567e378e35b444eaab3f29834b930720",
       "version_major": 2,
       "version_minor": 0
      },
      "text/plain": [
       "HBox(children=(IntProgress(value=0, max=299), HTML(value='')))"
      ]
     },
     "metadata": {},
     "output_type": "display_data"
    },
    {
     "name": "stdout",
     "output_type": "stream",
     "text": [
      "\n"
     ]
    }
   ],
   "source": [
    "def statistic_cell_size(image_path ,table_situation, cell_dict):\n",
    "        \n",
    "        heights, widths = [], []\n",
    "        for item in cell_dict:\n",
    "                width = item[\"corner\"][1][1] - item[\"corner\"][0][1]\n",
    "                widths.append(width)\n",
    "\n",
    "                height = item[\"corner\"][2][0] - item[\"corner\"][0][0]\n",
    "                heights.append(height)\n",
    "\n",
    "        width_freq = np.array(np.unique(widths, return_counts=True)).T\n",
    "        height_freq = np.array(np.unique(heights, return_counts=True)).T\n",
    "        cell_same_size = True if len(height_freq) == 1 else False\n",
    "\n",
    "        item_info = {\n",
    "            \"dir_name\": image_path[:image_path.rfind(\"\\\\\")],\n",
    "            \"cell_width\" : width_freq[0, 0],\n",
    "            \"cell_height\": height_freq[0, 0],\n",
    "            \"cell_same_size\": cell_same_size\n",
    "        }\n",
    "\n",
    "        table_situation = table_situation.append(item_info, ignore_index=True)\n",
    "        return table_situation\n",
    "    \n",
    "\n",
    "\n",
    "table_situation = pd.DataFrame(columns=[\"dir_name\", \"cell_width\", \"cell_height\", \"cell_same_size\"])\n",
    "files = [ i for i in glob.iglob(\"Data/*/*.png\") ]\n",
    "for image_path in tqdm(files):\n",
    "        table_cell = get_table_cell_location(image_path)\n",
    "        table_situation = statistic_cell_size(image_path, table_situation, table_cell)\n",
    "        \n",
    "        \n",
    "        if len(table_cell) != 512:\n",
    "                print(\"%s don't have correct number of table cell\" % files)\n",
    "                raise ValueError\n",
    "              "
   ]
  },
  {
   "cell_type": "code",
   "execution_count": 8,
   "metadata": {},
   "outputs": [
    {
     "data": {
      "text/html": [
       "<div>\n",
       "<style scoped>\n",
       "    .dataframe tbody tr th:only-of-type {\n",
       "        vertical-align: middle;\n",
       "    }\n",
       "\n",
       "    .dataframe tbody tr th {\n",
       "        vertical-align: top;\n",
       "    }\n",
       "\n",
       "    .dataframe thead th {\n",
       "        text-align: right;\n",
       "    }\n",
       "</style>\n",
       "<table border=\"1\" class=\"dataframe\">\n",
       "  <thead>\n",
       "    <tr style=\"text-align: right;\">\n",
       "      <th></th>\n",
       "      <th>dir_name</th>\n",
       "      <th>cell_width</th>\n",
       "      <th>cell_height</th>\n",
       "      <th>cell_same_size</th>\n",
       "    </tr>\n",
       "  </thead>\n",
       "  <tbody>\n",
       "    <tr>\n",
       "      <td>1</td>\n",
       "      <td>Data\\000411</td>\n",
       "      <td>58</td>\n",
       "      <td>11</td>\n",
       "      <td>False</td>\n",
       "    </tr>\n",
       "    <tr>\n",
       "      <td>2</td>\n",
       "      <td>Data\\001742</td>\n",
       "      <td>61</td>\n",
       "      <td>13</td>\n",
       "      <td>True</td>\n",
       "    </tr>\n",
       "    <tr>\n",
       "      <td>5</td>\n",
       "      <td>Data\\004499</td>\n",
       "      <td>61</td>\n",
       "      <td>11</td>\n",
       "      <td>False</td>\n",
       "    </tr>\n",
       "    <tr>\n",
       "      <td>6</td>\n",
       "      <td>Data\\005627</td>\n",
       "      <td>61</td>\n",
       "      <td>13</td>\n",
       "      <td>True</td>\n",
       "    </tr>\n",
       "    <tr>\n",
       "      <td>7</td>\n",
       "      <td>Data\\007274</td>\n",
       "      <td>59</td>\n",
       "      <td>13</td>\n",
       "      <td>True</td>\n",
       "    </tr>\n",
       "    <tr>\n",
       "      <td>...</td>\n",
       "      <td>...</td>\n",
       "      <td>...</td>\n",
       "      <td>...</td>\n",
       "      <td>...</td>\n",
       "    </tr>\n",
       "    <tr>\n",
       "      <td>294</td>\n",
       "      <td>Data\\S469585_1</td>\n",
       "      <td>61</td>\n",
       "      <td>13</td>\n",
       "      <td>True</td>\n",
       "    </tr>\n",
       "    <tr>\n",
       "      <td>295</td>\n",
       "      <td>Data\\S469585_2</td>\n",
       "      <td>61</td>\n",
       "      <td>13</td>\n",
       "      <td>True</td>\n",
       "    </tr>\n",
       "    <tr>\n",
       "      <td>296</td>\n",
       "      <td>Data\\S594966_1</td>\n",
       "      <td>61</td>\n",
       "      <td>13</td>\n",
       "      <td>True</td>\n",
       "    </tr>\n",
       "    <tr>\n",
       "      <td>297</td>\n",
       "      <td>Data\\S594966_2</td>\n",
       "      <td>61</td>\n",
       "      <td>13</td>\n",
       "      <td>True</td>\n",
       "    </tr>\n",
       "    <tr>\n",
       "      <td>298</td>\n",
       "      <td>Data\\S613744</td>\n",
       "      <td>61</td>\n",
       "      <td>13</td>\n",
       "      <td>True</td>\n",
       "    </tr>\n",
       "  </tbody>\n",
       "</table>\n",
       "<p>289 rows × 4 columns</p>\n",
       "</div>"
      ],
      "text/plain": [
       "           dir_name cell_width cell_height cell_same_size\n",
       "1       Data\\000411         58          11          False\n",
       "2       Data\\001742         61          13           True\n",
       "5       Data\\004499         61          11          False\n",
       "6       Data\\005627         61          13           True\n",
       "7       Data\\007274         59          13           True\n",
       "..              ...        ...         ...            ...\n",
       "294  Data\\S469585_1         61          13           True\n",
       "295  Data\\S469585_2         61          13           True\n",
       "296  Data\\S594966_1         61          13           True\n",
       "297  Data\\S594966_2         61          13           True\n",
       "298    Data\\S613744         61          13           True\n",
       "\n",
       "[289 rows x 4 columns]"
      ]
     },
     "execution_count": 8,
     "metadata": {},
     "output_type": "execute_result"
    }
   ],
   "source": [
    "valid_condition = (table_situation.cell_width > 50) &  (table_situation.cell_width < 70) & (table_situation.cell_height > 10) & (table_situation.cell_height < 20)\n",
    "valid = table_situation[valid_condition] \n",
    "valid"
   ]
  },
  {
   "cell_type": "markdown",
   "metadata": {},
   "source": [
    "目前只有 289 筆可以用"
   ]
  },
  {
   "cell_type": "markdown",
   "metadata": {},
   "source": [
    "# Mapping Pattern to Number"
   ]
  },
  {
   "cell_type": "code",
   "execution_count": 9,
   "metadata": {},
   "outputs": [],
   "source": [
    "def image_to_data(image_path, table_info, cal_dict, pd_dict):\n",
    "    \n",
    "        image = cv2.imread(image_path, 0)\n",
    "        image = np.where(image == 240, 255, 0)\n",
    "        \n",
    "        tooth_info = { i:{\n",
    "                            \"lingual\":{\n",
    "                                        \"CAL\": 0,\n",
    "                                        \"PD\" : 0\n",
    "                                     },\n",
    "                            \"buccal\" :{\n",
    "                                        \"CAL\": 0,\n",
    "                                        \"PD\" : 0\n",
    "                                     }\n",
    "                        } \n",
    "                        for i in range(1, 33, 1)\n",
    "                    }\n",
    "\n",
    "\n",
    "        lower_count = 31\n",
    "        cal_upper_loc = check_swap_cal(image, table_info, cal_dict, \"upper\") # to do\n",
    "        cal_lower_loc = check_swap_cal(image, table_info, cal_dict, \"lower\")\n",
    "\n",
    "\n",
    "        for cell in table_info:\n",
    "                if cell[\"location\"][1] not in [3, 5, 10, cal_upper_loc, cal_lower_loc, 21, 26, 28]:\n",
    "                    continue\n",
    "\n",
    "                origin = cell[\"corner\"][0]\n",
    "                width = cell[\"corner\"][1][1] - cell[\"corner\"][0][1]\n",
    "\n",
    "                block_1 = image[origin[0]: origin[0]+14, origin[1]          : origin[1]+ width//3    ]\n",
    "                block_2 = image[origin[0]: origin[0]+14, origin[1]+ width//3: origin[1]+ width//3 * 2]\n",
    "                block_3 = image[origin[0]: origin[0]+14, origin[1]+ width//3 * 2: origin[1]+ width   ]\n",
    "\n",
    "                first, second, third = 0, 0, 0\n",
    "\n",
    "                if cell[\"location\"][1] in [3, cal_upper_loc, cal_lower_loc, 28]:\n",
    "                        first  = search_pattern_dic(block_1, cal_dict, \"CAL\")\n",
    "                        second = search_pattern_dic(block_2, cal_dict, \"CAL\")\n",
    "                        third  = search_pattern_dic(block_3, cal_dict, \"CAL\")\n",
    "\n",
    "                else:\n",
    "                        first  = search_pattern_dic(block_1, pd_dict,  \"PD\")\n",
    "                        second = search_pattern_dic(block_2, pd_dict,  \"PD\")\n",
    "                        third  = search_pattern_dic(block_3, pd_dict,  \"PD\")\n",
    "\n",
    "\n",
    "                if first is None or second is None or third is None:\n",
    "                        print(\"Value Cannot Recognization in \")\n",
    "\n",
    "                if cell[\"location\"][1] == 3: # upper, back, cal\n",
    "                        tooth_num = cell[\"location\"][0] + 1\n",
    "                        tooth_info[tooth_num][\"buccal\"][\"CAL\"] = [first, second, third]\n",
    "\n",
    "                if cell[\"location\"][1] == 5: # upper, back, pd\n",
    "                        tooth_num = cell[\"location\"][0] + 1\n",
    "                        tooth_info[tooth_num][\"buccal\"][\"PD\"] = [first, second, third]\n",
    "\n",
    "                if cell[\"location\"][1] == 10: # upper, front, pd\n",
    "                        tooth_num = cell[\"location\"][0] + 1\n",
    "                        tooth_info[tooth_num][\"lingual\"][\"PD\"] = [first, second, third]\n",
    "\n",
    "                if cell[\"location\"][1] == cal_upper_loc: # upper, front, cal\n",
    "                        tooth_num = cell[\"location\"][0] + 1\n",
    "                        tooth_info[tooth_num][\"lingual\"][\"CAL\"] = [first, second, third]\n",
    "\n",
    "                if cell[\"location\"][1] == cal_lower_loc: # lower, front, cal\n",
    "                        tooth_num = cell[\"location\"][0] + 1 + lower_count\n",
    "                        tooth_info[tooth_num][\"lingual\"][\"CAL\"] = [first, second, third]\n",
    "                        lower_count = (lower_count - 2) % 32\n",
    "\n",
    "                if cell[\"location\"][1] == 21: # lower, front, pd\n",
    "                        tooth_num = cell[\"location\"][0] + 1 + lower_count\n",
    "                        tooth_info[tooth_num][\"lingual\"][\"PD\"] = [first, second, third]\n",
    "                        lower_count = (lower_count - 2) % 32\n",
    "\n",
    "                if cell[\"location\"][1] == 26: # lower, back, pd\n",
    "                        tooth_num = cell[\"location\"][0] + 1 + lower_count\n",
    "                        tooth_info[tooth_num][\"buccal\"][\"PD\"] = [first, second, third]\n",
    "                        lower_count = (lower_count - 2) % 32\n",
    "\n",
    "                if cell[\"location\"][1] == 28: # lower, back, cal\n",
    "                        tooth_num = cell[\"location\"][0] + 1 + lower_count\n",
    "                        tooth_info[tooth_num][\"buccal\"][\"CAL\"] = [first, second, third]\n",
    "                        lower_count = (lower_count - 2) % 32\n",
    "    \n",
    "        return tooth_info\n",
    "    \n",
    "    \n",
    "def search_pattern_dic(array, pattern_dict, mode):\n",
    "        white_matrix = np.full(array.shape, 255)\n",
    "        if np.array_equal(array, white_matrix):\n",
    "                return -99\n",
    "\n",
    "        else:\n",
    "                unique, counts = np.unique(array, return_counts=True)\n",
    "                \n",
    "                freq = np.asarray((unique, counts)).T\n",
    "                black_count = int(freq[0][1])\n",
    "                \n",
    "                if int(freq[0][1]) > 50:\n",
    "                        loc = np.where(array == 0)\n",
    "                        y = np.count_nonzero(loc[0] == loc[0][-1])\n",
    "                        if y == 2:\n",
    "                                return 10\n",
    "                        if y == 6:\n",
    "                                return 11\n",
    "                        if y == 9:\n",
    "                                return 12\n",
    "                        return 13\n",
    "\n",
    "                elif black_count in pattern_dict.keys():\n",
    "                        if pattern_dict[black_count] not in [2, 3, 4]:\n",
    "                                return pattern_dict[black_count]\n",
    "\n",
    "                        else: \n",
    "                                loc = np.where(array == 0)\n",
    "                                y = np.count_nonzero(loc[0] == loc[0][-1])\n",
    "                                if y == 2:\n",
    "                                        return 4\n",
    "                                if y == 6:\n",
    "                                        return 2\n",
    "                                if y == 5:\n",
    "                                        return 3\n",
    "\n",
    "        return -9999\n",
    "\n",
    "def check_swap_cal(image, table_info, pattern_dict, direction):\n",
    "    \n",
    "        loc = 13 if direction == \"upper\" else 18\n",
    "\n",
    "        count = 0\n",
    "        for cell in table_info:\n",
    "                if cell[\"location\"][1] == loc:\n",
    "                        origin = cell[\"corner\"][0]\n",
    "                        width = cell[\"corner\"][1][1] - cell[\"corner\"][0][1]\n",
    "\n",
    "                        block_1 = image[origin[0]: origin[0]+14, origin[1]          : origin[1]+ width//3    ]\n",
    "                        block_2 = image[origin[0]: origin[0]+14, origin[1]+ width//3: origin[1]+ width//3 * 2]\n",
    "                        block_3 = image[origin[0]: origin[0]+14, origin[1]+ width//3 * 2: origin[1]+ width   ]\n",
    "\n",
    "                        first  = search_pattern_dic(block_1, pattern_dict, \"CAL\")\n",
    "                        second = search_pattern_dic(block_2, pattern_dict, \"CAL\")\n",
    "                        third  = search_pattern_dic(block_3, pattern_dict, \"CAL\")\n",
    "\n",
    "                        if first == -99: \n",
    "                                count += 1\n",
    "                        if second == -99: \n",
    "                                count += 1\n",
    "                        if third == -99: \n",
    "                                count += 1\n",
    "\n",
    "                if count > 30:\n",
    "                        if direction == \"upper\":\n",
    "                                loc -= 1\n",
    "                        else: \n",
    "                                loc += 1\n",
    "                        break\n",
    "\n",
    "        return loc"
   ]
  },
  {
   "cell_type": "code",
   "execution_count": 10,
   "metadata": {},
   "outputs": [],
   "source": [
    "def tell_eight_zero_ambiguous(image_path, table_dict):\n",
    "        eight_detection = False\n",
    "        for num, situation in table_dict.items():\n",
    "                if situation[\"lingual\"][\"CAL\"].count(8) > 1:\n",
    "                        situation[\"lingual\"][\"CAL\"] = [ 0 if x==8 else x for x in situation[\"lingual\"][\"CAL\"] ]\n",
    "                        eight_detection = True\n",
    "                        \n",
    "                if situation[\"buccal\"][\"CAL\"].count(8) > 1:\n",
    "                        situation[\"buccal\"][\"CAL\"] = [ 0 if x==8 else x for x in situation[\"lingual\"][\"CAL\"] ]\n",
    "                        eight_detection = True\n",
    "        \n",
    "        if eight_detection:\n",
    "                print(image_path)\n",
    "        return table_dict"
   ]
  },
  {
   "cell_type": "code",
   "execution_count": 11,
   "metadata": {},
   "outputs": [],
   "source": [
    "class facade_table_recognition:\n",
    "        def __init__(self):\n",
    "                self.table_situation = pd.DataFrame(columns=[\"dir_name\", \"cell_width\", \"cell_height\", \"cell_same_size\"])\n",
    "                self.valid_list = None\n",
    "        \n",
    "        def run(self):\n",
    "                PD_dict, CAL_dict = create_Pattern_Dict()\n",
    "                files = [ i for i in glob.iglob(\"Data/*/*.png\") ]\n",
    "                for image_path in tqdm(files, desc=\"Table Cell Locating Task\"):\n",
    "                        table_cell = get_table_cell_location(image_path)\n",
    "                        self.table_situation = statistic_cell_size(image_path, self.table_situation, table_cell)\n",
    "                        assert len(table_cell) == 512\n",
    "                \n",
    "                self.valid_list = self.table_situation[(self.table_situation.cell_width  > 50) & (self.table_situation.cell_width  < 70) & (self.table_situation.cell_height > 10) & (self.table_situation.cell_height < 20)] \n",
    "                valid_tables = [  table_png for i in list(self.valid_list[\"dir_name\"]) for table_png in glob.iglob(\"%s/*.png\" % i) ]\n",
    "                for image_path in tqdm(valid_tables, desc=\"Table Recognition Task\"):\n",
    "                        table_cell = get_table_cell_location(image_path)\n",
    "                        recognition_result = image_to_data(image_path, table_cell, CAL_dict, PD_dict)\n",
    "                        recognition_result = tell_eight_zero_ambiguous(image_path, recognition_result)\n",
    "                        save_path = \"%s\\\\table_info.json\" % (image_path[:image_path.rfind(\"\\\\\")])\n",
    "                        with open(save_path, 'w', encoding='utf-8') as f:\n",
    "                                json.dump(recognition_result, f, indent=4)"
   ]
  },
  {
   "cell_type": "code",
   "execution_count": 12,
   "metadata": {
    "scrolled": true
   },
   "outputs": [
    {
     "data": {
      "application/vnd.jupyter.widget-view+json": {
       "model_id": "0e2642ec38c045b891879bab82a57e4b",
       "version_major": 2,
       "version_minor": 0
      },
      "text/plain": [
       "HBox(children=(IntProgress(value=0, description='Table Cell Locating Task', max=299, style=ProgressStyle(descr…"
      ]
     },
     "metadata": {},
     "output_type": "display_data"
    },
    {
     "name": "stdout",
     "output_type": "stream",
     "text": [
      "\n"
     ]
    },
    {
     "data": {
      "application/vnd.jupyter.widget-view+json": {
       "model_id": "2438f5b256b54e17ad032aee9ac8a6c0",
       "version_major": 2,
       "version_minor": 0
      },
      "text/plain": [
       "HBox(children=(IntProgress(value=0, description='Table Recognition Task', max=289, style=ProgressStyle(descrip…"
      ]
     },
     "metadata": {},
     "output_type": "display_data"
    },
    {
     "name": "stdout",
     "output_type": "stream",
     "text": [
      "Data\\001742\\001742 083012 p.png\n",
      "Data\\007274\\007274 030116 p.png\n",
      "Data\\007501\\007501 100716 p.png\n",
      "Data\\008908\\008908 042709 p.png\n",
      "Data\\010801\\010801 020119 p.png\n",
      "Data\\0109363\\0109363 102318 p.png\n",
      "Data\\010953\\010953 041218 p.png\n",
      "Data\\014185\\014185 100417 p.png\n",
      "Data\\016165\\016165 091516 p.png\n",
      "Data\\017070\\017070 010616 p.png\n",
      "Data\\017374\\017374 020717 p.png\n",
      "Data\\017635\\017635 112112 p.png\n",
      "Data\\019462\\019462 031209 p.png\n",
      "Data\\019660\\019660 042319 p.png\n",
      "Data\\021033\\021033 070915 p.png\n",
      "Data\\021271\\021271 101613 p.png\n",
      "Data\\022198_2\\022198_2 091819 p.png\n",
      "Data\\022702\\022702 091218 p.png\n",
      "Data\\025179_1\\025179_1 092010 p.png\n",
      "Data\\025575\\025575 082514 p.png\n",
      "Data\\026110_1\\026110_1 042213 p.png\n",
      "Data\\026110_2\\026110_2 050619 p.png\n",
      "Data\\026127\\026127 012214 p.png\n",
      "Data\\033168\\033168 062818 p.png\n",
      "Data\\035015_1\\035015_1 030413 p.png\n",
      "Data\\035015_2\\035015_2 100319 p.png\n",
      "Data\\036214\\036214 022713 p.png\n",
      "Data\\036574\\036574 021914 p.png\n",
      "Data\\037535\\037535 041417 p.png\n",
      "Data\\043521_2\\043521_2 081418 p.png\n",
      "Data\\045195\\045195 011017 p.png\n",
      "Data\\050414\\050414 092717 p.png\n",
      "Data\\050952\\050952 061317 p.png\n",
      "Data\\051173\\051173 092619 p.png\n",
      "Data\\051410\\051410 111218 p.png\n",
      "Data\\052465\\052465 060315 p.png\n",
      "Data\\059820\\059820 103006.png\n",
      "Data\\061479\\061479 120307 p.png\n",
      "Data\\065480\\065480 102615 p.png\n",
      "Data\\065583\\065583 101819 p.png\n",
      "Data\\067735\\067735 092519 p.png\n",
      "Data\\075473\\075473 090814 p.png\n",
      "Data\\095674\\095674 062519 p.png\n",
      "Data\\1028067\\1028067 062718 p.png\n",
      "Data\\103592\\103592 062818 p.png\n",
      "Data\\10689\\10689 102418 p.png\n",
      "Data\\111084_2\\111084_2 021017 p.png\n",
      "Data\\13529\\13529 092513 p.png\n",
      "Data\\15752\\15752 012319 p.png\n",
      "Data\\417511\\417511 080918 p.png\n",
      "Data\\419024_1\\419024_1 110712 p.png\n",
      "Data\\419477\\419477 092815 p.png\n",
      "Data\\420606_1\\420606_1 070209 p.png\n",
      "Data\\420606_2\\420606_2 090419 p.png\n",
      "Data\\420888\\420888 061516 p.png\n",
      "Data\\421067\\421067 081915 p.png\n",
      "Data\\422254\\422254 121416 p.png\n",
      "Data\\422489\\422489 082115 p.png\n",
      "Data\\422796\\422796 091817 p.png\n",
      "Data\\423293\\423293 061119 p.png\n",
      "Data\\423354_1\\423354_1 050316 p.png\n",
      "Data\\423378\\423378 121014 p.png\n",
      "Data\\424266\\424266 111319 p.png\n",
      "Data\\479303_1\\479303_1 110909 p.png\n",
      "Data\\479303_2\\479303_2 101619 p.png\n",
      "Data\\524729_1\\524729_1 042310 p.png\n",
      "Data\\524729_2\\524729_2 102815 p.png\n",
      "Data\\532286_2\\532286_2 111418 p.png\n",
      "Data\\550724\\550724 010819 p.png\n",
      "Data\\574000\\574000 083118 p.png\n",
      "Data\\577477\\577477 090418 p.png\n",
      "Data\\600872\\600872 041519 p.png\n",
      "Data\\623753\\623753 101718 p.png\n",
      "Data\\624137\\624137 022719 p.png\n",
      "Data\\652530\\652530 030818 p.png\n",
      "Data\\674179\\674179 101218 p.png\n",
      "Data\\674726\\674726 061518 p.png\n",
      "Data\\675597\\675597 032718 p.png\n",
      "Data\\676633_2\\676633_2 082918 p.png\n",
      "Data\\676958_1\\676958_1 112114 p.png\n",
      "Data\\676958_2\\676958_2 042618 p.png\n",
      "Data\\677627\\677627 082118 p.png\n",
      "Data\\679674\\679674 102618 p.png\n",
      "Data\\679891\\679891 022719 p.png\n",
      "Data\\681509\\681509 061218 p.png\n",
      "Data\\681584\\681584 061518 p.png\n",
      "Data\\681916\\681916 083118 p.png\n",
      "Data\\682208\\682208 062018 p.png\n",
      "Data\\683518\\683518 012218 p.png\n",
      "Data\\684919\\684919 082918 p.png\n",
      "Data\\684925_2\\684925_2 092718 p.png\n",
      "Data\\684988\\684988 92118 p.png\n",
      "Data\\685283_1\\685283_1 060407 p.png\n",
      "Data\\685739\\685739 110218 p.png\n",
      "Data\\685903\\685903 111618 p.png\n",
      "Data\\686228\\686228 101818 p.png\n",
      "Data\\686333\\686333 092818 p.png\n",
      "Data\\686515\\686515 100518 p.png\n",
      "Data\\686598\\686598 090718 p.png\n",
      "Data\\686684_1\\686684_1 101211 p.png\n",
      "Data\\686705\\686705 032519 p.png\n",
      "Data\\686792\\686792 110818 p.png\n",
      "Data\\686818_1\\686818_1 091911 p.png\n",
      "Data\\686818_2\\686818_2 083018 p.png\n",
      "Data\\686860\\686860 090518 p.png\n",
      "Data\\687595\\687595 091318 p.png\n",
      "Data\\687881\\687881 091118 p.png\n",
      "Data\\691690\\691690 011519 p.png\n",
      "Data\\691919\\691919 011819 p.png\n",
      "Data\\693668\\693668 011419 p.png\n",
      "Data\\693672\\693672 013119 p.png\n",
      "Data\\694176\\694176 030619 p.png\n",
      "Data\\695000_1\\695000_1 071509 p.png\n",
      "Data\\695000_2\\695000_2 022819 p.png\n",
      "Data\\695120_2\\695120_2 022819 p.png\n",
      "Data\\695522\\695522 022019 p.png\n",
      "Data\\696128\\696128 040119 p.png\n",
      "Data\\696513_1\\696513_1 082914 p.png\n",
      "Data\\696513_2\\696513_2 030119 p.png\n",
      "Data\\698189_2\\698189_2 040819 p.png\n",
      "Data\\698337_1\\698337_1 040313 p.png\n",
      "Data\\698337_2\\698337_2 032519 p.png\n",
      "Data\\698368\\698368 090519 p.png\n",
      "Data\\698435\\698435 032819 p.png\n",
      "Data\\699243_2\\699243_2 092116 p.png\n",
      "Data\\699243_3\\699243_3 061119 p.png\n",
      "Data\\699504\\699504 041519 p.png\n",
      "Data\\701436\\701436 062519 p.png\n",
      "Data\\701509\\701509 090919 p.png\n",
      "Data\\P104953\\P104953 030419 p.png\n",
      "Data\\P106517\\P106517 113018 p.png\n",
      "Data\\S072839\\S072839 082918 p.png\n",
      "Data\\S092586_1\\S092586_1 091117 p.png\n",
      "Data\\S092586_2\\S092586_2 011619 p.png\n",
      "Data\\S094839_1\\S094839_1 030911 p.png\n",
      "Data\\S094839_2\\S094839_2 091218 p.png\n",
      "Data\\S099371_1\\S099371_1 070214 p.png\n",
      "Data\\S104373\\S104373 062519 p.png\n",
      "Data\\S105501_2\\S105501_2 091318 p.png\n",
      "Data\\S106111\\S106111 061218 p.png\n",
      "Data\\S107887_1\\S107887_1 110211 p.png\n",
      "Data\\S107887_2\\S107887_2 032816 p.png\n",
      "Data\\S110108\\S110108 060718 p.png\n",
      "Data\\S111716_2\\S111716_2 021216 p.png\n",
      "Data\\S111831_2\\S111831_2 022719 p.png\n",
      "Data\\S113097_1\\S113097_1 063009 p.png\n",
      "Data\\S113624\\S113624 020210 p.png\n",
      "Data\\S114954_2\\S114954_2 030419 p.png\n",
      "Data\\S115770_2\\S115770_2 112217 p.png\n",
      "\n"
     ]
    }
   ],
   "source": [
    "facade = facade_table_recognition()\n",
    "facade.run()"
   ]
  },
  {
   "cell_type": "code",
   "execution_count": null,
   "metadata": {},
   "outputs": [],
   "source": []
  }
 ],
 "metadata": {
  "kernelspec": {
   "display_name": "Python 3",
   "language": "python",
   "name": "python3"
  },
  "language_info": {
   "codemirror_mode": {
    "name": "ipython",
    "version": 3
   },
   "file_extension": ".py",
   "mimetype": "text/x-python",
   "name": "python",
   "nbconvert_exporter": "python",
   "pygments_lexer": "ipython3",
   "version": "3.7.4"
  },
  "widgets": {
   "application/vnd.jupyter.widget-state+json": {
    "state": {
     "00549b0de6d54ffa9687daccfcb490e9": {
      "model_module": "@jupyter-widgets/base",
      "model_module_version": "1.2.0",
      "model_name": "LayoutModel",
      "state": {}
     },
     "00d7cbb6caee49cc8ffc97d5d73acf2a": {
      "model_module": "@jupyter-widgets/controls",
      "model_module_version": "1.5.0",
      "model_name": "DescriptionStyleModel",
      "state": {
       "description_width": ""
      }
     },
     "012f7348bce0492eae19fc3df95b3800": {
      "model_module": "@jupyter-widgets/base",
      "model_module_version": "1.2.0",
      "model_name": "LayoutModel",
      "state": {}
     },
     "01c48a2d8d51438992856c0fbf3036e2": {
      "model_module": "@jupyter-widgets/base",
      "model_module_version": "1.2.0",
      "model_name": "LayoutModel",
      "state": {}
     },
     "026b0ae9f87e4505896327eb5982d4db": {
      "model_module": "@jupyter-widgets/base",
      "model_module_version": "1.2.0",
      "model_name": "LayoutModel",
      "state": {}
     },
     "02a7d5b6a7da40debb71e3d46d0aeb73": {
      "model_module": "@jupyter-widgets/base",
      "model_module_version": "1.2.0",
      "model_name": "LayoutModel",
      "state": {}
     },
     "02bec60d2f604e0f83906bf5093bc237": {
      "model_module": "@jupyter-widgets/controls",
      "model_module_version": "1.5.0",
      "model_name": "IntProgressModel",
      "state": {
       "bar_style": "success",
       "description": "Table Cell Locating Task: 100%",
       "layout": "IPY_MODEL_10457bb59e754988a21db1bd53c02ae8",
       "max": 299,
       "style": "IPY_MODEL_40761b4103c94134b7ab1a8a15d18c40",
       "value": 299
      }
     },
     "03e4946943034a798cef2529a51fe1ea": {
      "model_module": "@jupyter-widgets/controls",
      "model_module_version": "1.5.0",
      "model_name": "IntProgressModel",
      "state": {
       "bar_style": "success",
       "description": "Table Recognition Task: 100%",
       "layout": "IPY_MODEL_0a8381104f154520b2c9a6d340122d53",
       "max": 289,
       "style": "IPY_MODEL_218db5a3d03a476caf007f36d3c756ad",
       "value": 289
      }
     },
     "0532b0113476432e9834f107f0b8ebb7": {
      "model_module": "@jupyter-widgets/controls",
      "model_module_version": "1.5.0",
      "model_name": "IntProgressModel",
      "state": {
       "bar_style": "danger",
       "description": "  3%",
       "layout": "IPY_MODEL_2bd41f716b69447d93f9b9fe6459ffd6",
       "max": 289,
       "style": "IPY_MODEL_8cfbc6c1b3e44a5f849d69d2e6c3f5d2",
       "value": 9
      }
     },
     "05f1eb834ddd40fa91762b85972d1f29": {
      "model_module": "@jupyter-widgets/controls",
      "model_module_version": "1.5.0",
      "model_name": "DescriptionStyleModel",
      "state": {
       "description_width": ""
      }
     },
     "06427078542f4baa9789e5b03906b912": {
      "model_module": "@jupyter-widgets/base",
      "model_module_version": "1.2.0",
      "model_name": "LayoutModel",
      "state": {}
     },
     "067a4bf8044142bfab0e4ba69c773d0c": {
      "model_module": "@jupyter-widgets/controls",
      "model_module_version": "1.5.0",
      "model_name": "HTMLModel",
      "state": {
       "layout": "IPY_MODEL_e6614356d66b447bb1faa13bf565f97d",
       "style": "IPY_MODEL_13edc72cf9da40acaa4668cabc1c28ca",
       "value": " 5/289 [00:03&lt;02:42,  1.75it/s]"
      }
     },
     "06ad3bb9f86f4d23ba86c27c14fd2b78": {
      "model_module": "@jupyter-widgets/controls",
      "model_module_version": "1.5.0",
      "model_name": "HTMLModel",
      "state": {
       "layout": "IPY_MODEL_4386a017906148ab9b147c67d00a1c8c",
       "style": "IPY_MODEL_1d9b6c197a5e40a890d2069a02b96c3a",
       "value": " 0/289 [02:28&lt;?, ?it/s]"
      }
     },
     "076a38b744da42f78acde92b2bd6a956": {
      "model_module": "@jupyter-widgets/controls",
      "model_module_version": "1.5.0",
      "model_name": "IntProgressModel",
      "state": {
       "bar_style": "success",
       "description": "Table Recognition Task: 100%",
       "layout": "IPY_MODEL_ad07dc3a092e436abc90265a95c53bdd",
       "max": 289,
       "style": "IPY_MODEL_6dc5b93824e942068ab05c60d4cd2dbf",
       "value": 289
      }
     },
     "07a32534a26845dd96500cc01d850b46": {
      "model_module": "@jupyter-widgets/base",
      "model_module_version": "1.2.0",
      "model_name": "LayoutModel",
      "state": {}
     },
     "0842482073d24f478933eb252fa690dc": {
      "model_module": "@jupyter-widgets/base",
      "model_module_version": "1.2.0",
      "model_name": "LayoutModel",
      "state": {}
     },
     "08c2fb84ccfe40a0a1e0433ce295a2ab": {
      "model_module": "@jupyter-widgets/base",
      "model_module_version": "1.2.0",
      "model_name": "LayoutModel",
      "state": {}
     },
     "095886809ed64a08bae20da7be693630": {
      "model_module": "@jupyter-widgets/controls",
      "model_module_version": "1.5.0",
      "model_name": "ProgressStyleModel",
      "state": {
       "description_width": "initial"
      }
     },
     "09a57c24ccee4bdd87bba35b7c96a77d": {
      "model_module": "@jupyter-widgets/controls",
      "model_module_version": "1.5.0",
      "model_name": "ProgressStyleModel",
      "state": {
       "description_width": "initial"
      }
     },
     "0a1add37bbc442f2a11f1ad9211da573": {
      "model_module": "@jupyter-widgets/controls",
      "model_module_version": "1.5.0",
      "model_name": "HBoxModel",
      "state": {
       "children": [
        "IPY_MODEL_03e4946943034a798cef2529a51fe1ea",
        "IPY_MODEL_74977a4cbb8b44f6827e15260aa1eafd"
       ],
       "layout": "IPY_MODEL_8b864f30914145e49f4e12e9437939f3"
      }
     },
     "0a8381104f154520b2c9a6d340122d53": {
      "model_module": "@jupyter-widgets/base",
      "model_module_version": "1.2.0",
      "model_name": "LayoutModel",
      "state": {}
     },
     "0b27db51d16e446f98001db4c5e5b8d1": {
      "model_module": "@jupyter-widgets/controls",
      "model_module_version": "1.5.0",
      "model_name": "IntProgressModel",
      "state": {
       "bar_style": "danger",
       "description": "  0%",
       "layout": "IPY_MODEL_dfe2321bbe11400695a2a507141783dc",
       "max": 289,
       "style": "IPY_MODEL_bb5a158487494cb09fc67a6f759a25a0"
      }
     },
     "0b67404c88ce411ab0a7881a7c62e954": {
      "model_module": "@jupyter-widgets/controls",
      "model_module_version": "1.5.0",
      "model_name": "ProgressStyleModel",
      "state": {
       "description_width": "initial"
      }
     },
     "0d10668277d34971bb10c89303d5c747": {
      "model_module": "@jupyter-widgets/controls",
      "model_module_version": "1.5.0",
      "model_name": "DescriptionStyleModel",
      "state": {
       "description_width": ""
      }
     },
     "0dd5beb34a324ab1992fe5bbf3586744": {
      "model_module": "@jupyter-widgets/base",
      "model_module_version": "1.2.0",
      "model_name": "LayoutModel",
      "state": {}
     },
     "0df36968907f41c1866560bbb2f65b22": {
      "model_module": "@jupyter-widgets/base",
      "model_module_version": "1.2.0",
      "model_name": "LayoutModel",
      "state": {}
     },
     "0e0acb0f684244cdb9802cfed8eedcae": {
      "model_module": "@jupyter-widgets/controls",
      "model_module_version": "1.5.0",
      "model_name": "ProgressStyleModel",
      "state": {
       "description_width": "initial"
      }
     },
     "0e2642ec38c045b891879bab82a57e4b": {
      "model_module": "@jupyter-widgets/controls",
      "model_module_version": "1.5.0",
      "model_name": "HBoxModel",
      "state": {
       "children": [
        "IPY_MODEL_df6fc927d13746b3bcd7ef91e09cac38",
        "IPY_MODEL_b889b3eba2d84e66832a1038f08c2fb2"
       ],
       "layout": "IPY_MODEL_7c6f87765d5d49ad81ff31e88252d668"
      }
     },
     "100683f8e0d842b4b94a661e009c3cf8": {
      "model_module": "@jupyter-widgets/controls",
      "model_module_version": "1.5.0",
      "model_name": "ProgressStyleModel",
      "state": {
       "description_width": "initial"
      }
     },
     "10457bb59e754988a21db1bd53c02ae8": {
      "model_module": "@jupyter-widgets/base",
      "model_module_version": "1.2.0",
      "model_name": "LayoutModel",
      "state": {}
     },
     "11b60d3b737c48939345d718f15e57e5": {
      "model_module": "@jupyter-widgets/controls",
      "model_module_version": "1.5.0",
      "model_name": "ProgressStyleModel",
      "state": {
       "description_width": "initial"
      }
     },
     "1226f44d43b34701938185c043fcddbe": {
      "model_module": "@jupyter-widgets/base",
      "model_module_version": "1.2.0",
      "model_name": "LayoutModel",
      "state": {}
     },
     "13a60a1ad0c64477b5dd12b8de9d5a04": {
      "model_module": "@jupyter-widgets/controls",
      "model_module_version": "1.5.0",
      "model_name": "DescriptionStyleModel",
      "state": {
       "description_width": ""
      }
     },
     "13edc72cf9da40acaa4668cabc1c28ca": {
      "model_module": "@jupyter-widgets/controls",
      "model_module_version": "1.5.0",
      "model_name": "DescriptionStyleModel",
      "state": {
       "description_width": ""
      }
     },
     "1433ab72cb6540d69fdd81b60bf2258a": {
      "model_module": "@jupyter-widgets/base",
      "model_module_version": "1.2.0",
      "model_name": "LayoutModel",
      "state": {}
     },
     "14d1498843934f7385194717088fb0c2": {
      "model_module": "@jupyter-widgets/base",
      "model_module_version": "1.2.0",
      "model_name": "LayoutModel",
      "state": {}
     },
     "15d74355335e4a02b565c77a21d33e3b": {
      "model_module": "@jupyter-widgets/controls",
      "model_module_version": "1.5.0",
      "model_name": "IntProgressModel",
      "state": {
       "bar_style": "success",
       "description": "100%",
       "layout": "IPY_MODEL_89097698917e42949c2c410dda863503",
       "max": 299,
       "style": "IPY_MODEL_1bb58c217c394f059766cb989ff2f88c",
       "value": 299
      }
     },
     "16ad67477e034382be1469e98e05781b": {
      "model_module": "@jupyter-widgets/base",
      "model_module_version": "1.2.0",
      "model_name": "LayoutModel",
      "state": {}
     },
     "16ae1aa6917d433799a5b4e4a7848f78": {
      "model_module": "@jupyter-widgets/controls",
      "model_module_version": "1.5.0",
      "model_name": "HTMLModel",
      "state": {
       "layout": "IPY_MODEL_6d5c0edda8114a6da94b91ce6ef6ef28",
       "style": "IPY_MODEL_2473b3c88faa4e0cbe61b0505900ba5e",
       "value": " 299/299 [10:10&lt;00:00,  2.04s/it]"
      }
     },
     "191d1ca1e7fb46409425724466ee539e": {
      "model_module": "@jupyter-widgets/base",
      "model_module_version": "1.2.0",
      "model_name": "LayoutModel",
      "state": {}
     },
     "19b60dec2bb646328fecfbcacfc26c13": {
      "model_module": "@jupyter-widgets/controls",
      "model_module_version": "1.5.0",
      "model_name": "ProgressStyleModel",
      "state": {
       "description_width": "initial"
      }
     },
     "1a85a8f770a74ad09a6fba57061c0377": {
      "model_module": "@jupyter-widgets/controls",
      "model_module_version": "1.5.0",
      "model_name": "HTMLModel",
      "state": {
       "layout": "IPY_MODEL_f1f929afe8f24fd6ad02a85dbd7fc8dd",
       "style": "IPY_MODEL_dafc0d3c0a894c92a7e152dbff958acf",
       "value": " 299/299 [25:41&lt;00:00,  5.15s/it]"
      }
     },
     "1bb58c217c394f059766cb989ff2f88c": {
      "model_module": "@jupyter-widgets/controls",
      "model_module_version": "1.5.0",
      "model_name": "ProgressStyleModel",
      "state": {
       "description_width": "initial"
      }
     },
     "1c84bba995c14d828b9ecc085039eb34": {
      "model_module": "@jupyter-widgets/controls",
      "model_module_version": "1.5.0",
      "model_name": "ProgressStyleModel",
      "state": {
       "description_width": "initial"
      }
     },
     "1d82a3084c534e9eadf5d38f1dc63992": {
      "model_module": "@jupyter-widgets/controls",
      "model_module_version": "1.5.0",
      "model_name": "ProgressStyleModel",
      "state": {
       "description_width": "initial"
      }
     },
     "1d9b6c197a5e40a890d2069a02b96c3a": {
      "model_module": "@jupyter-widgets/controls",
      "model_module_version": "1.5.0",
      "model_name": "DescriptionStyleModel",
      "state": {
       "description_width": ""
      }
     },
     "1fc6115ab1084c28a0eeb3ff36f78e23": {
      "model_module": "@jupyter-widgets/controls",
      "model_module_version": "1.5.0",
      "model_name": "HTMLModel",
      "state": {
       "layout": "IPY_MODEL_0842482073d24f478933eb252fa690dc",
       "style": "IPY_MODEL_84e706467b04410e86d18953389442f9",
       "value": " 299/299 [03:04&lt;00:00,  1.62it/s]"
      }
     },
     "203658a0c8c74a06a510a1c4b11e6be2": {
      "model_module": "@jupyter-widgets/base",
      "model_module_version": "1.2.0",
      "model_name": "LayoutModel",
      "state": {}
     },
     "20df472394164a4fa8acd5ada1f228de": {
      "model_module": "@jupyter-widgets/controls",
      "model_module_version": "1.5.0",
      "model_name": "DescriptionStyleModel",
      "state": {
       "description_width": ""
      }
     },
     "218db5a3d03a476caf007f36d3c756ad": {
      "model_module": "@jupyter-widgets/controls",
      "model_module_version": "1.5.0",
      "model_name": "ProgressStyleModel",
      "state": {
       "description_width": "initial"
      }
     },
     "21a3734f4d514013a27f39f9b1736b55": {
      "model_module": "@jupyter-widgets/controls",
      "model_module_version": "1.5.0",
      "model_name": "HBoxModel",
      "state": {
       "children": [
        "IPY_MODEL_ea93cd438870442caf071d7330e1ae92",
        "IPY_MODEL_98fdf753c9db4300953c42fc8499c0cf"
       ],
       "layout": "IPY_MODEL_289b359192534183acbbb700fda1280b"
      }
     },
     "225d3dad80ec49798361bfeed82ce76f": {
      "model_module": "@jupyter-widgets/controls",
      "model_module_version": "1.5.0",
      "model_name": "IntProgressModel",
      "state": {
       "bar_style": "danger",
       "description": "  8%",
       "layout": "IPY_MODEL_db145950abda4d508c6c9b8c5943b572",
       "max": 289,
       "style": "IPY_MODEL_a0a7a1ba24b64f14932c6ee0153e1f9f",
       "value": 24
      }
     },
     "229dfba75f3846f0a8aafbc0746a442d": {
      "model_module": "@jupyter-widgets/base",
      "model_module_version": "1.2.0",
      "model_name": "LayoutModel",
      "state": {}
     },
     "22e04a5edcb346fb9a8da28b873279a9": {
      "model_module": "@jupyter-widgets/controls",
      "model_module_version": "1.5.0",
      "model_name": "HTMLModel",
      "state": {
       "layout": "IPY_MODEL_242fcd4639964395b05cab8034853cb7",
       "style": "IPY_MODEL_681981c705e04832aade2b374fb2a6d4",
       "value": " 289/289 [02:38&lt;00:00,  1.82it/s]"
      }
     },
     "22ffbe9661874df1b97455807e623638": {
      "model_module": "@jupyter-widgets/base",
      "model_module_version": "1.2.0",
      "model_name": "LayoutModel",
      "state": {}
     },
     "242fcd4639964395b05cab8034853cb7": {
      "model_module": "@jupyter-widgets/base",
      "model_module_version": "1.2.0",
      "model_name": "LayoutModel",
      "state": {}
     },
     "2438f5b256b54e17ad032aee9ac8a6c0": {
      "model_module": "@jupyter-widgets/controls",
      "model_module_version": "1.5.0",
      "model_name": "HBoxModel",
      "state": {
       "children": [
        "IPY_MODEL_fd035bd488c34ce988a2b9ac061bf107",
        "IPY_MODEL_22e04a5edcb346fb9a8da28b873279a9"
       ],
       "layout": "IPY_MODEL_6072e5f7b5d04a77a312e6b47efd3761"
      }
     },
     "2473b3c88faa4e0cbe61b0505900ba5e": {
      "model_module": "@jupyter-widgets/controls",
      "model_module_version": "1.5.0",
      "model_name": "DescriptionStyleModel",
      "state": {
       "description_width": ""
      }
     },
     "24adb4726b704c04b5ca7a2d34fd7a17": {
      "model_module": "@jupyter-widgets/controls",
      "model_module_version": "1.5.0",
      "model_name": "ProgressStyleModel",
      "state": {
       "description_width": "initial"
      }
     },
     "25dc358b6885412c989e196d13de99ba": {
      "model_module": "@jupyter-widgets/controls",
      "model_module_version": "1.5.0",
      "model_name": "IntProgressModel",
      "state": {
       "bar_style": "success",
       "description": "Table Cell Locating Task: 100%",
       "layout": "IPY_MODEL_e19c03ce62ce4a2aae297403b9b6f0ce",
       "max": 299,
       "style": "IPY_MODEL_50777e2ace91416c93f6d818dcea0ef5",
       "value": 299
      }
     },
     "26bf2c23168e48ff956a8ab9c5a4d3f5": {
      "model_module": "@jupyter-widgets/controls",
      "model_module_version": "1.5.0",
      "model_name": "IntProgressModel",
      "state": {
       "bar_style": "success",
       "description": "Table Recognition Task: 100%",
       "layout": "IPY_MODEL_d528b7e8b1334d26b56e2edc93210b4a",
       "max": 289,
       "style": "IPY_MODEL_33088e217ede42e4a717896c5441e0b9",
       "value": 289
      }
     },
     "26f3eab0df3544b1914808b9c2a8dcdb": {
      "model_module": "@jupyter-widgets/base",
      "model_module_version": "1.2.0",
      "model_name": "LayoutModel",
      "state": {}
     },
     "27d96412558e445bb36dca824873a3da": {
      "model_module": "@jupyter-widgets/controls",
      "model_module_version": "1.5.0",
      "model_name": "HBoxModel",
      "state": {
       "children": [
        "IPY_MODEL_961e8c738cbb42c6b3daa1db3c4c55b3",
        "IPY_MODEL_067a4bf8044142bfab0e4ba69c773d0c"
       ],
       "layout": "IPY_MODEL_0dd5beb34a324ab1992fe5bbf3586744"
      }
     },
     "289b359192534183acbbb700fda1280b": {
      "model_module": "@jupyter-widgets/base",
      "model_module_version": "1.2.0",
      "model_name": "LayoutModel",
      "state": {}
     },
     "29361044d52c4483946b5dbc8bac550e": {
      "model_module": "@jupyter-widgets/base",
      "model_module_version": "1.2.0",
      "model_name": "LayoutModel",
      "state": {}
     },
     "2a49f05928804f7d8f204623b40f179e": {
      "model_module": "@jupyter-widgets/base",
      "model_module_version": "1.2.0",
      "model_name": "LayoutModel",
      "state": {}
     },
     "2acf442ef70942efbaceb49a0a39d50c": {
      "model_module": "@jupyter-widgets/controls",
      "model_module_version": "1.5.0",
      "model_name": "DescriptionStyleModel",
      "state": {
       "description_width": ""
      }
     },
     "2b00188eebcc44c6823fc8c20d95347a": {
      "model_module": "@jupyter-widgets/controls",
      "model_module_version": "1.5.0",
      "model_name": "ProgressStyleModel",
      "state": {
       "description_width": "initial"
      }
     },
     "2bd41f716b69447d93f9b9fe6459ffd6": {
      "model_module": "@jupyter-widgets/base",
      "model_module_version": "1.2.0",
      "model_name": "LayoutModel",
      "state": {}
     },
     "2bd5a47789af47cf83870404a5b6c3d3": {
      "model_module": "@jupyter-widgets/base",
      "model_module_version": "1.2.0",
      "model_name": "LayoutModel",
      "state": {}
     },
     "2beedda171714ca5b497cdc899abad3c": {
      "model_module": "@jupyter-widgets/controls",
      "model_module_version": "1.5.0",
      "model_name": "HTMLModel",
      "state": {
       "layout": "IPY_MODEL_29361044d52c4483946b5dbc8bac550e",
       "style": "IPY_MODEL_f6a6fc512aee452f8a507c8242e4c728",
       "value": " 289/289 [02:44&lt;00:00,  1.76it/s]"
      }
     },
     "2cc2c37684564f22ac967872523330c7": {
      "model_module": "@jupyter-widgets/base",
      "model_module_version": "1.2.0",
      "model_name": "LayoutModel",
      "state": {}
     },
     "2d03db66862d4f81b38ceb85855a50bd": {
      "model_module": "@jupyter-widgets/controls",
      "model_module_version": "1.5.0",
      "model_name": "ProgressStyleModel",
      "state": {
       "description_width": "initial"
      }
     },
     "2e0948efe6a643808f28e0ce9c85c4e4": {
      "model_module": "@jupyter-widgets/controls",
      "model_module_version": "1.5.0",
      "model_name": "HBoxModel",
      "state": {
       "children": [
        "IPY_MODEL_b65381c3dfd24f68b9ccc029a0b8a488",
        "IPY_MODEL_8e14aa42a3174107bcd4532c840d56d0"
       ],
       "layout": "IPY_MODEL_de512c79d71d4b4980a750fc6123767c"
      }
     },
     "2e0dd6a4d78742228e4ff03fff5c95fd": {
      "model_module": "@jupyter-widgets/controls",
      "model_module_version": "1.5.0",
      "model_name": "IntProgressModel",
      "state": {
       "bar_style": "danger",
       "description": "  0%",
       "layout": "IPY_MODEL_8ebd98be9a834d49a95e90c1be90d2a1",
       "max": 289,
       "style": "IPY_MODEL_697ec26ddf2947578761973e13481113"
      }
     },
     "2ef4b68585834b59b6f5d3903f7acadf": {
      "model_module": "@jupyter-widgets/base",
      "model_module_version": "1.2.0",
      "model_name": "LayoutModel",
      "state": {}
     },
     "2f9069d73e42421b844734c1bf9a0794": {
      "model_module": "@jupyter-widgets/base",
      "model_module_version": "1.2.0",
      "model_name": "LayoutModel",
      "state": {}
     },
     "30012b790abe4b1b9490184e67e42b55": {
      "model_module": "@jupyter-widgets/controls",
      "model_module_version": "1.5.0",
      "model_name": "HTMLModel",
      "state": {
       "layout": "IPY_MODEL_a58c8b7e237b4a6981f3b659f463c7f0",
       "style": "IPY_MODEL_869f2e2e338e4fd98846fea25d7887a5",
       "value": " 299/299 [02:50&lt;00:00,  1.75it/s]"
      }
     },
     "31a58be864b8435f874868819669688f": {
      "model_module": "@jupyter-widgets/controls",
      "model_module_version": "1.5.0",
      "model_name": "IntProgressModel",
      "state": {
       "bar_style": "success",
       "description": "Table Recognition Task: 100%",
       "layout": "IPY_MODEL_575c85b9ce3245bd83d62e7a2d5575f9",
       "max": 289,
       "style": "IPY_MODEL_0b67404c88ce411ab0a7881a7c62e954",
       "value": 289
      }
     },
     "33088e217ede42e4a717896c5441e0b9": {
      "model_module": "@jupyter-widgets/controls",
      "model_module_version": "1.5.0",
      "model_name": "ProgressStyleModel",
      "state": {
       "description_width": "initial"
      }
     },
     "3312fd9c3a024f72bc44868daf06c179": {
      "model_module": "@jupyter-widgets/base",
      "model_module_version": "1.2.0",
      "model_name": "LayoutModel",
      "state": {}
     },
     "333c912df2364025a20309204297a443": {
      "model_module": "@jupyter-widgets/controls",
      "model_module_version": "1.5.0",
      "model_name": "HBoxModel",
      "state": {
       "children": [
        "IPY_MODEL_9a5be288ee6445a1b2536f7fa64a68bb",
        "IPY_MODEL_54777ed0dc2147ddad6e2d192dffd9dc"
       ],
       "layout": "IPY_MODEL_6ff71ed2ab654afca0d73d0a79ac70fc"
      }
     },
     "3444f9e5599b49c5b461601256cd274f": {
      "model_module": "@jupyter-widgets/base",
      "model_module_version": "1.2.0",
      "model_name": "LayoutModel",
      "state": {}
     },
     "345095b2748a4662ba18effb661e962e": {
      "model_module": "@jupyter-widgets/controls",
      "model_module_version": "1.5.0",
      "model_name": "HBoxModel",
      "state": {
       "children": [
        "IPY_MODEL_67045c684691440a8a3d98f14caee6b2",
        "IPY_MODEL_16ae1aa6917d433799a5b4e4a7848f78"
       ],
       "layout": "IPY_MODEL_f3210d56a42c4fc790bd4f79a04b7aca"
      }
     },
     "35171de6c1db4d71b345a81ffb9e299a": {
      "model_module": "@jupyter-widgets/controls",
      "model_module_version": "1.5.0",
      "model_name": "HBoxModel",
      "state": {
       "children": [
        "IPY_MODEL_6d9dee10815149db86c76fb2cf928417",
        "IPY_MODEL_1fc6115ab1084c28a0eeb3ff36f78e23"
       ],
       "layout": "IPY_MODEL_6866c1861d5c4ca0be7a84893d694d7b"
      }
     },
     "35ac0e1c7ef94eb9848f6037e5a4e3a2": {
      "model_module": "@jupyter-widgets/controls",
      "model_module_version": "1.5.0",
      "model_name": "IntProgressModel",
      "state": {
       "bar_style": "success",
       "description": "Table Recognition Task: 100%",
       "layout": "IPY_MODEL_88157936ba9c4f4881c8fe718c435047",
       "max": 289,
       "style": "IPY_MODEL_60156fd871024b0698f5af34e8c5aafe",
       "value": 289
      }
     },
     "36a14116177740f69e907e6c8ba1ae02": {
      "model_module": "@jupyter-widgets/controls",
      "model_module_version": "1.5.0",
      "model_name": "IntProgressModel",
      "state": {
       "bar_style": "success",
       "description": "100%",
       "layout": "IPY_MODEL_07a32534a26845dd96500cc01d850b46",
       "max": 299,
       "style": "IPY_MODEL_2b00188eebcc44c6823fc8c20d95347a",
       "value": 299
      }
     },
     "38a64ac177774066a6a31839b315c860": {
      "model_module": "@jupyter-widgets/controls",
      "model_module_version": "1.5.0",
      "model_name": "ProgressStyleModel",
      "state": {
       "description_width": "initial"
      }
     },
     "398b9c07cda8488e85478626047fcd77": {
      "model_module": "@jupyter-widgets/base",
      "model_module_version": "1.2.0",
      "model_name": "LayoutModel",
      "state": {}
     },
     "39f88ab645d5450ab4cbf9089c9fb80c": {
      "model_module": "@jupyter-widgets/controls",
      "model_module_version": "1.5.0",
      "model_name": "DescriptionStyleModel",
      "state": {
       "description_width": ""
      }
     },
     "3b366b37eb014a91a365f17ed2b33e21": {
      "model_module": "@jupyter-widgets/controls",
      "model_module_version": "1.5.0",
      "model_name": "IntProgressModel",
      "state": {
       "bar_style": "success",
       "description": "100%",
       "layout": "IPY_MODEL_c4e328f77deb4db4b34dd69aded355d2",
       "max": 299,
       "style": "IPY_MODEL_0e0acb0f684244cdb9802cfed8eedcae",
       "value": 299
      }
     },
     "3cef6a4dcb024c86af77b656c2eea43a": {
      "model_module": "@jupyter-widgets/controls",
      "model_module_version": "1.5.0",
      "model_name": "ProgressStyleModel",
      "state": {
       "description_width": "initial"
      }
     },
     "3d2b29132d534facaa0e259c29b50ab6": {
      "model_module": "@jupyter-widgets/base",
      "model_module_version": "1.2.0",
      "model_name": "LayoutModel",
      "state": {}
     },
     "3d920d7455074b5fa6001c0fbdb8587a": {
      "model_module": "@jupyter-widgets/base",
      "model_module_version": "1.2.0",
      "model_name": "LayoutModel",
      "state": {}
     },
     "3f837e0aa1124e6c951798807b811df3": {
      "model_module": "@jupyter-widgets/controls",
      "model_module_version": "1.5.0",
      "model_name": "ProgressStyleModel",
      "state": {
       "description_width": "initial"
      }
     },
     "3f9f182b1e1047b0993aa0f476f54cce": {
      "model_module": "@jupyter-widgets/controls",
      "model_module_version": "1.5.0",
      "model_name": "DescriptionStyleModel",
      "state": {
       "description_width": ""
      }
     },
     "40761b4103c94134b7ab1a8a15d18c40": {
      "model_module": "@jupyter-widgets/controls",
      "model_module_version": "1.5.0",
      "model_name": "ProgressStyleModel",
      "state": {
       "description_width": "initial"
      }
     },
     "40dec632828e4eada666f750e045597f": {
      "model_module": "@jupyter-widgets/controls",
      "model_module_version": "1.5.0",
      "model_name": "IntProgressModel",
      "state": {
       "bar_style": "success",
       "description": "100%",
       "layout": "IPY_MODEL_784321bc0e484a10bbdaa4fb7c43a599",
       "max": 299,
       "style": "IPY_MODEL_38a64ac177774066a6a31839b315c860",
       "value": 299
      }
     },
     "41030325065c4558a9a3800ddf83f123": {
      "model_module": "@jupyter-widgets/base",
      "model_module_version": "1.2.0",
      "model_name": "LayoutModel",
      "state": {}
     },
     "41c0666d93a04b388b1c546528d5ea89": {
      "model_module": "@jupyter-widgets/controls",
      "model_module_version": "1.5.0",
      "model_name": "HTMLModel",
      "state": {
       "layout": "IPY_MODEL_73d8e47ba4f24be1aa201a42707e8340",
       "style": "IPY_MODEL_bb4466e65c6e4087837c5356cdad91c8",
       "value": " 6/289 [00:03&lt;02:37,  1.79it/s]"
      }
     },
     "4204d604763d45dcbe7ae06457deb203": {
      "model_module": "@jupyter-widgets/controls",
      "model_module_version": "1.5.0",
      "model_name": "DescriptionStyleModel",
      "state": {
       "description_width": ""
      }
     },
     "42592e8121964c3c947bc78bd74a3ce2": {
      "model_module": "@jupyter-widgets/base",
      "model_module_version": "1.2.0",
      "model_name": "LayoutModel",
      "state": {}
     },
     "4261889d141f4af18e4364791f144cb3": {
      "model_module": "@jupyter-widgets/controls",
      "model_module_version": "1.5.0",
      "model_name": "HBoxModel",
      "state": {
       "children": [
        "IPY_MODEL_25dc358b6885412c989e196d13de99ba",
        "IPY_MODEL_dafeeebf21004788879f2d5389397718"
       ],
       "layout": "IPY_MODEL_a05032c25cc64630841b02bf9f01bab5"
      }
     },
     "42b110aa228b440aa8bd39f12a51f0d9": {
      "model_module": "@jupyter-widgets/base",
      "model_module_version": "1.2.0",
      "model_name": "LayoutModel",
      "state": {}
     },
     "4386a017906148ab9b147c67d00a1c8c": {
      "model_module": "@jupyter-widgets/base",
      "model_module_version": "1.2.0",
      "model_name": "LayoutModel",
      "state": {}
     },
     "43de7e7b0ba94e5a80457ae823b8472a": {
      "model_module": "@jupyter-widgets/controls",
      "model_module_version": "1.5.0",
      "model_name": "HBoxModel",
      "state": {
       "children": [
        "IPY_MODEL_a210177049144b3989fa9adc71f08a68",
        "IPY_MODEL_4d132f85a7ea4f1d80e502f5e96546ed"
       ],
       "layout": "IPY_MODEL_fa29883b9c184c01b4ba3b288797caae"
      }
     },
     "448a2a6be79e4121bb846f925ce6f5a8": {
      "model_module": "@jupyter-widgets/base",
      "model_module_version": "1.2.0",
      "model_name": "LayoutModel",
      "state": {}
     },
     "44ee2694a9d3420481fd83a57ad92e44": {
      "model_module": "@jupyter-widgets/controls",
      "model_module_version": "1.5.0",
      "model_name": "HTMLModel",
      "state": {
       "layout": "IPY_MODEL_6e4ee6a65d904fdf99b56b07ac375b28",
       "style": "IPY_MODEL_b895651cc484469ea5f76ec00329d528",
       "value": " 299/299 [03:05&lt;00:00,  1.61it/s]"
      }
     },
     "44fff236923c4f6d9ab489fd7b0eb1a0": {
      "model_module": "@jupyter-widgets/controls",
      "model_module_version": "1.5.0",
      "model_name": "IntProgressModel",
      "state": {
       "bar_style": "success",
       "description": "Table Cell Locating Task: 100%",
       "layout": "IPY_MODEL_6f9fc2d4a2b8439b8ec31b6062b921ca",
       "max": 299,
       "style": "IPY_MODEL_1c84bba995c14d828b9ecc085039eb34",
       "value": 299
      }
     },
     "459cbd2dcb0540cd9c4a389bbf5691d8": {
      "model_module": "@jupyter-widgets/base",
      "model_module_version": "1.2.0",
      "model_name": "LayoutModel",
      "state": {}
     },
     "47afdc6ab0cd42599ac578f77ba96c3b": {
      "model_module": "@jupyter-widgets/controls",
      "model_module_version": "1.5.0",
      "model_name": "HTMLModel",
      "state": {
       "layout": "IPY_MODEL_229dfba75f3846f0a8aafbc0746a442d",
       "style": "IPY_MODEL_76d85d7ce219483593f88e4cb980a078",
       "value": " 0/289 [01:09&lt;?, ?it/s]"
      }
     },
     "47b32e1d110d4f979688f16a83df2fce": {
      "model_module": "@jupyter-widgets/controls",
      "model_module_version": "1.5.0",
      "model_name": "HBoxModel",
      "state": {
       "children": [
        "IPY_MODEL_57ba60e28f35425cb90faf3fd1b61ece",
        "IPY_MODEL_b953694a9d3b444980938dd7f1d9e948"
       ],
       "layout": "IPY_MODEL_1433ab72cb6540d69fdd81b60bf2258a"
      }
     },
     "488665d2d5b5472dac6a56614d6e5207": {
      "model_module": "@jupyter-widgets/base",
      "model_module_version": "1.2.0",
      "model_name": "LayoutModel",
      "state": {}
     },
     "4a845864ab6e4c868c63eaa591adec86": {
      "model_module": "@jupyter-widgets/base",
      "model_module_version": "1.2.0",
      "model_name": "LayoutModel",
      "state": {}
     },
     "4b9df9f1c15643e7b46f065cc0806b73": {
      "model_module": "@jupyter-widgets/base",
      "model_module_version": "1.2.0",
      "model_name": "LayoutModel",
      "state": {}
     },
     "4d132f85a7ea4f1d80e502f5e96546ed": {
      "model_module": "@jupyter-widgets/controls",
      "model_module_version": "1.5.0",
      "model_name": "HTMLModel",
      "state": {
       "layout": "IPY_MODEL_d0f212aef386413b87092b22d4a0840c",
       "style": "IPY_MODEL_faf5e65f229e41a4b614d34e7f377f9d",
       "value": " 299/299 [03:29&lt;00:00,  1.43it/s]"
      }
     },
     "4d176f02d8594aad89732fe519990001": {
      "model_module": "@jupyter-widgets/controls",
      "model_module_version": "1.5.0",
      "model_name": "HTMLModel",
      "state": {
       "layout": "IPY_MODEL_9b4f73f12795476d8272c2dc600a0fc4",
       "style": "IPY_MODEL_e28b9182824f43d18ded35a524c96894",
       "value": " 299/299 [03:26&lt;00:00,  1.45it/s]"
      }
     },
     "4e24f54d3f4b4f67bc30598ecefc3c77": {
      "model_module": "@jupyter-widgets/base",
      "model_module_version": "1.2.0",
      "model_name": "LayoutModel",
      "state": {}
     },
     "4e44ac33014f461eabf1eb68c0a5ca47": {
      "model_module": "@jupyter-widgets/controls",
      "model_module_version": "1.5.0",
      "model_name": "HBoxModel",
      "state": {
       "children": [
        "IPY_MODEL_65ed2eedfb124b6cac8bb7b163bf73f9",
        "IPY_MODEL_06ad3bb9f86f4d23ba86c27c14fd2b78"
       ],
       "layout": "IPY_MODEL_bef1cf6b02c74addb2f27579d1e6a44b"
      }
     },
     "50127dbc6a5d4a579d4de5dde81889c7": {
      "model_module": "@jupyter-widgets/base",
      "model_module_version": "1.2.0",
      "model_name": "LayoutModel",
      "state": {}
     },
     "50777e2ace91416c93f6d818dcea0ef5": {
      "model_module": "@jupyter-widgets/controls",
      "model_module_version": "1.5.0",
      "model_name": "ProgressStyleModel",
      "state": {
       "description_width": "initial"
      }
     },
     "508a89305d37405b9f62fd5dafb2a1d4": {
      "model_module": "@jupyter-widgets/controls",
      "model_module_version": "1.5.0",
      "model_name": "HBoxModel",
      "state": {
       "children": [
        "IPY_MODEL_55389075e5ae44e5bbeeb6cfe4c70afc",
        "IPY_MODEL_6b2c2bc0272d4f26aecc19eaae5ba21c"
       ],
       "layout": "IPY_MODEL_2bd5a47789af47cf83870404a5b6c3d3"
      }
     },
     "5140516d553b4496ac9620b588941bf0": {
      "model_module": "@jupyter-widgets/controls",
      "model_module_version": "1.5.0",
      "model_name": "DescriptionStyleModel",
      "state": {
       "description_width": ""
      }
     },
     "51a7d79b6fdc481381d74dcb7145f10e": {
      "model_module": "@jupyter-widgets/controls",
      "model_module_version": "1.5.0",
      "model_name": "HTMLModel",
      "state": {
       "layout": "IPY_MODEL_8803c28ceb3745cfad12d8dcb552bb33",
       "style": "IPY_MODEL_8ec3962913ca4119a6ed7685aac3f140",
       "value": " 299/299 [03:03&lt;00:00,  1.63it/s]"
      }
     },
     "53385092875d4dae8225f89c0f1ce918": {
      "model_module": "@jupyter-widgets/controls",
      "model_module_version": "1.5.0",
      "model_name": "DescriptionStyleModel",
      "state": {
       "description_width": ""
      }
     },
     "539d72a9bf3f4fed87bed0b50dc16aae": {
      "model_module": "@jupyter-widgets/controls",
      "model_module_version": "1.5.0",
      "model_name": "DescriptionStyleModel",
      "state": {
       "description_width": ""
      }
     },
     "54777ed0dc2147ddad6e2d192dffd9dc": {
      "model_module": "@jupyter-widgets/controls",
      "model_module_version": "1.5.0",
      "model_name": "HTMLModel",
      "state": {
       "layout": "IPY_MODEL_60898d262fd340e69aa8a68c3fc102e8",
       "style": "IPY_MODEL_53385092875d4dae8225f89c0f1ce918",
       "value": " 299/299 [14:17&lt;00:00,  2.87s/it]"
      }
     },
     "548ad3d8399e4950bfc4e9459a1417c1": {
      "model_module": "@jupyter-widgets/base",
      "model_module_version": "1.2.0",
      "model_name": "LayoutModel",
      "state": {}
     },
     "54c4e999414d4e7ab193c1dfb00aca39": {
      "model_module": "@jupyter-widgets/controls",
      "model_module_version": "1.5.0",
      "model_name": "HTMLModel",
      "state": {
       "layout": "IPY_MODEL_4a845864ab6e4c868c63eaa591adec86",
       "style": "IPY_MODEL_d9c3f595c09b42a09362ed78426414a4",
       "value": " 299/299 [03:00&lt;00:00,  1.66it/s]"
      }
     },
     "55389075e5ae44e5bbeeb6cfe4c70afc": {
      "model_module": "@jupyter-widgets/controls",
      "model_module_version": "1.5.0",
      "model_name": "IntProgressModel",
      "state": {
       "bar_style": "danger",
       "description": "  6%",
       "layout": "IPY_MODEL_3d2b29132d534facaa0e259c29b50ab6",
       "max": 289,
       "style": "IPY_MODEL_d4ab17cd81834333bf1518ef7a4d3b28",
       "value": 18
      }
     },
     "55671812f0c940b487fd89f965c25578": {
      "model_module": "@jupyter-widgets/base",
      "model_module_version": "1.2.0",
      "model_name": "LayoutModel",
      "state": {}
     },
     "56081d8295cc4f7ca38b52f51c3066d4": {
      "model_module": "@jupyter-widgets/controls",
      "model_module_version": "1.5.0",
      "model_name": "DescriptionStyleModel",
      "state": {
       "description_width": ""
      }
     },
     "567e378e35b444eaab3f29834b930720": {
      "model_module": "@jupyter-widgets/controls",
      "model_module_version": "1.5.0",
      "model_name": "HBoxModel",
      "state": {
       "children": [
        "IPY_MODEL_ed2ac313581645af857f643d62a0c41c",
        "IPY_MODEL_b5c8e3f8e6d04b558588c4ab2e09d0ca"
       ],
       "layout": "IPY_MODEL_548ad3d8399e4950bfc4e9459a1417c1"
      }
     },
     "575c85b9ce3245bd83d62e7a2d5575f9": {
      "model_module": "@jupyter-widgets/base",
      "model_module_version": "1.2.0",
      "model_name": "LayoutModel",
      "state": {}
     },
     "57ba60e28f35425cb90faf3fd1b61ece": {
      "model_module": "@jupyter-widgets/controls",
      "model_module_version": "1.5.0",
      "model_name": "IntProgressModel",
      "state": {
       "bar_style": "danger",
       "description": "Table Cell Locating Task:  14%",
       "layout": "IPY_MODEL_0df36968907f41c1866560bbb2f65b22",
       "max": 299,
       "style": "IPY_MODEL_bb3e5e37207245e5a7f8cdf3a0368725",
       "value": 43
      }
     },
     "57fee3ca9356437f8a39193a8bf641f3": {
      "model_module": "@jupyter-widgets/controls",
      "model_module_version": "1.5.0",
      "model_name": "HBoxModel",
      "state": {
       "children": [
        "IPY_MODEL_35ac0e1c7ef94eb9848f6037e5a4e3a2",
        "IPY_MODEL_7ae20d880a6b451d892a1286aa83a121"
       ],
       "layout": "IPY_MODEL_f2f741c05ffd4ffd86483f1f584db81d"
      }
     },
     "5818ba5d277042e18df21776a24b23f8": {
      "model_module": "@jupyter-widgets/controls",
      "model_module_version": "1.5.0",
      "model_name": "HBoxModel",
      "state": {
       "children": [
        "IPY_MODEL_0b27db51d16e446f98001db4c5e5b8d1",
        "IPY_MODEL_5efe87042f834deaae0fd39ae7fbc078"
       ],
       "layout": "IPY_MODEL_191d1ca1e7fb46409425724466ee539e"
      }
     },
     "5a2fc2245efb4bc1b17a7d9b5ae523cf": {
      "model_module": "@jupyter-widgets/controls",
      "model_module_version": "1.5.0",
      "model_name": "ProgressStyleModel",
      "state": {
       "description_width": "initial"
      }
     },
     "5b03b3f194e544ad9dca8337ccbbce4f": {
      "model_module": "@jupyter-widgets/controls",
      "model_module_version": "1.5.0",
      "model_name": "HTMLModel",
      "state": {
       "layout": "IPY_MODEL_459cbd2dcb0540cd9c4a389bbf5691d8",
       "style": "IPY_MODEL_7fb626d4307440f9b834ec77b1362e61",
       "value": " 299/299 [03:22&lt;00:00,  1.47it/s]"
      }
     },
     "5b7d2d94e88943959c8d9de0260e77d7": {
      "model_module": "@jupyter-widgets/controls",
      "model_module_version": "1.5.0",
      "model_name": "DescriptionStyleModel",
      "state": {
       "description_width": ""
      }
     },
     "5c17dbcd850f45a08f3e809aa8360e63": {
      "model_module": "@jupyter-widgets/controls",
      "model_module_version": "1.5.0",
      "model_name": "DescriptionStyleModel",
      "state": {
       "description_width": ""
      }
     },
     "5c584cac9d8c47a4a488b1f4d553a1d1": {
      "model_module": "@jupyter-widgets/base",
      "model_module_version": "1.2.0",
      "model_name": "LayoutModel",
      "state": {}
     },
     "5cbad3f362434946887d308e8ce41abc": {
      "model_module": "@jupyter-widgets/controls",
      "model_module_version": "1.5.0",
      "model_name": "ProgressStyleModel",
      "state": {
       "description_width": "initial"
      }
     },
     "5d2ac48b41cc434ba2ce2d3debbdd356": {
      "model_module": "@jupyter-widgets/controls",
      "model_module_version": "1.5.0",
      "model_name": "HTMLModel",
      "state": {
       "layout": "IPY_MODEL_41030325065c4558a9a3800ddf83f123",
       "style": "IPY_MODEL_6c5e4a115d904b3a871ef862d7973d32",
       "value": " 3/299 [00:05&lt;08:36,  1.74s/it]"
      }
     },
     "5df27ec2750646abab61cdf46c4e67dd": {
      "model_module": "@jupyter-widgets/controls",
      "model_module_version": "1.5.0",
      "model_name": "HTMLModel",
      "state": {
       "layout": "IPY_MODEL_42b110aa228b440aa8bd39f12a51f0d9",
       "style": "IPY_MODEL_c4b60cea510a49029b3eb21846ab63c8",
       "value": " 299/299 [03:14&lt;00:00,  1.53it/s]"
      }
     },
     "5efe87042f834deaae0fd39ae7fbc078": {
      "model_module": "@jupyter-widgets/controls",
      "model_module_version": "1.5.0",
      "model_name": "HTMLModel",
      "state": {
       "layout": "IPY_MODEL_16ad67477e034382be1469e98e05781b",
       "style": "IPY_MODEL_5140516d553b4496ac9620b588941bf0",
       "value": " 0/289 [00:00&lt;?, ?it/s]"
      }
     },
     "5f70b621fdf54d6fa19f6370c93ae6bd": {
      "model_module": "@jupyter-widgets/base",
      "model_module_version": "1.2.0",
      "model_name": "LayoutModel",
      "state": {}
     },
     "60156fd871024b0698f5af34e8c5aafe": {
      "model_module": "@jupyter-widgets/controls",
      "model_module_version": "1.5.0",
      "model_name": "ProgressStyleModel",
      "state": {
       "description_width": "initial"
      }
     },
     "605d4dd26d074fb887effd6ae96013c4": {
      "model_module": "@jupyter-widgets/controls",
      "model_module_version": "1.5.0",
      "model_name": "HBoxModel",
      "state": {
       "children": [
        "IPY_MODEL_40dec632828e4eada666f750e045597f",
        "IPY_MODEL_1a85a8f770a74ad09a6fba57061c0377"
       ],
       "layout": "IPY_MODEL_22ffbe9661874df1b97455807e623638"
      }
     },
     "6072e5f7b5d04a77a312e6b47efd3761": {
      "model_module": "@jupyter-widgets/base",
      "model_module_version": "1.2.0",
      "model_name": "LayoutModel",
      "state": {}
     },
     "60898d262fd340e69aa8a68c3fc102e8": {
      "model_module": "@jupyter-widgets/base",
      "model_module_version": "1.2.0",
      "model_name": "LayoutModel",
      "state": {}
     },
     "6278500deaee452ba5ca107e465305bb": {
      "model_module": "@jupyter-widgets/base",
      "model_module_version": "1.2.0",
      "model_name": "LayoutModel",
      "state": {}
     },
     "65ed2eedfb124b6cac8bb7b163bf73f9": {
      "model_module": "@jupyter-widgets/controls",
      "model_module_version": "1.5.0",
      "model_name": "IntProgressModel",
      "state": {
       "bar_style": "danger",
       "description": "Table Recognition Task:   0%",
       "layout": "IPY_MODEL_2ef4b68585834b59b6f5d3903f7acadf",
       "max": 289,
       "style": "IPY_MODEL_095886809ed64a08bae20da7be693630"
      }
     },
     "66b877ea2ca845cc8366c39c5c79269e": {
      "model_module": "@jupyter-widgets/base",
      "model_module_version": "1.2.0",
      "model_name": "LayoutModel",
      "state": {}
     },
     "67045c684691440a8a3d98f14caee6b2": {
      "model_module": "@jupyter-widgets/controls",
      "model_module_version": "1.5.0",
      "model_name": "IntProgressModel",
      "state": {
       "bar_style": "success",
       "description": "Table Cell Locating Task: 100%",
       "layout": "IPY_MODEL_ad4e29e5136e4ce7a11a0d7753f1f81e",
       "max": 299,
       "style": "IPY_MODEL_80dcfb72062245b88a260f94171f2a3c",
       "value": 299
      }
     },
     "681981c705e04832aade2b374fb2a6d4": {
      "model_module": "@jupyter-widgets/controls",
      "model_module_version": "1.5.0",
      "model_name": "DescriptionStyleModel",
      "state": {
       "description_width": ""
      }
     },
     "6866c1861d5c4ca0be7a84893d694d7b": {
      "model_module": "@jupyter-widgets/base",
      "model_module_version": "1.2.0",
      "model_name": "LayoutModel",
      "state": {}
     },
     "68cdfd5ef68b494ab078e0d0ab964ae1": {
      "model_module": "@jupyter-widgets/controls",
      "model_module_version": "1.5.0",
      "model_name": "DescriptionStyleModel",
      "state": {
       "description_width": ""
      }
     },
     "68d78f8286e64d2b91f3f83691b8288c": {
      "model_module": "@jupyter-widgets/base",
      "model_module_version": "1.2.0",
      "model_name": "LayoutModel",
      "state": {}
     },
     "697ec26ddf2947578761973e13481113": {
      "model_module": "@jupyter-widgets/controls",
      "model_module_version": "1.5.0",
      "model_name": "ProgressStyleModel",
      "state": {
       "description_width": "initial"
      }
     },
     "6b2c2bc0272d4f26aecc19eaae5ba21c": {
      "model_module": "@jupyter-widgets/controls",
      "model_module_version": "1.5.0",
      "model_name": "HTMLModel",
      "state": {
       "layout": "IPY_MODEL_203658a0c8c74a06a510a1c4b11e6be2",
       "style": "IPY_MODEL_dbe5a4c7932546bca218f82870ec4dcc",
       "value": " 18/289 [00:10&lt;02:35,  1.74it/s]"
      }
     },
     "6b80614b85b2464e85edc5e80475cce8": {
      "model_module": "@jupyter-widgets/controls",
      "model_module_version": "1.5.0",
      "model_name": "IntProgressModel",
      "state": {
       "bar_style": "success",
       "description": "100%",
       "layout": "IPY_MODEL_712b70e05a624b419eceebc155171017",
       "max": 299,
       "style": "IPY_MODEL_100683f8e0d842b4b94a661e009c3cf8",
       "value": 299
      }
     },
     "6c5e4a115d904b3a871ef862d7973d32": {
      "model_module": "@jupyter-widgets/controls",
      "model_module_version": "1.5.0",
      "model_name": "DescriptionStyleModel",
      "state": {
       "description_width": ""
      }
     },
     "6cf4b0f351a245419daae30122a12e64": {
      "model_module": "@jupyter-widgets/controls",
      "model_module_version": "1.5.0",
      "model_name": "DescriptionStyleModel",
      "state": {
       "description_width": ""
      }
     },
     "6d5c0edda8114a6da94b91ce6ef6ef28": {
      "model_module": "@jupyter-widgets/base",
      "model_module_version": "1.2.0",
      "model_name": "LayoutModel",
      "state": {}
     },
     "6d9dee10815149db86c76fb2cf928417": {
      "model_module": "@jupyter-widgets/controls",
      "model_module_version": "1.5.0",
      "model_name": "IntProgressModel",
      "state": {
       "bar_style": "success",
       "description": "100%",
       "layout": "IPY_MODEL_5f70b621fdf54d6fa19f6370c93ae6bd",
       "max": 299,
       "style": "IPY_MODEL_711a7ed04d4747d2ac2c21fe367f83eb",
       "value": 299
      }
     },
     "6dc5b93824e942068ab05c60d4cd2dbf": {
      "model_module": "@jupyter-widgets/controls",
      "model_module_version": "1.5.0",
      "model_name": "ProgressStyleModel",
      "state": {
       "description_width": "initial"
      }
     },
     "6e35abb918884cad946d6d450a408735": {
      "model_module": "@jupyter-widgets/controls",
      "model_module_version": "1.5.0",
      "model_name": "ProgressStyleModel",
      "state": {
       "description_width": "initial"
      }
     },
     "6e4ee6a65d904fdf99b56b07ac375b28": {
      "model_module": "@jupyter-widgets/base",
      "model_module_version": "1.2.0",
      "model_name": "LayoutModel",
      "state": {}
     },
     "6f5f85215368466c9ef02d40d9ff60fd": {
      "model_module": "@jupyter-widgets/controls",
      "model_module_version": "1.5.0",
      "model_name": "DescriptionStyleModel",
      "state": {
       "description_width": ""
      }
     },
     "6f9fc2d4a2b8439b8ec31b6062b921ca": {
      "model_module": "@jupyter-widgets/base",
      "model_module_version": "1.2.0",
      "model_name": "LayoutModel",
      "state": {}
     },
     "6fe89b6a1db145f8a7ed4cb55b771733": {
      "model_module": "@jupyter-widgets/controls",
      "model_module_version": "1.5.0",
      "model_name": "HBoxModel",
      "state": {
       "children": [
        "IPY_MODEL_3b366b37eb014a91a365f17ed2b33e21",
        "IPY_MODEL_30012b790abe4b1b9490184e67e42b55"
       ],
       "layout": "IPY_MODEL_ce5c87afc963417bbaf05a1cfe7dc8bc"
      }
     },
     "6ff71ed2ab654afca0d73d0a79ac70fc": {
      "model_module": "@jupyter-widgets/base",
      "model_module_version": "1.2.0",
      "model_name": "LayoutModel",
      "state": {}
     },
     "7029d763af694949a4d080b3d02b8b0a": {
      "model_module": "@jupyter-widgets/controls",
      "model_module_version": "1.5.0",
      "model_name": "IntProgressModel",
      "state": {
       "bar_style": "success",
       "description": "100%",
       "layout": "IPY_MODEL_2cc2c37684564f22ac967872523330c7",
       "max": 299,
       "style": "IPY_MODEL_19b60dec2bb646328fecfbcacfc26c13",
       "value": 299
      }
     },
     "708a677a64294b458caa2325e6626022": {
      "model_module": "@jupyter-widgets/base",
      "model_module_version": "1.2.0",
      "model_name": "LayoutModel",
      "state": {}
     },
     "711a7ed04d4747d2ac2c21fe367f83eb": {
      "model_module": "@jupyter-widgets/controls",
      "model_module_version": "1.5.0",
      "model_name": "ProgressStyleModel",
      "state": {
       "description_width": "initial"
      }
     },
     "712b70e05a624b419eceebc155171017": {
      "model_module": "@jupyter-widgets/base",
      "model_module_version": "1.2.0",
      "model_name": "LayoutModel",
      "state": {}
     },
     "71a9730c46c940078685600251b0cedf": {
      "model_module": "@jupyter-widgets/controls",
      "model_module_version": "1.5.0",
      "model_name": "HTMLModel",
      "state": {
       "layout": "IPY_MODEL_72b22257f133404bafb0843c04c68c80",
       "style": "IPY_MODEL_5c17dbcd850f45a08f3e809aa8360e63",
       "value": " 289/289 [13:17&lt;00:00,  2.76s/it]"
      }
     },
     "72b22257f133404bafb0843c04c68c80": {
      "model_module": "@jupyter-widgets/base",
      "model_module_version": "1.2.0",
      "model_name": "LayoutModel",
      "state": {}
     },
     "73d8e47ba4f24be1aa201a42707e8340": {
      "model_module": "@jupyter-widgets/base",
      "model_module_version": "1.2.0",
      "model_name": "LayoutModel",
      "state": {}
     },
     "74977a4cbb8b44f6827e15260aa1eafd": {
      "model_module": "@jupyter-widgets/controls",
      "model_module_version": "1.5.0",
      "model_name": "HTMLModel",
      "state": {
       "layout": "IPY_MODEL_a155dc60bb0b438c96d73f0fee3f4c99",
       "style": "IPY_MODEL_39f88ab645d5450ab4cbf9089c9fb80c",
       "value": " 289/289 [06:22&lt;00:00,  1.33s/it]"
      }
     },
     "76d85d7ce219483593f88e4cb980a078": {
      "model_module": "@jupyter-widgets/controls",
      "model_module_version": "1.5.0",
      "model_name": "DescriptionStyleModel",
      "state": {
       "description_width": ""
      }
     },
     "784321bc0e484a10bbdaa4fb7c43a599": {
      "model_module": "@jupyter-widgets/base",
      "model_module_version": "1.2.0",
      "model_name": "LayoutModel",
      "state": {}
     },
     "787a56ad79b84d4e8b69906e6d5083c4": {
      "model_module": "@jupyter-widgets/controls",
      "model_module_version": "1.5.0",
      "model_name": "ProgressStyleModel",
      "state": {
       "description_width": "initial"
      }
     },
     "79fb39b625a447b596720a41c46b8cfa": {
      "model_module": "@jupyter-widgets/controls",
      "model_module_version": "1.5.0",
      "model_name": "HTMLModel",
      "state": {
       "layout": "IPY_MODEL_00549b0de6d54ffa9687daccfcb490e9",
       "style": "IPY_MODEL_7bf8c4f650d141f9a7d4f52be49fec6d",
       "value": " 299/299 [03:17&lt;00:00,  1.52it/s]"
      }
     },
     "7ae20d880a6b451d892a1286aa83a121": {
      "model_module": "@jupyter-widgets/controls",
      "model_module_version": "1.5.0",
      "model_name": "HTMLModel",
      "state": {
       "layout": "IPY_MODEL_01c48a2d8d51438992856c0fbf3036e2",
       "style": "IPY_MODEL_05f1eb834ddd40fa91762b85972d1f29",
       "value": " 289/289 [13:35&lt;00:00,  2.82s/it]"
      }
     },
     "7b9d66748728402082919bb65f772440": {
      "model_module": "@jupyter-widgets/base",
      "model_module_version": "1.2.0",
      "model_name": "LayoutModel",
      "state": {}
     },
     "7bc1c3e486ba4472b019283ab90be53f": {
      "model_module": "@jupyter-widgets/controls",
      "model_module_version": "1.5.0",
      "model_name": "ProgressStyleModel",
      "state": {
       "description_width": "initial"
      }
     },
     "7bf8c4f650d141f9a7d4f52be49fec6d": {
      "model_module": "@jupyter-widgets/controls",
      "model_module_version": "1.5.0",
      "model_name": "DescriptionStyleModel",
      "state": {
       "description_width": ""
      }
     },
     "7c6f87765d5d49ad81ff31e88252d668": {
      "model_module": "@jupyter-widgets/base",
      "model_module_version": "1.2.0",
      "model_name": "LayoutModel",
      "state": {}
     },
     "7dbb6350bb074ec6ba5a44c16adbbfe4": {
      "model_module": "@jupyter-widgets/base",
      "model_module_version": "1.2.0",
      "model_name": "LayoutModel",
      "state": {}
     },
     "7f053b421868423487374945b416b0fb": {
      "model_module": "@jupyter-widgets/base",
      "model_module_version": "1.2.0",
      "model_name": "LayoutModel",
      "state": {}
     },
     "7fb626d4307440f9b834ec77b1362e61": {
      "model_module": "@jupyter-widgets/controls",
      "model_module_version": "1.5.0",
      "model_name": "DescriptionStyleModel",
      "state": {
       "description_width": ""
      }
     },
     "80dcfb72062245b88a260f94171f2a3c": {
      "model_module": "@jupyter-widgets/controls",
      "model_module_version": "1.5.0",
      "model_name": "ProgressStyleModel",
      "state": {
       "description_width": "initial"
      }
     },
     "81fac24af44d4a78a9cb7989a4216cac": {
      "model_module": "@jupyter-widgets/controls",
      "model_module_version": "1.5.0",
      "model_name": "HTMLModel",
      "state": {
       "layout": "IPY_MODEL_7b9d66748728402082919bb65f772440",
       "style": "IPY_MODEL_5b7d2d94e88943959c8d9de0260e77d7",
       "value": " 24/289 [00:19&lt;03:31,  1.25it/s]"
      }
     },
     "8429a6d56d464d2a9ceef04d0fb03533": {
      "model_module": "@jupyter-widgets/controls",
      "model_module_version": "1.5.0",
      "model_name": "HBoxModel",
      "state": {
       "children": [
        "IPY_MODEL_ece984a4d32d4a3abe41f5971488039c",
        "IPY_MODEL_41c0666d93a04b388b1c546528d5ea89"
       ],
       "layout": "IPY_MODEL_dd09573317084f6a903bf78aecf926d4"
      }
     },
     "84776733aa0a49e781d43002259ac1a8": {
      "model_module": "@jupyter-widgets/base",
      "model_module_version": "1.2.0",
      "model_name": "LayoutModel",
      "state": {}
     },
     "8486814f12174e1f82ab57e87ee61537": {
      "model_module": "@jupyter-widgets/controls",
      "model_module_version": "1.5.0",
      "model_name": "HBoxModel",
      "state": {
       "children": [
        "IPY_MODEL_31a58be864b8435f874868819669688f",
        "IPY_MODEL_2beedda171714ca5b497cdc899abad3c"
       ],
       "layout": "IPY_MODEL_9f87080cc4cf4b6cace327f5f8416e75"
      }
     },
     "84b34ccfb44f482f90a417e0712b12a3": {
      "model_module": "@jupyter-widgets/base",
      "model_module_version": "1.2.0",
      "model_name": "LayoutModel",
      "state": {}
     },
     "84e706467b04410e86d18953389442f9": {
      "model_module": "@jupyter-widgets/controls",
      "model_module_version": "1.5.0",
      "model_name": "DescriptionStyleModel",
      "state": {
       "description_width": ""
      }
     },
     "85242ece2b7f4d3eafa28af39c2cc289": {
      "model_module": "@jupyter-widgets/base",
      "model_module_version": "1.2.0",
      "model_name": "LayoutModel",
      "state": {}
     },
     "859842232bfb42fc9385a9a9c84fc96b": {
      "model_module": "@jupyter-widgets/controls",
      "model_module_version": "1.5.0",
      "model_name": "HBoxModel",
      "state": {
       "children": [
        "IPY_MODEL_6b80614b85b2464e85edc5e80475cce8",
        "IPY_MODEL_ad4d59af9424445a8c7c809e19aba11e"
       ],
       "layout": "IPY_MODEL_85242ece2b7f4d3eafa28af39c2cc289"
      }
     },
     "86926e188d6f4ba289a60d077a6bdc7a": {
      "model_module": "@jupyter-widgets/base",
      "model_module_version": "1.2.0",
      "model_name": "LayoutModel",
      "state": {}
     },
     "869f2e2e338e4fd98846fea25d7887a5": {
      "model_module": "@jupyter-widgets/controls",
      "model_module_version": "1.5.0",
      "model_name": "DescriptionStyleModel",
      "state": {
       "description_width": ""
      }
     },
     "8803c28ceb3745cfad12d8dcb552bb33": {
      "model_module": "@jupyter-widgets/base",
      "model_module_version": "1.2.0",
      "model_name": "LayoutModel",
      "state": {}
     },
     "88157936ba9c4f4881c8fe718c435047": {
      "model_module": "@jupyter-widgets/base",
      "model_module_version": "1.2.0",
      "model_name": "LayoutModel",
      "state": {}
     },
     "89097698917e42949c2c410dda863503": {
      "model_module": "@jupyter-widgets/base",
      "model_module_version": "1.2.0",
      "model_name": "LayoutModel",
      "state": {}
     },
     "8a8f93f518a74717b272fd684a5376c3": {
      "model_module": "@jupyter-widgets/controls",
      "model_module_version": "1.5.0",
      "model_name": "IntProgressModel",
      "state": {
       "bar_style": "success",
       "description": "Table Cell Locating Task: 100%",
       "layout": "IPY_MODEL_84b34ccfb44f482f90a417e0712b12a3",
       "max": 299,
       "style": "IPY_MODEL_981a9d6705f34a1c8cd5bb2f137a44ac",
       "value": 299
      }
     },
     "8b864f30914145e49f4e12e9437939f3": {
      "model_module": "@jupyter-widgets/base",
      "model_module_version": "1.2.0",
      "model_name": "LayoutModel",
      "state": {}
     },
     "8cfbc6c1b3e44a5f849d69d2e6c3f5d2": {
      "model_module": "@jupyter-widgets/controls",
      "model_module_version": "1.5.0",
      "model_name": "ProgressStyleModel",
      "state": {
       "description_width": "initial"
      }
     },
     "8d60c888757a478d816ca3db3c8cef4b": {
      "model_module": "@jupyter-widgets/controls",
      "model_module_version": "1.5.0",
      "model_name": "IntProgressModel",
      "state": {
       "bar_style": "success",
       "description": "100%",
       "layout": "IPY_MODEL_faec8a049e6548f3bb5caf9132d0fd44",
       "max": 299,
       "style": "IPY_MODEL_09a57c24ccee4bdd87bba35b7c96a77d",
       "value": 299
      }
     },
     "8e14aa42a3174107bcd4532c840d56d0": {
      "model_module": "@jupyter-widgets/controls",
      "model_module_version": "1.5.0",
      "model_name": "HTMLModel",
      "state": {
       "layout": "IPY_MODEL_b722dfa013ea4494b26703639b946e03",
       "style": "IPY_MODEL_4204d604763d45dcbe7ae06457deb203",
       "value": " 18/299 [00:10&lt;02:45,  1.70it/s]"
      }
     },
     "8ebd98be9a834d49a95e90c1be90d2a1": {
      "model_module": "@jupyter-widgets/base",
      "model_module_version": "1.2.0",
      "model_name": "LayoutModel",
      "state": {}
     },
     "8ec3962913ca4119a6ed7685aac3f140": {
      "model_module": "@jupyter-widgets/controls",
      "model_module_version": "1.5.0",
      "model_name": "DescriptionStyleModel",
      "state": {
       "description_width": ""
      }
     },
     "8eccb5b6b6334717969092cc130ba134": {
      "model_module": "@jupyter-widgets/controls",
      "model_module_version": "1.5.0",
      "model_name": "HTMLModel",
      "state": {
       "layout": "IPY_MODEL_86926e188d6f4ba289a60d077a6bdc7a",
       "style": "IPY_MODEL_00d7cbb6caee49cc8ffc97d5d73acf2a",
       "value": " 289/289 [02:49&lt;00:00,  1.71it/s]"
      }
     },
     "8fc543d9cd254e92bfb0de7fee3c8337": {
      "model_module": "@jupyter-widgets/controls",
      "model_module_version": "1.5.0",
      "model_name": "IntProgressModel",
      "state": {
       "bar_style": "danger",
       "description": "  0%",
       "layout": "IPY_MODEL_b21fb87efb99451a8cabc50a09664f81",
       "max": 289,
       "style": "IPY_MODEL_5a2fc2245efb4bc1b17a7d9b5ae523cf"
      }
     },
     "9287045b3c7a41f2bbc7d8bf7add67fd": {
      "model_module": "@jupyter-widgets/base",
      "model_module_version": "1.2.0",
      "model_name": "LayoutModel",
      "state": {}
     },
     "92c536be92fb46418afd8c61f9caa3c5": {
      "model_module": "@jupyter-widgets/base",
      "model_module_version": "1.2.0",
      "model_name": "LayoutModel",
      "state": {}
     },
     "934cc4799468460992fbe2a32384c5f0": {
      "model_module": "@jupyter-widgets/controls",
      "model_module_version": "1.5.0",
      "model_name": "HBoxModel",
      "state": {
       "children": [
        "IPY_MODEL_0532b0113476432e9834f107f0b8ebb7",
        "IPY_MODEL_dc41b49a37624046a84710523cc64f25"
       ],
       "layout": "IPY_MODEL_26f3eab0df3544b1914808b9c2a8dcdb"
      }
     },
     "941d1930aad247b983963ad153484300": {
      "model_module": "@jupyter-widgets/controls",
      "model_module_version": "1.5.0",
      "model_name": "HBoxModel",
      "state": {
       "children": [
        "IPY_MODEL_8a8f93f518a74717b272fd684a5376c3",
        "IPY_MODEL_f19a9c42cb654f9eac333672d0a9348f"
       ],
       "layout": "IPY_MODEL_9c3880d7e9054703890ddeca688e3f07"
      }
     },
     "945083f78e734065aec4e7030b3c199f": {
      "model_module": "@jupyter-widgets/base",
      "model_module_version": "1.2.0",
      "model_name": "LayoutModel",
      "state": {}
     },
     "94c6093243e44871a99cd7add66f5306": {
      "model_module": "@jupyter-widgets/base",
      "model_module_version": "1.2.0",
      "model_name": "LayoutModel",
      "state": {}
     },
     "9583e7525078420980a527dc63bc7f1a": {
      "model_module": "@jupyter-widgets/controls",
      "model_module_version": "1.5.0",
      "model_name": "HBoxModel",
      "state": {
       "children": [
        "IPY_MODEL_b17795b2c62c4ae382847f1195b5ce80",
        "IPY_MODEL_5d2ac48b41cc434ba2ce2d3debbdd356"
       ],
       "layout": "IPY_MODEL_6278500deaee452ba5ca107e465305bb"
      }
     },
     "961e8c738cbb42c6b3daa1db3c4c55b3": {
      "model_module": "@jupyter-widgets/controls",
      "model_module_version": "1.5.0",
      "model_name": "IntProgressModel",
      "state": {
       "bar_style": "danger",
       "description": "  2%",
       "layout": "IPY_MODEL_f2ca5016e76448b8b671736943b3a91b",
       "max": 289,
       "style": "IPY_MODEL_3f837e0aa1124e6c951798807b811df3",
       "value": 5
      }
     },
     "981a9d6705f34a1c8cd5bb2f137a44ac": {
      "model_module": "@jupyter-widgets/controls",
      "model_module_version": "1.5.0",
      "model_name": "ProgressStyleModel",
      "state": {
       "description_width": "initial"
      }
     },
     "98ecd945fd36453fb0e5c74886411b3d": {
      "model_module": "@jupyter-widgets/controls",
      "model_module_version": "1.5.0",
      "model_name": "IntProgressModel",
      "state": {
       "bar_style": "success",
       "description": "Table Cell Locating Task: 100%",
       "layout": "IPY_MODEL_06427078542f4baa9789e5b03906b912",
       "max": 299,
       "style": "IPY_MODEL_a7ed6dec5d714d038087ee71074998f0",
       "value": 299
      }
     },
     "98fdf753c9db4300953c42fc8499c0cf": {
      "model_module": "@jupyter-widgets/controls",
      "model_module_version": "1.5.0",
      "model_name": "HTMLModel",
      "state": {
       "layout": "IPY_MODEL_7f053b421868423487374945b416b0fb",
       "style": "IPY_MODEL_a6416919e7f54eac928d56ee46c37783",
       "value": " 0/289 [13:05&lt;?, ?it/s]"
      }
     },
     "9a5be288ee6445a1b2536f7fa64a68bb": {
      "model_module": "@jupyter-widgets/controls",
      "model_module_version": "1.5.0",
      "model_name": "IntProgressModel",
      "state": {
       "bar_style": "success",
       "description": "Table Cell Locating Task: 100%",
       "layout": "IPY_MODEL_708a677a64294b458caa2325e6626022",
       "max": 299,
       "style": "IPY_MODEL_1d82a3084c534e9eadf5d38f1dc63992",
       "value": 299
      }
     },
     "9b4f73f12795476d8272c2dc600a0fc4": {
      "model_module": "@jupyter-widgets/base",
      "model_module_version": "1.2.0",
      "model_name": "LayoutModel",
      "state": {}
     },
     "9c3880d7e9054703890ddeca688e3f07": {
      "model_module": "@jupyter-widgets/base",
      "model_module_version": "1.2.0",
      "model_name": "LayoutModel",
      "state": {}
     },
     "9d3526181bd74fa682643257f4947288": {
      "model_module": "@jupyter-widgets/controls",
      "model_module_version": "1.5.0",
      "model_name": "HBoxModel",
      "state": {
       "children": [
        "IPY_MODEL_cc42f1e6b115466ab29a1b4bf5af59e9",
        "IPY_MODEL_79fb39b625a447b596720a41c46b8cfa"
       ],
       "layout": "IPY_MODEL_aeb23483193c48518b31b00818293bb3"
      }
     },
     "9f87080cc4cf4b6cace327f5f8416e75": {
      "model_module": "@jupyter-widgets/base",
      "model_module_version": "1.2.0",
      "model_name": "LayoutModel",
      "state": {}
     },
     "9f9d3a92a5464b0f9887d1cf0aad375a": {
      "model_module": "@jupyter-widgets/controls",
      "model_module_version": "1.5.0",
      "model_name": "ProgressStyleModel",
      "state": {
       "description_width": "initial"
      }
     },
     "a05032c25cc64630841b02bf9f01bab5": {
      "model_module": "@jupyter-widgets/base",
      "model_module_version": "1.2.0",
      "model_name": "LayoutModel",
      "state": {}
     },
     "a0a7a1ba24b64f14932c6ee0153e1f9f": {
      "model_module": "@jupyter-widgets/controls",
      "model_module_version": "1.5.0",
      "model_name": "ProgressStyleModel",
      "state": {
       "description_width": "initial"
      }
     },
     "a155dc60bb0b438c96d73f0fee3f4c99": {
      "model_module": "@jupyter-widgets/base",
      "model_module_version": "1.2.0",
      "model_name": "LayoutModel",
      "state": {}
     },
     "a210177049144b3989fa9adc71f08a68": {
      "model_module": "@jupyter-widgets/controls",
      "model_module_version": "1.5.0",
      "model_name": "IntProgressModel",
      "state": {
       "bar_style": "success",
       "description": "Table Cell Locating Task: 100%",
       "layout": "IPY_MODEL_9287045b3c7a41f2bbc7d8bf7add67fd",
       "max": 299,
       "style": "IPY_MODEL_a24a3781f279494b80e6d52539d7106e",
       "value": 299
      }
     },
     "a24a3781f279494b80e6d52539d7106e": {
      "model_module": "@jupyter-widgets/controls",
      "model_module_version": "1.5.0",
      "model_name": "ProgressStyleModel",
      "state": {
       "description_width": "initial"
      }
     },
     "a4f9b7271a864e68b2614eb9380b2a02": {
      "model_module": "@jupyter-widgets/controls",
      "model_module_version": "1.5.0",
      "model_name": "IntProgressModel",
      "state": {
       "bar_style": "danger",
       "description": "  0%",
       "layout": "IPY_MODEL_c8e9f26de25b407ab642bb3284b9f3e7",
       "max": 289,
       "style": "IPY_MODEL_d087315c40484a13ae18596697580e85"
      }
     },
     "a58c8b7e237b4a6981f3b659f463c7f0": {
      "model_module": "@jupyter-widgets/base",
      "model_module_version": "1.2.0",
      "model_name": "LayoutModel",
      "state": {}
     },
     "a6416919e7f54eac928d56ee46c37783": {
      "model_module": "@jupyter-widgets/controls",
      "model_module_version": "1.5.0",
      "model_name": "DescriptionStyleModel",
      "state": {
       "description_width": ""
      }
     },
     "a723b88298604ae3aa089661897259c4": {
      "model_module": "@jupyter-widgets/controls",
      "model_module_version": "1.5.0",
      "model_name": "DescriptionStyleModel",
      "state": {
       "description_width": ""
      }
     },
     "a7ed6dec5d714d038087ee71074998f0": {
      "model_module": "@jupyter-widgets/controls",
      "model_module_version": "1.5.0",
      "model_name": "ProgressStyleModel",
      "state": {
       "description_width": "initial"
      }
     },
     "a884fb133734478d8f35d1b2bce7cdbf": {
      "model_module": "@jupyter-widgets/base",
      "model_module_version": "1.2.0",
      "model_name": "LayoutModel",
      "state": {}
     },
     "abef528eefc843d6b8a3babfd0763477": {
      "model_module": "@jupyter-widgets/controls",
      "model_module_version": "1.5.0",
      "model_name": "HBoxModel",
      "state": {
       "children": [
        "IPY_MODEL_15d74355335e4a02b565c77a21d33e3b",
        "IPY_MODEL_44ee2694a9d3420481fd83a57ad92e44"
       ],
       "layout": "IPY_MODEL_df635d58c8ef4e35bd26164dbd316cd1"
      }
     },
     "ad07dc3a092e436abc90265a95c53bdd": {
      "model_module": "@jupyter-widgets/base",
      "model_module_version": "1.2.0",
      "model_name": "LayoutModel",
      "state": {}
     },
     "ad4d59af9424445a8c7c809e19aba11e": {
      "model_module": "@jupyter-widgets/controls",
      "model_module_version": "1.5.0",
      "model_name": "HTMLModel",
      "state": {
       "layout": "IPY_MODEL_d3750ee7e4a741bfb9ba7b0546b13547",
       "style": "IPY_MODEL_0d10668277d34971bb10c89303d5c747",
       "value": " 299/299 [03:49&lt;00:00,  1.31it/s]"
      }
     },
     "ad4e29e5136e4ce7a11a0d7753f1f81e": {
      "model_module": "@jupyter-widgets/base",
      "model_module_version": "1.2.0",
      "model_name": "LayoutModel",
      "state": {}
     },
     "aeb23483193c48518b31b00818293bb3": {
      "model_module": "@jupyter-widgets/base",
      "model_module_version": "1.2.0",
      "model_name": "LayoutModel",
      "state": {}
     },
     "b17795b2c62c4ae382847f1195b5ce80": {
      "model_module": "@jupyter-widgets/controls",
      "model_module_version": "1.5.0",
      "model_name": "IntProgressModel",
      "state": {
       "bar_style": "danger",
       "description": "Table Cell Locating Task:   1%",
       "layout": "IPY_MODEL_448a2a6be79e4121bb846f925ce6f5a8",
       "max": 299,
       "style": "IPY_MODEL_6e35abb918884cad946d6d450a408735",
       "value": 3
      }
     },
     "b21fb87efb99451a8cabc50a09664f81": {
      "model_module": "@jupyter-widgets/base",
      "model_module_version": "1.2.0",
      "model_name": "LayoutModel",
      "state": {}
     },
     "b31565526251423290535d4e2b707e50": {
      "model_module": "@jupyter-widgets/controls",
      "model_module_version": "1.5.0",
      "model_name": "HBoxModel",
      "state": {
       "children": [
        "IPY_MODEL_8fc543d9cd254e92bfb0de7fee3c8337",
        "IPY_MODEL_e6de7d1604b44fd0a8e09deab03584c6"
       ],
       "layout": "IPY_MODEL_f946fdd069304aa28d8d7ae2d3f1c3af"
      }
     },
     "b59fd5ba66d14eba97764457f4e52350": {
      "model_module": "@jupyter-widgets/controls",
      "model_module_version": "1.5.0",
      "model_name": "HBoxModel",
      "state": {
       "children": [
        "IPY_MODEL_8d60c888757a478d816ca3db3c8cef4b",
        "IPY_MODEL_ce4ecb2583f446c59a586c6b137efa33"
       ],
       "layout": "IPY_MODEL_3444f9e5599b49c5b461601256cd274f"
      }
     },
     "b5c8e3f8e6d04b558588c4ab2e09d0ca": {
      "model_module": "@jupyter-widgets/controls",
      "model_module_version": "1.5.0",
      "model_name": "HTMLModel",
      "state": {
       "layout": "IPY_MODEL_42592e8121964c3c947bc78bd74a3ce2",
       "style": "IPY_MODEL_539d72a9bf3f4fed87bed0b50dc16aae",
       "value": " 299/299 [02:45&lt;00:00,  1.81it/s]"
      }
     },
     "b65381c3dfd24f68b9ccc029a0b8a488": {
      "model_module": "@jupyter-widgets/controls",
      "model_module_version": "1.5.0",
      "model_name": "IntProgressModel",
      "state": {
       "bar_style": "danger",
       "description": "  6%",
       "layout": "IPY_MODEL_488665d2d5b5472dac6a56614d6e5207",
       "max": 299,
       "style": "IPY_MODEL_5cbad3f362434946887d308e8ce41abc",
       "value": 18
      }
     },
     "b722dfa013ea4494b26703639b946e03": {
      "model_module": "@jupyter-widgets/base",
      "model_module_version": "1.2.0",
      "model_name": "LayoutModel",
      "state": {}
     },
     "b88729a1b6064dec93642a7078c0eb57": {
      "model_module": "@jupyter-widgets/base",
      "model_module_version": "1.2.0",
      "model_name": "LayoutModel",
      "state": {}
     },
     "b889b3eba2d84e66832a1038f08c2fb2": {
      "model_module": "@jupyter-widgets/controls",
      "model_module_version": "1.5.0",
      "model_name": "HTMLModel",
      "state": {
       "layout": "IPY_MODEL_3312fd9c3a024f72bc44868daf06c179",
       "style": "IPY_MODEL_ccbd6ff124f34b9686383c25aadd1110",
       "value": " 299/299 [03:05&lt;00:00,  1.61it/s]"
      }
     },
     "b895651cc484469ea5f76ec00329d528": {
      "model_module": "@jupyter-widgets/controls",
      "model_module_version": "1.5.0",
      "model_name": "DescriptionStyleModel",
      "state": {
       "description_width": ""
      }
     },
     "b953694a9d3b444980938dd7f1d9e948": {
      "model_module": "@jupyter-widgets/controls",
      "model_module_version": "1.5.0",
      "model_name": "HTMLModel",
      "state": {
       "layout": "IPY_MODEL_68d78f8286e64d2b91f3f83691b8288c",
       "style": "IPY_MODEL_a723b88298604ae3aa089661897259c4",
       "value": " 43/299 [00:22&lt;02:12,  1.93it/s]"
      }
     },
     "ba1ea020e0c74e00914b8b4b904f2668": {
      "model_module": "@jupyter-widgets/base",
      "model_module_version": "1.2.0",
      "model_name": "LayoutModel",
      "state": {}
     },
     "bb3e5e37207245e5a7f8cdf3a0368725": {
      "model_module": "@jupyter-widgets/controls",
      "model_module_version": "1.5.0",
      "model_name": "ProgressStyleModel",
      "state": {
       "description_width": "initial"
      }
     },
     "bb4466e65c6e4087837c5356cdad91c8": {
      "model_module": "@jupyter-widgets/controls",
      "model_module_version": "1.5.0",
      "model_name": "DescriptionStyleModel",
      "state": {
       "description_width": ""
      }
     },
     "bb5a158487494cb09fc67a6f759a25a0": {
      "model_module": "@jupyter-widgets/controls",
      "model_module_version": "1.5.0",
      "model_name": "ProgressStyleModel",
      "state": {
       "description_width": "initial"
      }
     },
     "be262ce39bb646d4b1c57151022304d4": {
      "model_module": "@jupyter-widgets/controls",
      "model_module_version": "1.5.0",
      "model_name": "HTMLModel",
      "state": {
       "layout": "IPY_MODEL_14d1498843934f7385194717088fb0c2",
       "style": "IPY_MODEL_6cf4b0f351a245419daae30122a12e64",
       "value": " 0/289 [00:07&lt;?, ?it/s]"
      }
     },
     "bebff6c13cd444269370a5236d51aafc": {
      "model_module": "@jupyter-widgets/base",
      "model_module_version": "1.2.0",
      "model_name": "LayoutModel",
      "state": {}
     },
     "bef1cf6b02c74addb2f27579d1e6a44b": {
      "model_module": "@jupyter-widgets/base",
      "model_module_version": "1.2.0",
      "model_name": "LayoutModel",
      "state": {}
     },
     "bfba9f7d08dc412889ffb9f2be30d104": {
      "model_module": "@jupyter-widgets/controls",
      "model_module_version": "1.5.0",
      "model_name": "IntProgressModel",
      "state": {
       "bar_style": "success",
       "description": "Table Cell Locating Task: 100%",
       "layout": "IPY_MODEL_3d920d7455074b5fa6001c0fbdb8587a",
       "max": 299,
       "style": "IPY_MODEL_11b60d3b737c48939345d718f15e57e5",
       "value": 299
      }
     },
     "c054527e089d4e50bcaac083e5f25175": {
      "model_module": "@jupyter-widgets/base",
      "model_module_version": "1.2.0",
      "model_name": "LayoutModel",
      "state": {}
     },
     "c09cf15f995748c9989dc7cccc60bf81": {
      "model_module": "@jupyter-widgets/controls",
      "model_module_version": "1.5.0",
      "model_name": "HBoxModel",
      "state": {
       "children": [
        "IPY_MODEL_36a14116177740f69e907e6c8ba1ae02",
        "IPY_MODEL_e5555527065449ac85617d5f8eb9166f"
       ],
       "layout": "IPY_MODEL_2a49f05928804f7d8f204623b40f179e"
      }
     },
     "c0bde1df8a7741bdbbe4f9263c7835a4": {
      "model_module": "@jupyter-widgets/base",
      "model_module_version": "1.2.0",
      "model_name": "LayoutModel",
      "state": {}
     },
     "c0d0dc233aa24777852832f6019eef95": {
      "model_module": "@jupyter-widgets/base",
      "model_module_version": "1.2.0",
      "model_name": "LayoutModel",
      "state": {}
     },
     "c4b60cea510a49029b3eb21846ab63c8": {
      "model_module": "@jupyter-widgets/controls",
      "model_module_version": "1.5.0",
      "model_name": "DescriptionStyleModel",
      "state": {
       "description_width": ""
      }
     },
     "c4e328f77deb4db4b34dd69aded355d2": {
      "model_module": "@jupyter-widgets/base",
      "model_module_version": "1.2.0",
      "model_name": "LayoutModel",
      "state": {}
     },
     "c699f4a74da94fd8b5f0de075a0723cd": {
      "model_module": "@jupyter-widgets/controls",
      "model_module_version": "1.5.0",
      "model_name": "HBoxModel",
      "state": {
       "children": [
        "IPY_MODEL_7029d763af694949a4d080b3d02b8b0a",
        "IPY_MODEL_54c4e999414d4e7ab193c1dfb00aca39"
       ],
       "layout": "IPY_MODEL_55671812f0c940b487fd89f965c25578"
      }
     },
     "c7b05edebe494af4a679f2dad73b5253": {
      "model_module": "@jupyter-widgets/controls",
      "model_module_version": "1.5.0",
      "model_name": "HBoxModel",
      "state": {
       "children": [
        "IPY_MODEL_98ecd945fd36453fb0e5c74886411b3d",
        "IPY_MODEL_51a7d79b6fdc481381d74dcb7145f10e"
       ],
       "layout": "IPY_MODEL_026b0ae9f87e4505896327eb5982d4db"
      }
     },
     "c861ee04979b42f0bd2cf40bcc27a0dd": {
      "model_module": "@jupyter-widgets/controls",
      "model_module_version": "1.5.0",
      "model_name": "ProgressStyleModel",
      "state": {
       "description_width": "initial"
      }
     },
     "c8e9f26de25b407ab642bb3284b9f3e7": {
      "model_module": "@jupyter-widgets/base",
      "model_module_version": "1.2.0",
      "model_name": "LayoutModel",
      "state": {}
     },
     "c91ffa9eae2245d6999ad929e61e1a27": {
      "model_module": "@jupyter-widgets/base",
      "model_module_version": "1.2.0",
      "model_name": "LayoutModel",
      "state": {}
     },
     "cb8c3d31a79e4550a2b32e4137fc0b52": {
      "model_module": "@jupyter-widgets/controls",
      "model_module_version": "1.5.0",
      "model_name": "DescriptionStyleModel",
      "state": {
       "description_width": ""
      }
     },
     "cc42f1e6b115466ab29a1b4bf5af59e9": {
      "model_module": "@jupyter-widgets/controls",
      "model_module_version": "1.5.0",
      "model_name": "IntProgressModel",
      "state": {
       "bar_style": "success",
       "description": "Table Cell Locating Task: 100%",
       "layout": "IPY_MODEL_92c536be92fb46418afd8c61f9caa3c5",
       "max": 299,
       "style": "IPY_MODEL_787a56ad79b84d4e8b69906e6d5083c4",
       "value": 299
      }
     },
     "ccbd6ff124f34b9686383c25aadd1110": {
      "model_module": "@jupyter-widgets/controls",
      "model_module_version": "1.5.0",
      "model_name": "DescriptionStyleModel",
      "state": {
       "description_width": ""
      }
     },
     "ce25b3867a0b4c6da5e7761244dd2bc7": {
      "model_module": "@jupyter-widgets/controls",
      "model_module_version": "1.5.0",
      "model_name": "HBoxModel",
      "state": {
       "children": [
        "IPY_MODEL_bfba9f7d08dc412889ffb9f2be30d104",
        "IPY_MODEL_5b03b3f194e544ad9dca8337ccbbce4f"
       ],
       "layout": "IPY_MODEL_a884fb133734478d8f35d1b2bce7cdbf"
      }
     },
     "ce4ecb2583f446c59a586c6b137efa33": {
      "model_module": "@jupyter-widgets/controls",
      "model_module_version": "1.5.0",
      "model_name": "HTMLModel",
      "state": {
       "layout": "IPY_MODEL_1226f44d43b34701938185c043fcddbe",
       "style": "IPY_MODEL_13a60a1ad0c64477b5dd12b8de9d5a04",
       "value": " 299/299 [03:00&lt;00:00,  1.66it/s]"
      }
     },
     "ce5c87afc963417bbaf05a1cfe7dc8bc": {
      "model_module": "@jupyter-widgets/base",
      "model_module_version": "1.2.0",
      "model_name": "LayoutModel",
      "state": {}
     },
     "d087315c40484a13ae18596697580e85": {
      "model_module": "@jupyter-widgets/controls",
      "model_module_version": "1.5.0",
      "model_name": "ProgressStyleModel",
      "state": {
       "description_width": "initial"
      }
     },
     "d0f212aef386413b87092b22d4a0840c": {
      "model_module": "@jupyter-widgets/base",
      "model_module_version": "1.2.0",
      "model_name": "LayoutModel",
      "state": {}
     },
     "d21acddef5fc4c81898134e20c259d23": {
      "model_module": "@jupyter-widgets/controls",
      "model_module_version": "1.5.0",
      "model_name": "HBoxModel",
      "state": {
       "children": [
        "IPY_MODEL_2e0dd6a4d78742228e4ff03fff5c95fd",
        "IPY_MODEL_47afdc6ab0cd42599ac578f77ba96c3b"
       ],
       "layout": "IPY_MODEL_c91ffa9eae2245d6999ad929e61e1a27"
      }
     },
     "d23fce2135344b2892115bc79aeaea91": {
      "model_module": "@jupyter-widgets/controls",
      "model_module_version": "1.5.0",
      "model_name": "HBoxModel",
      "state": {
       "children": [
        "IPY_MODEL_a4f9b7271a864e68b2614eb9380b2a02",
        "IPY_MODEL_be262ce39bb646d4b1c57151022304d4"
       ],
       "layout": "IPY_MODEL_bebff6c13cd444269370a5236d51aafc"
      }
     },
     "d3750ee7e4a741bfb9ba7b0546b13547": {
      "model_module": "@jupyter-widgets/base",
      "model_module_version": "1.2.0",
      "model_name": "LayoutModel",
      "state": {}
     },
     "d4ab17cd81834333bf1518ef7a4d3b28": {
      "model_module": "@jupyter-widgets/controls",
      "model_module_version": "1.5.0",
      "model_name": "ProgressStyleModel",
      "state": {
       "description_width": "initial"
      }
     },
     "d528b7e8b1334d26b56e2edc93210b4a": {
      "model_module": "@jupyter-widgets/base",
      "model_module_version": "1.2.0",
      "model_name": "LayoutModel",
      "state": {}
     },
     "d535ba3e36d84ef8842431295fc961b3": {
      "model_module": "@jupyter-widgets/controls",
      "model_module_version": "1.5.0",
      "model_name": "HBoxModel",
      "state": {
       "children": [
        "IPY_MODEL_e0e9c80edbfd4dd2a4519df6a9b2bb2e",
        "IPY_MODEL_71a9730c46c940078685600251b0cedf"
       ],
       "layout": "IPY_MODEL_5c584cac9d8c47a4a488b1f4d553a1d1"
      }
     },
     "d6064be4bf8248d5a5bf854d4626ef23": {
      "model_module": "@jupyter-widgets/controls",
      "model_module_version": "1.5.0",
      "model_name": "HBoxModel",
      "state": {
       "children": [
        "IPY_MODEL_ee385544360f4c43af4bae7a0454b08a",
        "IPY_MODEL_8eccb5b6b6334717969092cc130ba134"
       ],
       "layout": "IPY_MODEL_66b877ea2ca845cc8366c39c5c79269e"
      }
     },
     "d8fcfd3cbdfa457b8ce62bc6cdae8408": {
      "model_module": "@jupyter-widgets/controls",
      "model_module_version": "1.5.0",
      "model_name": "HBoxModel",
      "state": {
       "children": [
        "IPY_MODEL_44fff236923c4f6d9ab489fd7b0eb1a0",
        "IPY_MODEL_5df27ec2750646abab61cdf46c4e67dd"
       ],
       "layout": "IPY_MODEL_398b9c07cda8488e85478626047fcd77"
      }
     },
     "d9c3f595c09b42a09362ed78426414a4": {
      "model_module": "@jupyter-widgets/controls",
      "model_module_version": "1.5.0",
      "model_name": "DescriptionStyleModel",
      "state": {
       "description_width": ""
      }
     },
     "dafc0d3c0a894c92a7e152dbff958acf": {
      "model_module": "@jupyter-widgets/controls",
      "model_module_version": "1.5.0",
      "model_name": "DescriptionStyleModel",
      "state": {
       "description_width": ""
      }
     },
     "dafeeebf21004788879f2d5389397718": {
      "model_module": "@jupyter-widgets/controls",
      "model_module_version": "1.5.0",
      "model_name": "HTMLModel",
      "state": {
       "layout": "IPY_MODEL_e1b95f4f19f24c728351c411a28cf0ae",
       "style": "IPY_MODEL_6f5f85215368466c9ef02d40d9ff60fd",
       "value": " 299/299 [05:11&lt;00:00,  1.04s/it]"
      }
     },
     "db145950abda4d508c6c9b8c5943b572": {
      "model_module": "@jupyter-widgets/base",
      "model_module_version": "1.2.0",
      "model_name": "LayoutModel",
      "state": {}
     },
     "dbe5a4c7932546bca218f82870ec4dcc": {
      "model_module": "@jupyter-widgets/controls",
      "model_module_version": "1.5.0",
      "model_name": "DescriptionStyleModel",
      "state": {
       "description_width": ""
      }
     },
     "dc41b49a37624046a84710523cc64f25": {
      "model_module": "@jupyter-widgets/controls",
      "model_module_version": "1.5.0",
      "model_name": "HTMLModel",
      "state": {
       "layout": "IPY_MODEL_2f9069d73e42421b844734c1bf9a0794",
       "style": "IPY_MODEL_56081d8295cc4f7ca38b52f51c3066d4",
       "value": " 9/289 [00:05&lt;02:35,  1.80it/s]"
      }
     },
     "dd09573317084f6a903bf78aecf926d4": {
      "model_module": "@jupyter-widgets/base",
      "model_module_version": "1.2.0",
      "model_name": "LayoutModel",
      "state": {}
     },
     "de512c79d71d4b4980a750fc6123767c": {
      "model_module": "@jupyter-widgets/base",
      "model_module_version": "1.2.0",
      "model_name": "LayoutModel",
      "state": {}
     },
     "df635d58c8ef4e35bd26164dbd316cd1": {
      "model_module": "@jupyter-widgets/base",
      "model_module_version": "1.2.0",
      "model_name": "LayoutModel",
      "state": {}
     },
     "df6fc927d13746b3bcd7ef91e09cac38": {
      "model_module": "@jupyter-widgets/controls",
      "model_module_version": "1.5.0",
      "model_name": "IntProgressModel",
      "state": {
       "bar_style": "success",
       "description": "Table Cell Locating Task: 100%",
       "layout": "IPY_MODEL_7dbb6350bb074ec6ba5a44c16adbbfe4",
       "max": 299,
       "style": "IPY_MODEL_3cef6a4dcb024c86af77b656c2eea43a",
       "value": 299
      }
     },
     "df8eb92c633f4e0bbd73c599ac63dadd": {
      "model_module": "@jupyter-widgets/controls",
      "model_module_version": "1.5.0",
      "model_name": "HBoxModel",
      "state": {
       "children": [
        "IPY_MODEL_225d3dad80ec49798361bfeed82ce76f",
        "IPY_MODEL_81fac24af44d4a78a9cb7989a4216cac"
       ],
       "layout": "IPY_MODEL_b88729a1b6064dec93642a7078c0eb57"
      }
     },
     "dfe2321bbe11400695a2a507141783dc": {
      "model_module": "@jupyter-widgets/base",
      "model_module_version": "1.2.0",
      "model_name": "LayoutModel",
      "state": {}
     },
     "e0e9c80edbfd4dd2a4519df6a9b2bb2e": {
      "model_module": "@jupyter-widgets/controls",
      "model_module_version": "1.5.0",
      "model_name": "IntProgressModel",
      "state": {
       "bar_style": "success",
       "description": "100%",
       "layout": "IPY_MODEL_02a7d5b6a7da40debb71e3d46d0aeb73",
       "max": 289,
       "style": "IPY_MODEL_ee03cc070f3c448db4a3aa7d77f6607c",
       "value": 289
      }
     },
     "e19c03ce62ce4a2aae297403b9b6f0ce": {
      "model_module": "@jupyter-widgets/base",
      "model_module_version": "1.2.0",
      "model_name": "LayoutModel",
      "state": {}
     },
     "e1b95f4f19f24c728351c411a28cf0ae": {
      "model_module": "@jupyter-widgets/base",
      "model_module_version": "1.2.0",
      "model_name": "LayoutModel",
      "state": {}
     },
     "e28b9182824f43d18ded35a524c96894": {
      "model_module": "@jupyter-widgets/controls",
      "model_module_version": "1.5.0",
      "model_name": "DescriptionStyleModel",
      "state": {
       "description_width": ""
      }
     },
     "e31802f4168744b0849fd8c943763dc0": {
      "model_module": "@jupyter-widgets/controls",
      "model_module_version": "1.5.0",
      "model_name": "HTMLModel",
      "state": {
       "layout": "IPY_MODEL_c054527e089d4e50bcaac083e5f25175",
       "style": "IPY_MODEL_cb8c3d31a79e4550a2b32e4137fc0b52",
       "value": " 289/289 [02:45&lt;00:00,  1.74it/s]"
      }
     },
     "e5555527065449ac85617d5f8eb9166f": {
      "model_module": "@jupyter-widgets/controls",
      "model_module_version": "1.5.0",
      "model_name": "HTMLModel",
      "state": {
       "layout": "IPY_MODEL_50127dbc6a5d4a579d4de5dde81889c7",
       "style": "IPY_MODEL_3f9f182b1e1047b0993aa0f476f54cce",
       "value": " 299/299 [02:58&lt;00:00,  1.67it/s]"
      }
     },
     "e653309e6c4a42768664b3570fd7217d": {
      "model_module": "@jupyter-widgets/controls",
      "model_module_version": "1.5.0",
      "model_name": "HBoxModel",
      "state": {
       "children": [
        "IPY_MODEL_02bec60d2f604e0f83906bf5093bc237",
        "IPY_MODEL_4d176f02d8594aad89732fe519990001"
       ],
       "layout": "IPY_MODEL_84776733aa0a49e781d43002259ac1a8"
      }
     },
     "e6614356d66b447bb1faa13bf565f97d": {
      "model_module": "@jupyter-widgets/base",
      "model_module_version": "1.2.0",
      "model_name": "LayoutModel",
      "state": {}
     },
     "e6de7d1604b44fd0a8e09deab03584c6": {
      "model_module": "@jupyter-widgets/controls",
      "model_module_version": "1.5.0",
      "model_name": "HTMLModel",
      "state": {
       "layout": "IPY_MODEL_012f7348bce0492eae19fc3df95b3800",
       "style": "IPY_MODEL_20df472394164a4fa8acd5ada1f228de",
       "value": " 0/289 [00:50&lt;?, ?it/s]"
      }
     },
     "e7a070a46ad64297908e7a333b338e08": {
      "model_module": "@jupyter-widgets/controls",
      "model_module_version": "1.5.0",
      "model_name": "HBoxModel",
      "state": {
       "children": [
        "IPY_MODEL_076a38b744da42f78acde92b2bd6a956",
        "IPY_MODEL_fa187569a8834c64b344c4d969987577"
       ],
       "layout": "IPY_MODEL_c0bde1df8a7741bdbbe4f9263c7835a4"
      }
     },
     "ea93cd438870442caf071d7330e1ae92": {
      "model_module": "@jupyter-widgets/controls",
      "model_module_version": "1.5.0",
      "model_name": "IntProgressModel",
      "state": {
       "bar_style": "danger",
       "description": "Table Recognition Task:   0%",
       "layout": "IPY_MODEL_94c6093243e44871a99cd7add66f5306",
       "max": 289,
       "style": "IPY_MODEL_24adb4726b704c04b5ca7a2d34fd7a17"
      }
     },
     "ece984a4d32d4a3abe41f5971488039c": {
      "model_module": "@jupyter-widgets/controls",
      "model_module_version": "1.5.0",
      "model_name": "IntProgressModel",
      "state": {
       "bar_style": "danger",
       "description": "  2%",
       "layout": "IPY_MODEL_08c2fb84ccfe40a0a1e0433ce295a2ab",
       "max": 289,
       "style": "IPY_MODEL_c861ee04979b42f0bd2cf40bcc27a0dd",
       "value": 6
      }
     },
     "ed2ac313581645af857f643d62a0c41c": {
      "model_module": "@jupyter-widgets/controls",
      "model_module_version": "1.5.0",
      "model_name": "IntProgressModel",
      "state": {
       "bar_style": "success",
       "description": "100%",
       "layout": "IPY_MODEL_945083f78e734065aec4e7030b3c199f",
       "max": 299,
       "style": "IPY_MODEL_7bc1c3e486ba4472b019283ab90be53f",
       "value": 299
      }
     },
     "ee03cc070f3c448db4a3aa7d77f6607c": {
      "model_module": "@jupyter-widgets/controls",
      "model_module_version": "1.5.0",
      "model_name": "ProgressStyleModel",
      "state": {
       "description_width": "initial"
      }
     },
     "ee385544360f4c43af4bae7a0454b08a": {
      "model_module": "@jupyter-widgets/controls",
      "model_module_version": "1.5.0",
      "model_name": "IntProgressModel",
      "state": {
       "bar_style": "success",
       "description": "Table Recognition Task: 100%",
       "layout": "IPY_MODEL_4e24f54d3f4b4f67bc30598ecefc3c77",
       "max": 289,
       "style": "IPY_MODEL_9f9d3a92a5464b0f9887d1cf0aad375a",
       "value": 289
      }
     },
     "f17a997b013543ce992f8bbd876450cf": {
      "model_module": "@jupyter-widgets/controls",
      "model_module_version": "1.5.0",
      "model_name": "HBoxModel",
      "state": {
       "children": [
        "IPY_MODEL_26bf2c23168e48ff956a8ab9c5a4d3f5",
        "IPY_MODEL_e31802f4168744b0849fd8c943763dc0"
       ],
       "layout": "IPY_MODEL_ba1ea020e0c74e00914b8b4b904f2668"
      }
     },
     "f19a9c42cb654f9eac333672d0a9348f": {
      "model_module": "@jupyter-widgets/controls",
      "model_module_version": "1.5.0",
      "model_name": "HTMLModel",
      "state": {
       "layout": "IPY_MODEL_4b9df9f1c15643e7b46f065cc0806b73",
       "style": "IPY_MODEL_68cdfd5ef68b494ab078e0d0ab964ae1",
       "value": " 299/299 [12:08&lt;00:00,  2.44s/it]"
      }
     },
     "f1f929afe8f24fd6ad02a85dbd7fc8dd": {
      "model_module": "@jupyter-widgets/base",
      "model_module_version": "1.2.0",
      "model_name": "LayoutModel",
      "state": {}
     },
     "f2ca5016e76448b8b671736943b3a91b": {
      "model_module": "@jupyter-widgets/base",
      "model_module_version": "1.2.0",
      "model_name": "LayoutModel",
      "state": {}
     },
     "f2f741c05ffd4ffd86483f1f584db81d": {
      "model_module": "@jupyter-widgets/base",
      "model_module_version": "1.2.0",
      "model_name": "LayoutModel",
      "state": {}
     },
     "f3210d56a42c4fc790bd4f79a04b7aca": {
      "model_module": "@jupyter-widgets/base",
      "model_module_version": "1.2.0",
      "model_name": "LayoutModel",
      "state": {}
     },
     "f5aeaeec66714f3a97f90f94707c2343": {
      "model_module": "@jupyter-widgets/base",
      "model_module_version": "1.2.0",
      "model_name": "LayoutModel",
      "state": {}
     },
     "f6a6fc512aee452f8a507c8242e4c728": {
      "model_module": "@jupyter-widgets/controls",
      "model_module_version": "1.5.0",
      "model_name": "DescriptionStyleModel",
      "state": {
       "description_width": ""
      }
     },
     "f946fdd069304aa28d8d7ae2d3f1c3af": {
      "model_module": "@jupyter-widgets/base",
      "model_module_version": "1.2.0",
      "model_name": "LayoutModel",
      "state": {}
     },
     "fa187569a8834c64b344c4d969987577": {
      "model_module": "@jupyter-widgets/controls",
      "model_module_version": "1.5.0",
      "model_name": "HTMLModel",
      "state": {
       "layout": "IPY_MODEL_f5aeaeec66714f3a97f90f94707c2343",
       "style": "IPY_MODEL_2acf442ef70942efbaceb49a0a39d50c",
       "value": " 289/289 [05:21&lt;00:00,  1.11s/it]"
      }
     },
     "fa29883b9c184c01b4ba3b288797caae": {
      "model_module": "@jupyter-widgets/base",
      "model_module_version": "1.2.0",
      "model_name": "LayoutModel",
      "state": {}
     },
     "faec8a049e6548f3bb5caf9132d0fd44": {
      "model_module": "@jupyter-widgets/base",
      "model_module_version": "1.2.0",
      "model_name": "LayoutModel",
      "state": {}
     },
     "faf5e65f229e41a4b614d34e7f377f9d": {
      "model_module": "@jupyter-widgets/controls",
      "model_module_version": "1.5.0",
      "model_name": "DescriptionStyleModel",
      "state": {
       "description_width": ""
      }
     },
     "fd035bd488c34ce988a2b9ac061bf107": {
      "model_module": "@jupyter-widgets/controls",
      "model_module_version": "1.5.0",
      "model_name": "IntProgressModel",
      "state": {
       "bar_style": "success",
       "description": "Table Recognition Task: 100%",
       "layout": "IPY_MODEL_c0d0dc233aa24777852832f6019eef95",
       "max": 289,
       "style": "IPY_MODEL_2d03db66862d4f81b38ceb85855a50bd",
       "value": 289
      }
     }
    },
    "version_major": 2,
    "version_minor": 0
   }
  }
 },
 "nbformat": 4,
 "nbformat_minor": 2
}
