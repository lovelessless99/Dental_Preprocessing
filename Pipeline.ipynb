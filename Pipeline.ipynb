{
 "cells": [
  {
   "cell_type": "code",
   "execution_count": 1,
   "metadata": {},
   "outputs": [],
   "source": [
    "from tqdm import tqdm_notebook as tqdm\n",
    "from scipy.spatial import distance\n",
    "from datetime import datetime\n",
    "from math import cos, sin\n",
    "\n",
    "import matplotlib.pyplot as plt\n",
    "import pandas as pd\n",
    "import numpy as np\n",
    "import json\n",
    "import glob\n",
    "import math\n",
    "import cv2\n",
    "import abc\n",
    "import os\n"
   ]
  },
  {
   "cell_type": "markdown",
   "metadata": {},
   "source": [
    "# Image Behavior Definition"
   ]
  },
  {
   "cell_type": "code",
   "execution_count": 2,
   "metadata": {},
   "outputs": [],
   "source": [
    "class Dental_Crop:\n",
    "        \n",
    "        @staticmethod\n",
    "        def polygon(image, points):\n",
    "                regular_point = points - points.min(axis=0)\n",
    "                rect = cv2.boundingRect(points)\n",
    "                x, y, w, h = rect\n",
    "                croped = image[y:y+h, x:x+w].copy() \n",
    "                mask = np.zeros(croped.shape, np.uint8)\n",
    "                cv2.drawContours(mask, [regular_point], -1, (255, 255, 255), -1, cv2.LINE_AA)\n",
    "                polygon_tooth = cv2.bitwise_and(croped, croped, mask=mask)\n",
    "                return polygon_tooth\n",
    "        \n",
    "        \n",
    "        @staticmethod\n",
    "        def quarter_polygon(image, points, right=True):\n",
    "                regular_point = points - points.min(axis=0)\n",
    "                \n",
    "                if right == True:\n",
    "                    points = get_quarter_points(points, right)\n",
    "                \n",
    "                rect = cv2.boundingRect(points)\n",
    "                x, y, w, h = rect\n",
    "                croped = image[y:y+h, x:x+w].copy() \n",
    "                mask = np.zeros(croped.shape, np.uint8)\n",
    "                cv2.drawContours(mask, [regular_point], -1, (255, 255, 255), -1, cv2.LINE_AA)\n",
    "                polygon_tooth = cv2.bitwise_and(croped, croped, mask=mask)\n",
    "                return polygon_tooth\n",
    "        \n",
    "        @staticmethod\n",
    "        def rectangle(image, points):\n",
    "                rect = cv2.boundingRect(points)\n",
    "                x, y, w, h = rect\n",
    "                croped = image[y:y+h, x:x+w].copy() \n",
    "                return croped"
   ]
  },
  {
   "cell_type": "code",
   "execution_count": 3,
   "metadata": {},
   "outputs": [],
   "source": [
    "class Dental_Rotation:\n",
    "        \n",
    "        @staticmethod\n",
    "        def rotate(image, points, image_center, rotate_angle, max_rect=True):\n",
    "                rotate_image = rotate(image, rotate_angle, image_center, max_rect)\n",
    "                return rotate_image\n",
    "            \n",
    "        @staticmethod\n",
    "        def centralize(image, points, max_rect=True):\n",
    "                rotate_angle = get_rotate_degree(image, points)\n",
    "                rotate_image = rotate(image, rotate_angle, max_rect)\n",
    "                return rotate_image\n"
   ]
  },
  {
   "cell_type": "code",
   "execution_count": 4,
   "metadata": {},
   "outputs": [],
   "source": [
    "class border_preprocessing:\n",
    "       \n",
    "        @staticmethod\n",
    "        def trim_border(image):\n",
    "                if not np.sum(image[0]):     \n",
    "                        return border_preprocessing.trim_border(image[1:])\n",
    "\n",
    "                elif not np.sum(image[-1]):  \n",
    "                        return border_preprocessing.trim_border(image[:-2])\n",
    "\n",
    "                elif not np.sum(image[:,0]):\n",
    "                        return border_preprocessing.trim_border(image[:,1:]) \n",
    "\n",
    "                elif not np.sum(image[:,-1]):\n",
    "                        return border_preprocessing.trim_border(image[:,:-2])    \n",
    "                return image\n",
    "        \n",
    "        @staticmethod\n",
    "        def padding(image, padding_height = 700, padding_width = 400):\n",
    "                mask_size = (padding_height, padding_width)\n",
    "                tooth_h, tooth_w = image.shape\n",
    "                mask = np.zeros(mask_size)\n",
    "                yoff = round((mask_size[0]-tooth_h)/2)\n",
    "                xoff = round((mask_size[1]-tooth_w)/2)\n",
    "                result = mask.copy()\n",
    "                result[yoff:yoff+tooth_h, xoff:xoff+tooth_w] = image\n",
    "                return result\n",
    "            "
   ]
  },
  {
   "cell_type": "code",
   "execution_count": 5,
   "metadata": {},
   "outputs": [],
   "source": [
    "def init_directory(directory): \n",
    "        if not os.path.exists(directory):\n",
    "                os.makedirs(directory)\n",
    "def pd_dict_2_pd_dataframe(pd_json):\n",
    "        table = pd.DataFrame(columns=[\"id\", \"left\", \"right\"])\n",
    "\n",
    "        for key in pd_json:\n",
    "                front = pd_json[key][\"lingual\"][\"CAL\"]\n",
    "                back  = pd_json[key][\"buccal\"][\"CAL\"]\n",
    "                left  = min(front[0], back[0])\n",
    "                right = min(front[2], back[2])\n",
    "                table = table.append({\n",
    "                        \"id\": key,\n",
    "                        \"left\": left,\n",
    "                        \"right\": right\n",
    "                }, ignore_index=True)\n",
    "\n",
    "        table.set_index(\"id\" , inplace=True) \n",
    "        return table\n",
    "\n",
    "def get_table_file(patient_id):\n",
    "        table_infos = [ i for i in glob.iglob(\"Data/*/*.json\")]\n",
    "        for table_name in table_infos:\n",
    "                if patient_id in table_name:\n",
    "                        pd_json   = json.load(open(table_name, \"r\"))\n",
    "                        pd_table = pd_dict_2_pd_dataframe(pd_json)\n",
    "                        return pd_table\n",
    "                    \n",
    "def get_PD_pair(pd_table, label_name):\n",
    "        \n",
    "        number, side = label_name.split(\"_\") \n",
    "        result = pd_table.loc[[number]].values[0]\n",
    "        \n",
    "        if side == \"LR\":\n",
    "                return (result[0], result[1])\n",
    "        elif side == \"L\" or side == \"LH\" or side == \"HL\": \n",
    "                return (result[0], -99)\n",
    "        elif side == \"R\" or side == \"RH\" or side == \"HR\":\n",
    "                return (-99, result[1])\n",
    "\n",
    "def rotate(image, angle, image_center, max_bound_rect=True):\n",
    "        \n",
    "        height, width = image.shape[:2] # image shape has 3 dimensions\n",
    "        rotation_mat = cv2.getRotationMatrix2D(image_center, angle, 1)\n",
    "        \n",
    "        if not max_bound_rect:\n",
    "                rotated_image = cv2.warpAffine(image, rotation_mat, (width, height))\n",
    "                return rotated_image\n",
    "            \n",
    "        # rotation calculates the cos and sin, taking absolutes of those.\n",
    "        abs_cos = abs(rotation_mat[0,0]) \n",
    "        abs_sin = abs(rotation_mat[0,1])\n",
    "\n",
    "        # find the new width and height bounds\n",
    "        bound_w = int(height * abs_sin + width * abs_cos)\n",
    "        bound_h = int(height * abs_cos + width * abs_sin)\n",
    "\n",
    "        rotation_mat[0, 2] += bound_w/2 - image_center[0]\n",
    "        rotation_mat[1, 2] += bound_h/2 - image_center[1]\n",
    "\n",
    "        # rotate image with the new bounds and translated rotation matrix\n",
    "        rotated_image = cv2.warpAffine(image, rotation_mat, (bound_w, bound_h))\n",
    "        return rotated_image\n",
    "\n",
    "def recognize_line(line):\n",
    "        sort_up_and_down = lambda line: [line[1], line[0]] if line[1][1] < line[0][1] else line\n",
    "        check_clockwise  = lambda line: True if line[0][0] > line[1][0] else False    # up >>>> down\n",
    "        line = sort_up_and_down(line)\n",
    "        clockwise = check_clockwise(line)\n",
    "        return line, clockwise\n",
    "    \n",
    "def get_line_angle(line, clockwise):\n",
    "        vector = line[1] - line[0]\n",
    "        length = np.linalg.norm(vector)\n",
    "        cos    = np.dot(vector, [0, 1]) / length\n",
    "        angle = math.acos(cos) *180 / math.pi\n",
    "        return angle if clockwise == True else -angle\n",
    "\n",
    "def get_rotate_degree(points):\n",
    "        points = sorted(points ,key=lambda point:point[1])\n",
    "        up_center_point   = [(points[0][0]+points[1][0])/2,(points[0][1]+points[1][1])/2]\n",
    "        down_center_point = [(points[2][0]+points[3][0])/2,(points[2][1]+points[3][1])/2]\n",
    "        midline = [up_center_point,down_center_point]\n",
    "        midline = np.array(midline)\n",
    "        midline , midline_direction = recognize_line(midline)\n",
    "        midline_angle = get_line_angle(midline, midline_direction)\n",
    "        \n",
    "        clock = lambda x: \"clockwise\" if x == True else \"counterclockwise\"\n",
    "        return midline_angle"
   ]
  },
  {
   "cell_type": "code",
   "execution_count": 6,
   "metadata": {},
   "outputs": [],
   "source": [
    "class Image_Pipeline:\n",
    "        def __init__(self, output_dir, input_dir, **kwargs):\n",
    "                self.output_dir = output_dir\n",
    "                self.input_dir  = input_dir\n",
    "                \n",
    "                for name, value in kwargs.items():\n",
    "                    setattr(self, name, value)\n",
    "                \n",
    "        def run(self):\n",
    "            raise NotImplementedError"
   ]
  },
  {
   "cell_type": "markdown",
   "metadata": {},
   "source": [
    "# CAL Pipeline ( To Do : Table to Dict , and need to decouple ! )"
   ]
  },
  {
   "cell_type": "code",
   "execution_count": 7,
   "metadata": {},
   "outputs": [],
   "source": [
    "class CAL_Pipeline(Image_Pipeline):\n",
    "        def __init__(self, output_dir, input_dir, **kwargs):\n",
    "                super(CAL_Pipeline, self).__init__(output_dir, input_dir, **kwargs) \n",
    "                if not hasattr(self, \"rotate_range\"):\n",
    "                        raise AttributeError\n",
    "                \n",
    "                if not hasattr(self, \"enhance\"):\n",
    "                        raise AttributeError\n",
    "        \n",
    "        def run(self):\n",
    "                jsons = [ i for i in glob.iglob(\"%s/*/*/*.json\" % self.input_dir)]\n",
    "                images = [ i.replace(\"json\", \"png\") for i in jsons]\n",
    "\n",
    "                mapping_dict = {}\n",
    "                no_table, no_side = set(), set()\n",
    "                init_directory(self.output_dir)\n",
    "                \n",
    "                \n",
    "                for data, image in tqdm(zip(jsons, images)):\n",
    "                        tooth_img  = cv2.imread(image, 0)\n",
    "                        tooth_data = json.load(open(data, \"r\"))[\"shapes\"]\n",
    "                        patient_id = image.split(\"\\\\\")[1]\n",
    "                        pd_table   = get_table_file(patient_id)\n",
    "            \n",
    "                        if pd_table is None:\n",
    "                                no_table.add(patient_id)\n",
    "                                continue\n",
    "\n",
    "                        for tooth in tooth_data:\n",
    "                                pd_pair  = get_PD_pair(pd_table, tooth[\"label\"])\n",
    "                                points   = np.array(tooth[\"points\"]).astype(int)\n",
    "                                points   = np.where(points < 0, 0, points)\n",
    "                                \n",
    "                                rect = cv2.boundingRect(points)\n",
    "                                x, y, w, h = rect\n",
    "                                mask = np.zeros(tooth_img.shape, np.uint8)\n",
    "                                mask[y:y+h, x:x+w] = 255\n",
    "                                rotate_center = ( (2*x+w)//2, (2*y+h)//2 )\n",
    "                                \n",
    "                                zero_degree = int(get_rotate_degree(points))\n",
    "                                deg_lowbound, deg_upperbound, step = self.rotate_range\n",
    "                                \n",
    "                                deg_lowbound -= zero_degree\n",
    "                                deg_upperbound -= zero_degree\n",
    "                                \n",
    "                                for idx, degree in enumerate(range(deg_lowbound, deg_upperbound, step), 1):\n",
    "                                        rect = cv2.boundingRect(points)\n",
    "                                        \n",
    "                                        ro_mask = Dental_Rotation.rotate(mask, points, rotate_center, degree, max_rect=False)\n",
    "                                        ro_tooth = cv2.bitwise_and(tooth_img, tooth_img, mask=ro_mask)\n",
    "                                        ro_tooth = rotate(ro_tooth, -degree, rotate_center)\n",
    "                                        ro_tooth = border_preprocessing.trim_border(ro_tooth)\n",
    "                                        \n",
    "                                        tooth_h, tooth_w = ro_tooth.shape\n",
    "                                        \n",
    "                                        if pd_pair == None:\n",
    "                                                no_side.add(data)\n",
    "                                                continue\n",
    "                                        \n",
    "                                        if self.enhance:\n",
    "                                                ro_tooth = cv2.equalizeHist(ro_tooth.astype(\"uint8\"))\n",
    "                                        \n",
    "                                        number, side = tooth[\"label\"].split(\"_\")\n",
    "\n",
    "                                        if int(number) <= 16:\n",
    "                                                ro_tooth = cv2.flip(ro_tooth, 0)\n",
    "\n",
    "                                        filename = datetime.utcnow().isoformat(sep='-', timespec='milliseconds').replace(\".\", \"-\").replace(\":\", \"-\")[-12:]\n",
    "                                        filename = '%s/%s_%s_%s_%d.png' % (self.output_dir, filename, image.split(\"\\\\\")[2], number, degree + zero_degree)   \n",
    "                                        \n",
    "                                        mapping_dict[filename] = pd_pair\n",
    "                                        \n",
    "                                        cv2.imwrite(filename, ro_tooth)\n",
    "                                    \n",
    "                json.dump(mapping_dict, open(\"%s/mapping.json\" % self.output_dir, 'w'), indent=4)\n",
    "\n",
    "                with open(\"%s/loss_table\" % self.output_dir, \"w\") as f:\n",
    "                        no_table = list(no_table)\n",
    "                        no_table = \"\\n\".join(no_table)\n",
    "                        f.write(no_table)\n",
    "\n",
    "                with open(\"%s/loss_side\" % self.output_dir, \"w\") as f:\n",
    "                        no_side = list(no_side)\n",
    "                        no_side = \"\\n\".join(no_side)\n",
    "                        f.write(no_side)\n"
   ]
  },
  {
   "cell_type": "markdown",
   "metadata": {},
   "source": [
    "# PBL Pipeline"
   ]
  },
  {
   "cell_type": "code",
   "execution_count": 8,
   "metadata": {},
   "outputs": [],
   "source": [
    "class PBL_situation:\n",
    "        def __init__(self, PBLTable_path, DataPath):\n",
    "                self.PBLTable_path = PBLTable_path\n",
    "                self.DataPath      = DataPath\n",
    "                \n",
    "        def clean_invalid_value(self):\n",
    "                self.PBL_Table = pd.read_csv(self.PBLTable_path, sep=\",\")\n",
    "                dir_name = [ \"%s/\" % self.DataPath + i.split(\" \")[0] for i in list(self.PBL_Table[\"sub_dir_name\"]) ]\n",
    "                self.PBL_Table[\"dir_name\"] = dir_name\n",
    "                self.PBL_Table = self.PBL_Table[[\"dir_name\", \"sub_dir_name\", \"image_name\", \"tooth_num\", \"state\"]]\n",
    "                self.PBL_Table = self.PBL_Table[~self.PBL_Table[\"tooth_num\"].isnull() & ~self.PBL_Table[\"state\"].isnull()]\n",
    "                self.PBL_Table = self.PBL_Table.astype(\"str\")\n",
    "                self.PBL_Table = self.PBL_Table.replace( {'state' : { '2': -999 }} )\n",
    "                self.PBL_Table = self.PBL_Table.replace( {'state' : { 'III' : 3, 'II' : 2, 'I' : 1 }} )\n",
    "                self.PBL_Table = self.PBL_Table.replace( {'state' : { 'iii' : 3, 'ii' : 2, 'i' : 1 }} )\n",
    "                self._PBL_directory = np.unique(self.PBL_Table[\"dir_name\"])\n",
    "                return self\n",
    "            \n",
    "        def MD_transfer_LR(self):\n",
    "                pathes = []\n",
    "                for idx, row in self.PBL_Table.iterrows():\n",
    "                        tooth_num = row[\"tooth_num\"][:-1]\n",
    "                        if not tooth_num.isdigit():\n",
    "                                self.PBL_Table.drop(idx, inplace=True)\n",
    "                                continue\n",
    "                        else:\n",
    "\n",
    "                                if  9 <= int(tooth_num) <= 24: # L--> M, R-->D\n",
    "                                        if \"M\" in row[\"tooth_num\"]:\n",
    "                                                self.PBL_Table.loc[ idx ,\"tooth_num\"] = tooth_num + \"L\"\n",
    "                                        if \"D\" in row[\"tooth_num\"]:\n",
    "                                                self.PBL_Table.loc[ idx ,\"tooth_num\"] = tooth_num + \"R\"\n",
    "\n",
    "                                elif 1 <= int(tooth_num) <= 8 or 24 < int(tooth_num) <= 32:\n",
    "                                        if \"M\" in row[\"tooth_num\"]:\n",
    "                                                self.PBL_Table.loc[ idx ,\"tooth_num\"] = tooth_num + \"R\"\n",
    "                                        if \"D\" in row[\"tooth_num\"]:\n",
    "                                                self.PBL_Table.loc[ idx ,\"tooth_num\"] = tooth_num + \"L\"\n",
    "\n",
    "                                else:\n",
    "                                        print(row)\n",
    "                                        raise ValueError\n",
    "\n",
    "                        path = \"%s/%s/%s.PNG\" % (row[\"dir_name\"], row[\"sub_dir_name\"], row[\"image_name\"])\n",
    "                        pathes.append(path)\n",
    "\n",
    "                self.PBL_Table[\"path\"] = pathes\n",
    "                \n",
    "                self._Simple_PBL_Table = self.PBL_Table.loc[:, [\"path\", \"tooth_num\", \"state\"]]\n",
    "                self._Simple_PBL_Table = self._Simple_PBL_Table[~self._Simple_PBL_Table[\"tooth_num\"].isnull()]\n",
    "                return self\n",
    "        \n",
    "        def table_2_dict(self):\n",
    "                image_groups = self._Simple_PBL_Table.groupby(\"path\")\n",
    "                self._label_dict = {}\n",
    "\n",
    "                for group in image_groups.groups:\n",
    "                        if group not in self._label_dict:\n",
    "                                self._label_dict[group] = {}\n",
    "\n",
    "                        for idx, item in image_groups.get_group(group).iterrows():\n",
    "                                tooth_num = item[\"tooth_num\"][:-1]\n",
    "                                if tooth_num not in self._label_dict[group]:\n",
    "                                        self._label_dict[group][tooth_num] = [-99, -99]\n",
    "\n",
    "                                if item[\"tooth_num\"][-1] == \"L\":\n",
    "                                        self._label_dict[group][tooth_num][0] = item[\"state\"]\n",
    "\n",
    "                                elif item[\"tooth_num\"][-1] == \"R\":\n",
    "                                        self._label_dict[group][tooth_num][1] = item[\"state\"]\n",
    "\n",
    "                                else:\n",
    "                                        print(item[\"tooth_num\"])\n",
    "                                        raise ValueError \n",
    "                return self \n",
    "        \n",
    "        def run(self):\n",
    "                self.clean_invalid_value().MD_transfer_LR().table_2_dict()\n",
    "                return self\n",
    "\n",
    "            \n",
    "        @property\n",
    "        def label_dict(self):\n",
    "                return self._label_dict\n",
    "        \n",
    "        @property\n",
    "        def Simple_PBL_Table(self):\n",
    "                return self._Simple_PBL_Table\n",
    "        \n",
    "        @property\n",
    "        def PBL_directory(self):\n",
    "                return self._PBL_directory\n",
    "            "
   ]
  },
  {
   "cell_type": "code",
   "execution_count": 9,
   "metadata": {},
   "outputs": [],
   "source": [
    "class PBL_Pipeline(Image_Pipeline):\n",
    "        def __init__(self, output_dir, input_dir, **kwargs):\n",
    "                super(PBL_Pipeline, self).__init__(output_dir, input_dir, **kwargs) \n",
    "                if not hasattr(self, \"rotate_range\"):\n",
    "                        raise AttributeError\n",
    "                \n",
    "                if not hasattr(self, \"enhance\"):\n",
    "                        raise AttributeError\n",
    "        \n",
    "        def run(self):\n",
    "                PBL_Info = PBL_situation(\"PBL_Table.csv\", \"Label\").run()\n",
    "                \n",
    "                jsons = [ i for directory in PBL_Info.PBL_directory for i in glob.iglob(\"%s/*/*.json\" % directory) ]\n",
    "                images = [ i.replace(\"json\", \"PNG\").replace(\"\\\\\", \"/\") for i in jsons ]\n",
    "    \n",
    "                mapping_dict = {}\n",
    "                no_table, no_side = set(), set()\n",
    "                init_directory(self.output_dir)\n",
    "                \n",
    "                \n",
    "                for data, image in tqdm(zip(jsons, images)):\n",
    "                        tooth_img  = cv2.imread(image, 0)\n",
    "                        tooth_data = json.load(open(data, \"r\"))[\"shapes\"]\n",
    "                        \n",
    "            \n",
    "                        if image not in PBL_Info.label_dict:\n",
    "                                no_table.add(image)\n",
    "                                continue\n",
    "\n",
    "                        for tooth in tooth_data:\n",
    "                                points   = np.array(tooth[\"points\"]).astype(int)\n",
    "                                points   = np.where(points < 0, 0, points)\n",
    "                                rect = cv2.boundingRect(points)\n",
    "                                x, y, w, h = rect\n",
    "                                mask = np.zeros(tooth_img.shape, np.uint8)\n",
    "                                mask[y:y+h, x:x+w] = 255\n",
    "                                rotate_center = ( (2*x+w)//2, (2*y+h)//2 )\n",
    "                                \n",
    "                                zero_degree = int(get_rotate_degree(points))\n",
    "                                deg_lowbound, deg_upperbound, step = self.rotate_range\n",
    "                                \n",
    "                                deg_lowbound -= zero_degree\n",
    "                                deg_upperbound -= zero_degree\n",
    "                                \n",
    "                                for idx, degree in enumerate(range(deg_lowbound, deg_upperbound, step), 1):\n",
    "                                        rect = cv2.boundingRect(points)\n",
    "                                        \n",
    "                                        ro_mask = Dental_Rotation.rotate(mask, points, rotate_center, degree, max_rect=False)\n",
    "                                        ro_tooth = cv2.bitwise_and(tooth_img, tooth_img, mask=ro_mask)\n",
    "                                        ro_tooth = rotate(ro_tooth, -degree, rotate_center)\n",
    "                                        ro_tooth = border_preprocessing.trim_border(ro_tooth)\n",
    "                                        \n",
    "                                        tooth_h, tooth_w = ro_tooth.shape\n",
    "                                        number, side = tooth[\"label\"].split(\"_\")\n",
    "                                        \n",
    "                                        if number not in PBL_Info.label_dict[image]:\n",
    "                                                no_side.add(data)\n",
    "                                                continue\n",
    "                                                \n",
    "                                        if self.enhance:\n",
    "                                                ro_tooth = cv2.equalizeHist(ro_tooth.astype(\"uint8\"))\n",
    "\n",
    "                                        if int(number) <= 16:\n",
    "                                                ro_tooth = cv2.flip(ro_tooth, 0)\n",
    "\n",
    "                                        filename = datetime.utcnow().isoformat(sep='-', timespec='milliseconds').replace(\".\", \"-\").replace(\":\", \"-\")[-12:]\n",
    "                                        filename = '%s/%s_%s_%s_%d.png' % (self.output_dir, filename, image.split(\"/\")[2], number, degree + zero_degree)   \n",
    "                                        \n",
    "                                        mapping_dict[filename] = PBL_Info.label_dict[image][number]\n",
    "                                        cv2.imwrite(filename, ro_tooth)\n",
    "                                    \n",
    "                json.dump(mapping_dict, open(\"%s/mapping.json\" % self.output_dir, 'w'), indent=4)\n",
    "\n",
    "                with open(\"%s/loss_table\" % self.output_dir, \"w\") as f:\n",
    "                        no_table = list(no_table)\n",
    "                        no_table = \"\\n\".join(no_table)\n",
    "                        f.write(no_table)\n",
    "\n",
    "                with open(\"%s/loss_side\" % self.output_dir, \"w\") as f:\n",
    "                        no_side = list(no_side)\n",
    "                        no_side = \"\\n\".join(no_side)\n",
    "                        f.write(no_side)\n"
   ]
  },
  {
   "cell_type": "markdown",
   "metadata": {},
   "source": [
    "# Generating Data"
   ]
  },
  {
   "cell_type": "code",
   "execution_count": 10,
   "metadata": {},
   "outputs": [
    {
     "data": {
      "application/vnd.jupyter.widget-view+json": {
       "model_id": "b02ee55309de42ac875cd7c46c15ca0d",
       "version_major": 2,
       "version_minor": 0
      },
      "text/plain": [
       "HBox(children=(IntProgress(value=1, bar_style='info', max=1), HTML(value='')))"
      ]
     },
     "metadata": {},
     "output_type": "display_data"
    },
    {
     "name": "stdout",
     "output_type": "stream",
     "text": [
      "\n"
     ]
    },
    {
     "data": {
      "application/vnd.jupyter.widget-view+json": {
       "model_id": "491f3bb35fe04765bca4ad3a5c9deb8c",
       "version_major": 2,
       "version_minor": 0
      },
      "text/plain": [
       "HBox(children=(IntProgress(value=1, bar_style='info', max=1), HTML(value='')))"
      ]
     },
     "metadata": {},
     "output_type": "display_data"
    },
    {
     "name": "stdout",
     "output_type": "stream",
     "text": [
      "\n"
     ]
    },
    {
     "data": {
      "application/vnd.jupyter.widget-view+json": {
       "model_id": "cf41caa1cb8f4b089fe2d82f8c33370c",
       "version_major": 2,
       "version_minor": 0
      },
      "text/plain": [
       "HBox(children=(IntProgress(value=1, bar_style='info', max=1), HTML(value='')))"
      ]
     },
     "metadata": {},
     "output_type": "display_data"
    },
    {
     "name": "stdout",
     "output_type": "stream",
     "text": [
      "\n"
     ]
    },
    {
     "data": {
      "application/vnd.jupyter.widget-view+json": {
       "model_id": "b491d338b04b4cc6aee8362878a51496",
       "version_major": 2,
       "version_minor": 0
      },
      "text/plain": [
       "HBox(children=(IntProgress(value=1, bar_style='info', max=1), HTML(value='')))"
      ]
     },
     "metadata": {},
     "output_type": "display_data"
    },
    {
     "name": "stdout",
     "output_type": "stream",
     "text": [
      "\n"
     ]
    }
   ],
   "source": [
    "parameters = [  \n",
    "                \n",
    "                {\n",
    "                        \"output_dir\"  : \"Dental_Data/PBL/10\",\n",
    "                        \"input_dir\"   : \"Label\",\n",
    "                        \"rotate_range\": (-10, 10, 1),\n",
    "                        \"enhance\"     : False\n",
    "                },\n",
    "            \n",
    "    \n",
    "                {\n",
    "                        \"output_dir\"  : \"Dental_Data/PBL/10_enhance\",\n",
    "                        \"input_dir\"   : \"Label\",\n",
    "                        \"rotate_range\": (-10, 10, 1),\n",
    "                        \"enhance\"     : True\n",
    "                },\n",
    "                \n",
    "                {\n",
    "                        \"output_dir\"  : \"Dental_Data/CAL/10\",\n",
    "                        \"input_dir\"   : \"Label\",\n",
    "                        \"rotate_range\": (-10, 10, 1),\n",
    "                        \"enhance\"     : False\n",
    "                },\n",
    "            \n",
    "    \n",
    "                {\n",
    "                        \"output_dir\"  : \"Dental_Data/CAL/10_enhance\",\n",
    "                        \"input_dir\"   : \"Label\",\n",
    "                        \"rotate_range\": (-10, 10, 1),\n",
    "                        \"enhance\"     : True\n",
    "                },\n",
    "    \n",
    "]\n",
    "    \n",
    "for parameter in parameters:\n",
    "    \n",
    "        if \"PBL\" in parameter[\"output_dir\"]:\n",
    "                PBL_Pipeline(**parameter).run()\n",
    "                \n",
    "        if \"CAL\" in parameter[\"output_dir\"]:\n",
    "                CAL_Pipeline(**parameter).run()"
   ]
  },
  {
   "cell_type": "code",
   "execution_count": null,
   "metadata": {},
   "outputs": [],
   "source": []
  }
 ],
 "metadata": {
  "kernelspec": {
   "display_name": "Python 3",
   "language": "python",
   "name": "python3"
  },
  "language_info": {
   "codemirror_mode": {
    "name": "ipython",
    "version": 3
   },
   "file_extension": ".py",
   "mimetype": "text/x-python",
   "name": "python",
   "nbconvert_exporter": "python",
   "pygments_lexer": "ipython3",
   "version": "3.7.4"
  },
  "widgets": {
   "application/vnd.jupyter.widget-state+json": {
    "state": {
     "039970439f194a84906bdea3b1a0bd95": {
      "model_module": "@jupyter-widgets/controls",
      "model_module_version": "1.5.0",
      "model_name": "ProgressStyleModel",
      "state": {
       "description_width": "initial"
      }
     },
     "08a2598554cc4384b0de1d29c2fed37e": {
      "model_module": "@jupyter-widgets/base",
      "model_module_version": "1.2.0",
      "model_name": "LayoutModel",
      "state": {}
     },
     "0dcc45559a564358961b15ccf893eda1": {
      "model_module": "@jupyter-widgets/controls",
      "model_module_version": "1.5.0",
      "model_name": "IntProgressModel",
      "state": {
       "bar_style": "success",
       "layout": "IPY_MODEL_9b85b095e0be4ed79700f9ac54b5e3e4",
       "max": 1,
       "style": "IPY_MODEL_039970439f194a84906bdea3b1a0bd95",
       "value": 1
      }
     },
     "10ac4d8ccf2c46bca12fb727930acb4f": {
      "model_module": "@jupyter-widgets/controls",
      "model_module_version": "1.5.0",
      "model_name": "ProgressStyleModel",
      "state": {
       "description_width": "initial"
      }
     },
     "15c7ffa1b69a4919ab9a0acfdb7b3180": {
      "model_module": "@jupyter-widgets/controls",
      "model_module_version": "1.5.0",
      "model_name": "IntProgressModel",
      "state": {
       "bar_style": "danger",
       "layout": "IPY_MODEL_45f0a4b9e8f44f188d2bad7d18fb49c8",
       "max": 1,
       "style": "IPY_MODEL_5cf234e46fcd4e27bf9c51bd12716d4a",
       "value": 1
      }
     },
     "1de529454daa4bbe80c761295cbf12f4": {
      "model_module": "@jupyter-widgets/controls",
      "model_module_version": "1.5.0",
      "model_name": "HTMLModel",
      "state": {
       "layout": "IPY_MODEL_27ffc11335454f2d87ab1e7e884d83c1",
       "style": "IPY_MODEL_6804c3b1c3dc40e6807e1dca1ada74ef",
       "value": " 1966/? [38:17&lt;00:00,  1.17s/it]"
      }
     },
     "2169802701b34aeaaf0eebf2ea4ffcae": {
      "model_module": "@jupyter-widgets/base",
      "model_module_version": "1.2.0",
      "model_name": "LayoutModel",
      "state": {}
     },
     "27d78b02bfe8439d8b9b2b73ea8193da": {
      "model_module": "@jupyter-widgets/controls",
      "model_module_version": "1.5.0",
      "model_name": "ProgressStyleModel",
      "state": {
       "description_width": "initial"
      }
     },
     "27ffc11335454f2d87ab1e7e884d83c1": {
      "model_module": "@jupyter-widgets/base",
      "model_module_version": "1.2.0",
      "model_name": "LayoutModel",
      "state": {}
     },
     "2d0da3e64ff845aa90dc0358b357749f": {
      "model_module": "@jupyter-widgets/controls",
      "model_module_version": "1.5.0",
      "model_name": "DescriptionStyleModel",
      "state": {
       "description_width": ""
      }
     },
     "3237f9291e744082905ee5e67da84901": {
      "model_module": "@jupyter-widgets/controls",
      "model_module_version": "1.5.0",
      "model_name": "IntProgressModel",
      "state": {
       "bar_style": "danger",
       "layout": "IPY_MODEL_95f04c32d7f946a5b142a3f983426f0b",
       "max": 1,
       "style": "IPY_MODEL_10ac4d8ccf2c46bca12fb727930acb4f"
      }
     },
     "398802c10b7242a4a564e50dbf105f7a": {
      "model_module": "@jupyter-widgets/controls",
      "model_module_version": "1.5.0",
      "model_name": "IntProgressModel",
      "state": {
       "bar_style": "danger",
       "layout": "IPY_MODEL_e173949fb14c4e6f8fadb04bf920dc24",
       "max": 1,
       "style": "IPY_MODEL_27d78b02bfe8439d8b9b2b73ea8193da"
      }
     },
     "45f0a4b9e8f44f188d2bad7d18fb49c8": {
      "model_module": "@jupyter-widgets/base",
      "model_module_version": "1.2.0",
      "model_name": "LayoutModel",
      "state": {}
     },
     "473487f43b734668a28e6c507c7e4ddf": {
      "model_module": "@jupyter-widgets/controls",
      "model_module_version": "1.5.0",
      "model_name": "ProgressStyleModel",
      "state": {
       "description_width": "initial"
      }
     },
     "491f3bb35fe04765bca4ad3a5c9deb8c": {
      "model_module": "@jupyter-widgets/controls",
      "model_module_version": "1.5.0",
      "model_name": "HBoxModel",
      "state": {
       "children": [
        "IPY_MODEL_da18a3b20e384d38a86309cbfe1ea439",
        "IPY_MODEL_84862fe6aa714368a8f00b97ab8c4d24"
       ],
       "layout": "IPY_MODEL_895d6fa68d984909b8e1a4898cefb70b"
      }
     },
     "5307410cd5304204818fb4c7e3715f8d": {
      "model_module": "@jupyter-widgets/base",
      "model_module_version": "1.2.0",
      "model_name": "LayoutModel",
      "state": {}
     },
     "5b50c6c55c41476a9812f0541d8b17d6": {
      "model_module": "@jupyter-widgets/base",
      "model_module_version": "1.2.0",
      "model_name": "LayoutModel",
      "state": {}
     },
     "5cf234e46fcd4e27bf9c51bd12716d4a": {
      "model_module": "@jupyter-widgets/controls",
      "model_module_version": "1.5.0",
      "model_name": "ProgressStyleModel",
      "state": {
       "description_width": "initial"
      }
     },
     "665395be92ab44bcb85fb9284dc91aab": {
      "model_module": "@jupyter-widgets/base",
      "model_module_version": "1.2.0",
      "model_name": "LayoutModel",
      "state": {}
     },
     "6804c3b1c3dc40e6807e1dca1ada74ef": {
      "model_module": "@jupyter-widgets/controls",
      "model_module_version": "1.5.0",
      "model_name": "DescriptionStyleModel",
      "state": {
       "description_width": ""
      }
     },
     "76df568e1f794a31851247716c4bb6cc": {
      "model_module": "@jupyter-widgets/controls",
      "model_module_version": "1.5.0",
      "model_name": "DescriptionStyleModel",
      "state": {
       "description_width": ""
      }
     },
     "79f4d3a4d9c349fea2055c3d50849799": {
      "model_module": "@jupyter-widgets/base",
      "model_module_version": "1.2.0",
      "model_name": "LayoutModel",
      "state": {}
     },
     "7afaca48de5d4dff81292ab14f48a8ff": {
      "model_module": "@jupyter-widgets/base",
      "model_module_version": "1.2.0",
      "model_name": "LayoutModel",
      "state": {}
     },
     "7e34e33d8e674d2ea4f5859782640f9a": {
      "model_module": "@jupyter-widgets/base",
      "model_module_version": "1.2.0",
      "model_name": "LayoutModel",
      "state": {}
     },
     "801e7080ed184220bc9a099e8f3ee792": {
      "model_module": "@jupyter-widgets/controls",
      "model_module_version": "1.5.0",
      "model_name": "HTMLModel",
      "state": {
       "layout": "IPY_MODEL_2169802701b34aeaaf0eebf2ea4ffcae",
       "style": "IPY_MODEL_2d0da3e64ff845aa90dc0358b357749f",
       "value": " 1966/? [36:18&lt;00:00,  1.11s/it]"
      }
     },
     "84862fe6aa714368a8f00b97ab8c4d24": {
      "model_module": "@jupyter-widgets/controls",
      "model_module_version": "1.5.0",
      "model_name": "HTMLModel",
      "state": {
       "layout": "IPY_MODEL_665395be92ab44bcb85fb9284dc91aab",
       "style": "IPY_MODEL_974df232f48e49fcb7233f87bf3b7926",
       "value": " 1334/? [24:36&lt;00:00,  1.11s/it]"
      }
     },
     "895d6fa68d984909b8e1a4898cefb70b": {
      "model_module": "@jupyter-widgets/base",
      "model_module_version": "1.2.0",
      "model_name": "LayoutModel",
      "state": {}
     },
     "95f04c32d7f946a5b142a3f983426f0b": {
      "model_module": "@jupyter-widgets/base",
      "model_module_version": "1.2.0",
      "model_name": "LayoutModel",
      "state": {}
     },
     "95f4ce8d60de49cb83c3f9ee48605c22": {
      "model_module": "@jupyter-widgets/base",
      "model_module_version": "1.2.0",
      "model_name": "LayoutModel",
      "state": {}
     },
     "974df232f48e49fcb7233f87bf3b7926": {
      "model_module": "@jupyter-widgets/controls",
      "model_module_version": "1.5.0",
      "model_name": "DescriptionStyleModel",
      "state": {
       "description_width": ""
      }
     },
     "9a3a50f79db044e29ad551a2839d7076": {
      "model_module": "@jupyter-widgets/base",
      "model_module_version": "1.2.0",
      "model_name": "LayoutModel",
      "state": {}
     },
     "9b85b095e0be4ed79700f9ac54b5e3e4": {
      "model_module": "@jupyter-widgets/base",
      "model_module_version": "1.2.0",
      "model_name": "LayoutModel",
      "state": {}
     },
     "ac6d39c373224417ba8e6a41a5419752": {
      "model_module": "@jupyter-widgets/controls",
      "model_module_version": "1.5.0",
      "model_name": "HTMLModel",
      "state": {
       "layout": "IPY_MODEL_95f4ce8d60de49cb83c3f9ee48605c22",
       "style": "IPY_MODEL_d06b0520b5ef4e339d64dd1bb309c8df",
       "value": " 1334/? [29:07&lt;00:00,  1.31s/it]"
      }
     },
     "ae695599e8e84fcfa6fa41793480d6b4": {
      "model_module": "@jupyter-widgets/controls",
      "model_module_version": "1.5.0",
      "model_name": "HBoxModel",
      "state": {
       "children": [
        "IPY_MODEL_398802c10b7242a4a564e50dbf105f7a",
        "IPY_MODEL_cb073e18807442c9accc565ca5e03a2b"
       ],
       "layout": "IPY_MODEL_e9b781a90c2c403a86fb86ec72b80c6a"
      }
     },
     "b02ee55309de42ac875cd7c46c15ca0d": {
      "model_module": "@jupyter-widgets/controls",
      "model_module_version": "1.5.0",
      "model_name": "HBoxModel",
      "state": {
       "children": [
        "IPY_MODEL_db59ed40fff14493b724acde6d8cba0b",
        "IPY_MODEL_ac6d39c373224417ba8e6a41a5419752"
       ],
       "layout": "IPY_MODEL_5b50c6c55c41476a9812f0541d8b17d6"
      }
     },
     "b491d338b04b4cc6aee8362878a51496": {
      "model_module": "@jupyter-widgets/controls",
      "model_module_version": "1.5.0",
      "model_name": "HBoxModel",
      "state": {
       "children": [
        "IPY_MODEL_f050ce118d894b859f5db522751c4db6",
        "IPY_MODEL_801e7080ed184220bc9a099e8f3ee792"
       ],
       "layout": "IPY_MODEL_08a2598554cc4384b0de1d29c2fed37e"
      }
     },
     "c502afb2e5784dde9b5a53b13f687d5b": {
      "model_module": "@jupyter-widgets/controls",
      "model_module_version": "1.5.0",
      "model_name": "DescriptionStyleModel",
      "state": {
       "description_width": ""
      }
     },
     "ca66d848800a4f5ca52c1bb7602ec31d": {
      "model_module": "@jupyter-widgets/controls",
      "model_module_version": "1.5.0",
      "model_name": "HTMLModel",
      "state": {
       "layout": "IPY_MODEL_ee67a14d395543628344faa2dd2d6d65",
       "style": "IPY_MODEL_c502afb2e5784dde9b5a53b13f687d5b",
       "value": " 1102/? [44:34&lt;00:00,  2.43s/it]"
      }
     },
     "cb073e18807442c9accc565ca5e03a2b": {
      "model_module": "@jupyter-widgets/controls",
      "model_module_version": "1.5.0",
      "model_name": "HTMLModel",
      "state": {
       "layout": "IPY_MODEL_79f4d3a4d9c349fea2055c3d50849799",
       "style": "IPY_MODEL_76df568e1f794a31851247716c4bb6cc",
       "value": " 0/? [01:07&lt;?, ?it/s]"
      }
     },
     "cb14addcaeff45acba0f552d0990dc92": {
      "model_module": "@jupyter-widgets/base",
      "model_module_version": "1.2.0",
      "model_name": "LayoutModel",
      "state": {}
     },
     "ce7a43e708b947ec9bf325fe3d38587f": {
      "model_module": "@jupyter-widgets/controls",
      "model_module_version": "1.5.0",
      "model_name": "HTMLModel",
      "state": {
       "layout": "IPY_MODEL_7e34e33d8e674d2ea4f5859782640f9a",
       "style": "IPY_MODEL_fce1eefa338544cc906d8dce682d4d65",
       "value": " 0/? [01:12&lt;?, ?it/s]"
      }
     },
     "cf41caa1cb8f4b089fe2d82f8c33370c": {
      "model_module": "@jupyter-widgets/controls",
      "model_module_version": "1.5.0",
      "model_name": "HBoxModel",
      "state": {
       "children": [
        "IPY_MODEL_0dcc45559a564358961b15ccf893eda1",
        "IPY_MODEL_1de529454daa4bbe80c761295cbf12f4"
       ],
       "layout": "IPY_MODEL_5307410cd5304204818fb4c7e3715f8d"
      }
     },
     "d06b0520b5ef4e339d64dd1bb309c8df": {
      "model_module": "@jupyter-widgets/controls",
      "model_module_version": "1.5.0",
      "model_name": "DescriptionStyleModel",
      "state": {
       "description_width": ""
      }
     },
     "d1ceb0e28ca8413c8801ab8740071118": {
      "model_module": "@jupyter-widgets/controls",
      "model_module_version": "1.5.0",
      "model_name": "ProgressStyleModel",
      "state": {
       "description_width": "initial"
      }
     },
     "da18a3b20e384d38a86309cbfe1ea439": {
      "model_module": "@jupyter-widgets/controls",
      "model_module_version": "1.5.0",
      "model_name": "IntProgressModel",
      "state": {
       "bar_style": "success",
       "layout": "IPY_MODEL_cb14addcaeff45acba0f552d0990dc92",
       "max": 1,
       "style": "IPY_MODEL_d1ceb0e28ca8413c8801ab8740071118",
       "value": 1
      }
     },
     "db59ed40fff14493b724acde6d8cba0b": {
      "model_module": "@jupyter-widgets/controls",
      "model_module_version": "1.5.0",
      "model_name": "IntProgressModel",
      "state": {
       "bar_style": "success",
       "layout": "IPY_MODEL_7afaca48de5d4dff81292ab14f48a8ff",
       "max": 1,
       "style": "IPY_MODEL_473487f43b734668a28e6c507c7e4ddf",
       "value": 1
      }
     },
     "e0c27a94c3844c42acb5a76152e9e5c5": {
      "model_module": "@jupyter-widgets/base",
      "model_module_version": "1.2.0",
      "model_name": "LayoutModel",
      "state": {}
     },
     "e173949fb14c4e6f8fadb04bf920dc24": {
      "model_module": "@jupyter-widgets/base",
      "model_module_version": "1.2.0",
      "model_name": "LayoutModel",
      "state": {}
     },
     "e74a1b9363054f42a6909151481d2b27": {
      "model_module": "@jupyter-widgets/controls",
      "model_module_version": "1.5.0",
      "model_name": "ProgressStyleModel",
      "state": {
       "description_width": "initial"
      }
     },
     "e9b781a90c2c403a86fb86ec72b80c6a": {
      "model_module": "@jupyter-widgets/base",
      "model_module_version": "1.2.0",
      "model_name": "LayoutModel",
      "state": {}
     },
     "eab69e088dba4646951dbc7150856b0c": {
      "model_module": "@jupyter-widgets/controls",
      "model_module_version": "1.5.0",
      "model_name": "HBoxModel",
      "state": {
       "children": [
        "IPY_MODEL_3237f9291e744082905ee5e67da84901",
        "IPY_MODEL_ce7a43e708b947ec9bf325fe3d38587f"
       ],
       "layout": "IPY_MODEL_9a3a50f79db044e29ad551a2839d7076"
      }
     },
     "ee67a14d395543628344faa2dd2d6d65": {
      "model_module": "@jupyter-widgets/base",
      "model_module_version": "1.2.0",
      "model_name": "LayoutModel",
      "state": {}
     },
     "f050ce118d894b859f5db522751c4db6": {
      "model_module": "@jupyter-widgets/controls",
      "model_module_version": "1.5.0",
      "model_name": "IntProgressModel",
      "state": {
       "bar_style": "success",
       "layout": "IPY_MODEL_f17e9e21a15c4d9ba8991ffc573c78bb",
       "max": 1,
       "style": "IPY_MODEL_e74a1b9363054f42a6909151481d2b27",
       "value": 1
      }
     },
     "f17e9e21a15c4d9ba8991ffc573c78bb": {
      "model_module": "@jupyter-widgets/base",
      "model_module_version": "1.2.0",
      "model_name": "LayoutModel",
      "state": {}
     },
     "f98deef6cc544442a0e9e4fd85a06255": {
      "model_module": "@jupyter-widgets/controls",
      "model_module_version": "1.5.0",
      "model_name": "HBoxModel",
      "state": {
       "children": [
        "IPY_MODEL_15c7ffa1b69a4919ab9a0acfdb7b3180",
        "IPY_MODEL_ca66d848800a4f5ca52c1bb7602ec31d"
       ],
       "layout": "IPY_MODEL_e0c27a94c3844c42acb5a76152e9e5c5"
      }
     },
     "fce1eefa338544cc906d8dce682d4d65": {
      "model_module": "@jupyter-widgets/controls",
      "model_module_version": "1.5.0",
      "model_name": "DescriptionStyleModel",
      "state": {
       "description_width": ""
      }
     }
    },
    "version_major": 2,
    "version_minor": 0
   }
  }
 },
 "nbformat": 4,
 "nbformat_minor": 2
}
